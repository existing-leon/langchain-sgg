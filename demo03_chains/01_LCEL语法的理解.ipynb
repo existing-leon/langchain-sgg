{
 "cells": [
  {
   "cell_type": "markdown",
   "source": [
    "# 关于LCEL语法的使用"
   ],
   "metadata": {
    "collapsed": false
   },
   "id": "6275f3cba8dfc26a"
  },
  {
   "cell_type": "markdown",
   "source": [
    "在使用 | 之前"
   ],
   "metadata": {
    "collapsed": false
   },
   "id": "db8c5891a72e1f5b"
  },
  {
   "cell_type": "code",
   "outputs": [
    {
     "name": "stdout",
     "output_type": "stream",
     "text": [
      "{'joke': '为什么海洋总是很蓝？因为鱼会游泳时总是说‘水’！'}\n"
     ]
    }
   ],
   "source": [
    "from langchain_core.prompts import PromptTemplate\n",
    "from langchain_core.output_parsers import JsonOutputParser\n",
    "from langchain_openai import ChatOpenAI\n",
    "import os\n",
    "import dotenv\n",
    "\n",
    "# 加载环境变量\n",
    "dotenv.load_dotenv()\n",
    "\n",
    "os.environ[\"OPENAI_BASE_URL\"] = os.getenv(\"OPENAI_BASE_URL\")\n",
    "os.environ[\"OPENAI_API_KEY\"] = os.getenv(\"OPENAI_API_KEY\")\n",
    "\n",
    "# 1、获取大模型\n",
    "chat_model = ChatOpenAI(\n",
    "    model=\"gpt-4o-mini\"\n",
    ")\n",
    "\n",
    "joke_query = \"告诉我一个笑话。\"\n",
    "\n",
    "# 定义Json解析器\n",
    "parser = JsonOutputParser()\n",
    "\n",
    "# 2、定义提示词模版\n",
    "# 注意，提示词模板中需要部分格式化解析器的格式要求format_instructions\n",
    "prompt_template = PromptTemplate.from_template(\n",
    "    template=\"回答用户的查询.\\n满足的格式为{format_instructions}\\n问题为{question}\\n\",\n",
    "    partial_variables={\"format_instructions\": parser.get_format_instructions()},\n",
    ")\n",
    "\n",
    "## 写法1：\n",
    "prompt = prompt_template.invoke({\"question\": joke_query})\n",
    "\n",
    "# 3、调用大模型获取返回结果\n",
    "response = chat_model.invoke(prompt)\n",
    "json_result = parser.invoke(response)\n",
    "\n",
    "print(json_result)"
   ],
   "metadata": {
    "collapsed": false,
    "ExecuteTime": {
     "end_time": "2025-10-30T02:49:36.745002Z",
     "start_time": "2025-10-30T02:49:28.326347Z"
    }
   },
   "id": "4d986646542cb4d5",
   "execution_count": 1
  },
  {
   "cell_type": "markdown",
   "source": [
    "在使用 | 之后"
   ],
   "metadata": {
    "collapsed": false
   },
   "id": "e66db45a8f4e5ede"
  },
  {
   "cell_type": "code",
   "outputs": [
    {
     "name": "stdout",
     "output_type": "stream",
     "text": [
      "{'joke': '为什么数学书总是很忧伤？因为它有太多的问题！'}\n"
     ]
    }
   ],
   "source": [
    "from langchain_core.prompts import PromptTemplate\n",
    "from langchain_core.output_parsers import JsonOutputParser\n",
    "from langchain_openai import ChatOpenAI\n",
    "import os\n",
    "import dotenv\n",
    "\n",
    "# 加载环境变量\n",
    "dotenv.load_dotenv()\n",
    "\n",
    "os.environ[\"OPENAI_BASE_URL\"] = os.getenv(\"OPENAI_BASE_URL\")\n",
    "os.environ[\"OPENAI_API_KEY\"] = os.getenv(\"OPENAI_API_KEY\")\n",
    "\n",
    "# 1、获取大模型\n",
    "chat_model = ChatOpenAI(\n",
    "    model=\"gpt-4o-mini\"\n",
    ")\n",
    "\n",
    "joke_query = \"告诉我一个笑话。\"\n",
    "\n",
    "# 定义Json解析器\n",
    "parser = JsonOutputParser()\n",
    "\n",
    "# 2、定义提示词模版\n",
    "# 注意，提示词模板中需要部分格式化解析器的格式要求format_instructions\n",
    "prompt_template = PromptTemplate.from_template(\n",
    "    template=\"回答用户的查询.\\n满足的格式为{format_instructions}\\n问题为{question}\\n\",\n",
    "    partial_variables={\"format_instructions\": parser.get_format_instructions()},\n",
    ")\n",
    "\n",
    "## 写法1：\n",
    "# prompt = prompt_template.invoke({\"question\": joke_query})\n",
    "# # 3、调用大模型获取返回结果\n",
    "# response = chat_model.invoke(prompt)\n",
    "# json_result = parser.invoke(response)\n",
    "\n",
    "## 写法2：\n",
    "chain = prompt_template | chat_model | parser\n",
    "json_result_chain = chain.invoke(\n",
    "    {\"question\": joke_query}\n",
    ")\n",
    "\n",
    "print(json_result_chain)"
   ],
   "metadata": {
    "collapsed": false,
    "ExecuteTime": {
     "end_time": "2025-10-30T02:52:34.856051Z",
     "start_time": "2025-10-30T02:52:30.289612Z"
    }
   },
   "id": "64f9c0b6d910586c",
   "execution_count": 2
  }
 ],
 "metadata": {
  "kernelspec": {
   "display_name": "Python 3",
   "language": "python",
   "name": "python3"
  },
  "language_info": {
   "codemirror_mode": {
    "name": "ipython",
    "version": 2
   },
   "file_extension": ".py",
   "mimetype": "text/x-python",
   "name": "python",
   "nbconvert_exporter": "python",
   "pygments_lexer": "ipython2",
   "version": "2.7.6"
  }
 },
 "nbformat": 4,
 "nbformat_minor": 5
}
