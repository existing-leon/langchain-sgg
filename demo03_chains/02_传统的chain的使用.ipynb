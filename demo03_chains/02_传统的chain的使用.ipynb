{
 "cells": [
  {
   "metadata": {},
   "cell_type": "markdown",
   "source": "# 1、LLMChain的使用",
   "id": "c52df17b544a77cd"
  },
  {
   "metadata": {},
   "cell_type": "markdown",
   "source": [
    "\n",
    "举例1："
   ],
   "id": "84d510596145b2d6"
  },
  {
   "metadata": {
    "ExecuteTime": {
     "end_time": "2025-10-30T15:04:15.231703Z",
     "start_time": "2025-10-30T15:04:06.677433Z"
    }
   },
   "cell_type": "code",
   "source": [
    "from langchain.chains.llm import LLMChain\n",
    "from langchain_core.prompts import PromptTemplate, ChatPromptTemplate\n",
    "from langchain_openai import ChatOpenAI\n",
    "import os\n",
    "import dotenv\n",
    "\n",
    "# 加载环境变量\n",
    "dotenv.load_dotenv()\n",
    "\n",
    "os.environ[\"OPENAI_BASE_URL\"] = os.getenv(\"OPENAI_BASE_URL\")\n",
    "os.environ[\"OPENAI_API_KEY\"] = os.getenv(\"OPENAI_API_KEY\")\n",
    "\n",
    "# 1、创建获取大模型\n",
    "chat_model = ChatOpenAI(model=\"gpt-4o-mini\")\n",
    "\n",
    "# 2、提供提示词模版\n",
    "# BasePromptTemplate的典型子类有：PromptTemplate、ChatPromptTemplate\n",
    "prompt_template = PromptTemplate.from_template(\n",
    "    template=\"你是一个数学高手, 帮我解决如下的数学问题：{question}\"\n",
    ")\n",
    "\n",
    "# 3、构建LLMChain\n",
    "llm_chain = LLMChain(llm=chat_model, prompt=prompt_template)\n",
    "\n",
    "response = llm_chain.invoke(input={\"question\": \"1 + 2 * 3 = ?\"})\n",
    "print(response)"
   ],
   "id": "92a40361c09c1a51",
   "outputs": [
    {
     "name": "stdout",
     "output_type": "stream",
     "text": [
      "{'question': '1 + 2 * 3 = ?', 'text': '根据数学运算的优先级，首先进行乘法运算，然后再进行加法运算。\\n\\n所以：\\n\\n1 + 2 * 3 = 1 + 6 = 7\\n\\n答案是 7。'}\n"
     ]
    }
   ],
   "execution_count": 17
  },
  {
   "metadata": {},
   "cell_type": "markdown",
   "source": "举例2：测试 ChatPromptTemplate & verbose 变量的使用",
   "id": "7e68b38bee05a976"
  },
  {
   "metadata": {
    "ExecuteTime": {
     "end_time": "2025-10-30T15:14:42.064322Z",
     "start_time": "2025-10-30T15:14:33.777895Z"
    }
   },
   "cell_type": "code",
   "source": [
    "from langchain.chains.llm import LLMChain\n",
    "from langchain_core.prompts import ChatPromptTemplate\n",
    "from langchain_openai import ChatOpenAI\n",
    "import os\n",
    "import dotenv\n",
    "\n",
    "# 加载环境变量\n",
    "dotenv.load_dotenv()\n",
    "\n",
    "os.environ[\"OPENAI_BASE_URL\"] = os.getenv(\"OPENAI_BASE_URL\")\n",
    "os.environ[\"OPENAI_API_KEY\"] = os.getenv(\"OPENAI_API_KEY\")\n",
    "\n",
    "# 1、创建获取大模型\n",
    "chat_model = ChatOpenAI(model=\"gpt-4o-mini\")\n",
    "\n",
    "# 2、提供提示词模版\n",
    "# BasePromptTemplate的典型子类有：PromptTemplate、ChatPromptTemplate\n",
    "prompt_template = ChatPromptTemplate.from_messages(\n",
    "    [\n",
    "        (\"system\", \"你是一个数学高手\"),\n",
    "        (\"human\", \"帮我解决如下的数学问题：{question}\")\n",
    "    ]\n",
    ")\n",
    "\n",
    "# 3、构建LLMChain\n",
    "llm_chain = LLMChain(\n",
    "    llm=chat_model,\n",
    "    prompt=prompt_template,\n",
    "    verbose=True    # 显示执行过程中的详细日志情况\n",
    ")\n",
    "\n",
    "response = llm_chain.invoke(input={\"question\": \"1 + 2 * 3 = ?\"})\n",
    "print(response)"
   ],
   "id": "e797d2401b79679f",
   "outputs": [
    {
     "name": "stdout",
     "output_type": "stream",
     "text": [
      "\n",
      "\n",
      "\u001B[1m> Entering new LLMChain chain...\u001B[0m\n",
      "Prompt after formatting:\n",
      "\u001B[32;1m\u001B[1;3mSystem: 你是一个数学高手\n",
      "Human: 帮我解决如下的数学问题：1 + 2 * 3 = ?\u001B[0m\n",
      "\n",
      "\u001B[1m> Finished chain.\u001B[0m\n",
      "{'question': '1 + 2 * 3 = ?', 'text': '根据数学的优先级，先进行乘法运算，再进行加法运算。\\n\\n所以：\\n\\n1 + 2 * 3 = 1 + 6 = 7\\n\\n因此，答案是 7。'}\n"
     ]
    }
   ],
   "execution_count": 18
  }
 ],
 "metadata": {
  "kernelspec": {
   "display_name": "Python 3",
   "language": "python",
   "name": "python3"
  },
  "language_info": {
   "codemirror_mode": {
    "name": "ipython",
    "version": 2
   },
   "file_extension": ".py",
   "mimetype": "text/x-python",
   "name": "python",
   "nbconvert_exporter": "python",
   "pygments_lexer": "ipython2",
   "version": "2.7.6"
  }
 },
 "nbformat": 4,
 "nbformat_minor": 5
}
