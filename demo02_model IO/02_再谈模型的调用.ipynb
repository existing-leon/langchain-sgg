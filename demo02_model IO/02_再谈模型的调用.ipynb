{
 "cells": [
  {
   "cell_type": "markdown",
   "source": [
    "# 1、关于对话模型中消息（message）的使用\n",
    "\n",
    "标准的对话模型的调用过程\n",
    "\n",
    "invoke()的输入可以是多种类型, 典型的类型有：①字符串类型 ②消息列表\n",
    "\n",
    "invoke()的输出类型：BaseMessage的子类：AIMessage"
   ],
   "metadata": {
    "collapsed": false
   },
   "id": "51b927f831ffea63"
  },
  {
   "cell_type": "code",
   "outputs": [
    {
     "name": "stdout",
     "output_type": "stream",
     "text": [
      "content='LangChain 是一个开源框架，旨在帮助开发者构建基于语言模型的应用程序。它提供了工具和接口，使得与不同类型的语言模型（例如 GPT-3、GPT-4 等）互动变得更加简单和高效。LangChain 主要用于以下几个方面：\\n\\n1. **链式调用**：LangChain 允许将多个操作（如文本生成、信息提取和数据处理）串联起来，从而创建复杂的工作流。这种链式结构使得开发者可以更好地组织和管理代码。\\n\\n2. **数据源连接**：LangChain 可以与多种数据源（如数据库、API 和文档）连接，以便将外部信息与语言模型结合，从而生成更智能的输出。\\n\\n3. **对话管理**：框架提供了管理对话状态和上下文的工具，使得构建对话系统变得更加灵活和强大。\\n\\n4. **组件化设计**：LangChain 采用组件化的设计，允许开发者根据需求选择和组合不同的模块，以实现特定的功能。\\n\\n5. **可扩展性**：由于其开源特性，开发者可以根据自己的需要对 LangChain 进行扩展和定制，以满足特定的应用需求。\\n\\n总的来说，LangChain 提供了一个高效、灵活的环境，使得开发基于语言模型的应用程序变得更加容易，适用于多种场景，包括聊天机器人、文本分析和自动化工作流等。' additional_kwargs={'refusal': None} response_metadata={'token_usage': {'completion_tokens': 330, 'prompt_tokens': 16, 'total_tokens': 346, 'completion_tokens_details': {'accepted_prediction_tokens': 0, 'audio_tokens': 0, 'reasoning_tokens': 0, 'rejected_prediction_tokens': 0}, 'prompt_tokens_details': {'audio_tokens': 0, 'cached_tokens': 0}}, 'model_name': 'gpt-4o-mini-2024-07-18', 'system_fingerprint': 'fp_efad92c60b', 'id': 'chatcmpl-CT1wQ7QnpfBXXx0qj9DXLIlX1KmX7', 'service_tier': None, 'finish_reason': 'stop', 'logprobs': None} id='run--a9f81301-deb5-4fb9-870d-caaf33976530-0' usage_metadata={'input_tokens': 16, 'output_tokens': 330, 'total_tokens': 346, 'input_token_details': {'audio': 0, 'cache_read': 0}, 'output_token_details': {'audio': 0, 'reasoning': 0}}\n",
      "<class 'langchain_core.messages.ai.AIMessage'>\n",
      "LangChain 是一个开源框架，旨在帮助开发者构建基于语言模型的应用程序。它提供了工具和接口，使得与不同类型的语言模型（例如 GPT-3、GPT-4 等）互动变得更加简单和高效。LangChain 主要用于以下几个方面：\n",
      "\n",
      "1. **链式调用**：LangChain 允许将多个操作（如文本生成、信息提取和数据处理）串联起来，从而创建复杂的工作流。这种链式结构使得开发者可以更好地组织和管理代码。\n",
      "\n",
      "2. **数据源连接**：LangChain 可以与多种数据源（如数据库、API 和文档）连接，以便将外部信息与语言模型结合，从而生成更智能的输出。\n",
      "\n",
      "3. **对话管理**：框架提供了管理对话状态和上下文的工具，使得构建对话系统变得更加灵活和强大。\n",
      "\n",
      "4. **组件化设计**：LangChain 采用组件化的设计，允许开发者根据需求选择和组合不同的模块，以实现特定的功能。\n",
      "\n",
      "5. **可扩展性**：由于其开源特性，开发者可以根据自己的需要对 LangChain 进行扩展和定制，以满足特定的应用需求。\n",
      "\n",
      "总的来说，LangChain 提供了一个高效、灵活的环境，使得开发基于语言模型的应用程序变得更加容易，适用于多种场景，包括聊天机器人、文本分析和自动化工作流等。\n"
     ]
    }
   ],
   "source": [
    "import os\n",
    "import dotenv\n",
    "\n",
    "from langchain_openai import ChatOpenAI\n",
    "\n",
    "# 加载配置文件\n",
    "dotenv.load_dotenv()\n",
    "\n",
    "os.environ[\"OPENAI_API_KEY\"] = os.getenv('OPENAI_API_KEY')\n",
    "os.environ[\"OPENAI_BASE_URL\"] = os.getenv('OPENAI_BASE_URL')\n",
    "\n",
    "# 1、获取对话模型\n",
    "chat_model = ChatOpenAI(\n",
    "    model=\"gpt-4o-mini\",\n",
    "    # base_url=os.getenv('OPENAI_BASE_URL'),\n",
    "    # api_key=os.getenv('OPENAI_API_KEY1')\n",
    ")\n",
    "\n",
    "# 2、调用对话模型\n",
    "response = chat_model.invoke(\"帮我解释一下什么是langchain?\")\n",
    "\n",
    "# 3、处理响应数据\n",
    "print(response)\n",
    "print(type(response))  # <class 'langchain_core.messages.ai.AIMessage'>\n",
    "# print(response.content)\n"
   ],
   "metadata": {
    "collapsed": false,
    "ExecuteTime": {
     "end_time": "2025-10-21T08:23:33.104382Z",
     "start_time": "2025-10-21T08:23:29.329813Z"
    }
   },
   "id": "42072b819c03ac95",
   "execution_count": 11
  },
  {
   "cell_type": "markdown",
   "source": [
    "关于消息：\n",
    "\n",
    "有典型的三类消息：SystemMessage \\ HumanMessage \\ AIMessage\n",
    "\n",
    "举例1："
   ],
   "metadata": {
    "collapsed": false
   },
   "id": "3e72bf728b09cb52"
  },
  {
   "cell_type": "code",
   "outputs": [
    {
     "name": "stdout",
     "output_type": "stream",
     "text": [
      "[SystemMessage(content='你是一个英语教学方向的专家', additional_kwargs={}, response_metadata={}), HumanMessage(content='帮我制定一个英语六级学习的计划', additional_kwargs={}, response_metadata={})]\n"
     ]
    }
   ],
   "source": [
    "from langchain_core.messages import SystemMessage, HumanMessage\n",
    "\n",
    "system_message = SystemMessage(content=\"你是一个英语教学方向的专家\")\n",
    "human_message = HumanMessage(content=\"帮我制定一个英语六级学习的计划\")\n",
    "\n",
    "messages = [system_message, human_message]\n",
    "\n",
    "print(messages)"
   ],
   "metadata": {
    "collapsed": false,
    "ExecuteTime": {
     "end_time": "2025-10-21T08:34:13.364504Z",
     "start_time": "2025-10-21T08:34:13.342555Z"
    }
   },
   "id": "4876c4c6e5a7e8be",
   "execution_count": 12
  },
  {
   "cell_type": "markdown",
   "source": [
    "使用大模型, 调用消息列表"
   ],
   "metadata": {
    "collapsed": false
   },
   "id": "6ba0a63083dbfa1c"
  },
  {
   "cell_type": "code",
   "outputs": [
    {
     "name": "stdout",
     "output_type": "stream",
     "text": [
      "<class 'langchain_core.messages.ai.AIMessage'>\n",
      "当然可以！以下是一个为期三个月的英语六级学习计划，帮助你系统提高英语水平，顺利通过六级考试。计划分为周计划和每日任务，具体如下：\n",
      "\n",
      "### 学习计划总览\n",
      "\n",
      "**学习时间**: 3个月（12周）  \n",
      "**每周学习时长**: 10-15小时  \n",
      "**学习内容**: 听力、阅读、写作、翻译、词汇、真题练习\n",
      "\n",
      "---\n",
      "\n",
      "### 第1-4周: 基础打牢阶段\n",
      "\n",
      "#### 每周任务：\n",
      "- **词汇**: 每周学习300个六级词汇，使用词汇卡片或APP背诵。\n",
      "- **听力**: 每天听1-2个六级听力材料（可使用真题或在线资源），并进行听写练习。\n",
      "- **阅读**: 每天阅读1篇六级阅读理解，分析每一题的考点和解题方法。\n",
      "- **写作**: 每周写1篇六级写作练习（150-200词），并请老师或同学给予反馈。\n",
      "- **翻译**: 每周进行1-2篇中翻英或英翻中的练习。\n",
      "\n",
      "### 第5-8周: 技能提高阶段\n",
      "\n",
      "#### 每周任务：\n",
      "- **词汇**: 继续每周学习300个词汇，并复习前4周的词汇。\n",
      "- **听力**: 每天进行听力材料的精听与泛听结合，尝试听写和总结内容。\n",
      "- **阅读**: 开始做整套六级真题阅读，掌握时间管理，逐步提升速度和准确性。\n",
      "- **写作**: 每周写1篇六级作文，提升逻辑结构及用词。\n",
      "- **翻译**: 每周进行2篇翻译练习，并对照标准答案进行分析。\n",
      "\n",
      "### 第9-12周: 模拟冲刺阶段\n",
      "\n",
      "#### 每周任务：\n",
      "- **词汇**: 复习所有词汇，进行自我测试。\n",
      "- **听力**: 完整听4套真题听力，并总结错题原因，提升针对性。\n",
      "- **阅读**: 完成4套真题阅读，模拟考试环境，掌握做题节奏。\n",
      "- **写作**: 集中练习六级考试常见话题，整理写作模板。\n",
      "- **翻译**: 针对六级常见翻译题型进行专项训练，通过做真题提升能力。\n",
      "\n",
      "### 额外建议：\n",
      "1. 每周进行一次模拟考试，包含听力、阅读、写作和翻译，时间严格按照考试要求。\n",
      "2. 利用网络资源，如雅思、托福课件，帮助自己更好理解英语语境。\n",
      "3. 参加线上或线下的学习小组，增强学习动力和互动。\n",
      "4. 考虑下载一些英语学习App，定期进行测验和反馈。\n",
      "\n",
      "坚持按照这个计划学习，相信你在六级考试中能够取得好成绩！加油！\n"
     ]
    }
   ],
   "source": [
    "response = chat_model.invoke(messages)\n",
    "\n",
    "print(type(response))\n",
    "print(response.content)"
   ],
   "metadata": {
    "collapsed": false,
    "ExecuteTime": {
     "end_time": "2025-10-21T09:11:53.169509Z",
     "start_time": "2025-10-21T09:11:42.869002Z"
    }
   },
   "id": "8d22bec6cf445583",
   "execution_count": 14
  },
  {
   "cell_type": "markdown",
   "source": [
    "举例2："
   ],
   "metadata": {
    "collapsed": false
   },
   "id": "25867d6170c79cc0"
  },
  {
   "cell_type": "code",
   "outputs": [
    {
     "name": "stdout",
     "output_type": "stream",
     "text": [
      "[SystemMessage(content='你是一个英语教学方向的专家', additional_kwargs={'tools': 'invoke_func1'}, response_metadata={}), HumanMessage(content='帮我制定一个英语六级学习的计划', additional_kwargs={}, response_metadata={})]\n"
     ]
    }
   ],
   "source": [
    "from langchain_core.messages import SystemMessage, HumanMessage\n",
    "\n",
    "system_message = SystemMessage(\n",
    "    content=\"你是一个英语教学方向的专家\",\n",
    "    additional_kwargs={\"tools\": \"invoke_func1\"}\n",
    ")\n",
    "human_message = HumanMessage(content=\"帮我制定一个英语六级学习的计划\")\n",
    "\n",
    "messages = [system_message, human_message]\n",
    "\n",
    "print(messages)"
   ],
   "metadata": {
    "collapsed": false,
    "ExecuteTime": {
     "end_time": "2025-10-21T09:17:17.925825Z",
     "start_time": "2025-10-21T09:17:17.913313Z"
    }
   },
   "id": "e1e58c0500195399",
   "execution_count": 15
  },
  {
   "cell_type": "markdown",
   "source": [
    "举例3："
   ],
   "metadata": {
    "collapsed": false
   },
   "id": "6ef39d1e10279918"
  },
  {
   "cell_type": "code",
   "outputs": [
    {
     "name": "stdout",
     "output_type": "stream",
     "text": [
      "[SystemMessage(content='你是一个AI开发工程师', additional_kwargs={'tool': 'invoke_tool()'}, response_metadata={}), HumanMessage(content='你能开发哪些AI应用?', additional_kwargs={}, response_metadata={}), AIMessage(content='我能开发很多AI应用, 比如聊天机器人, 图像识别, 自然语言处理等', additional_kwargs={}, response_metadata={})]\n"
     ]
    }
   ],
   "source": [
    "#1.导入相关包\n",
    "from langchain_core.messages import SystemMessage, HumanMessage, AIMessage\n",
    "\n",
    "# 2.直接创建不同类型消息\n",
    "systemMessage = SystemMessage(\n",
    "    content=\"你是一个AI开发工程师\",\n",
    "    additional_kwargs={\"tool\": \"invoke_tool()\"}\n",
    ")\n",
    "humanMessage = HumanMessage(\n",
    "    content=\"你能开发哪些AI应用?\"\n",
    ")\n",
    "aiMessage = AIMessage(\n",
    "    content=\"我能开发很多AI应用, 比如聊天机器人, 图像识别, 自然语言处理等\"\n",
    ")\n",
    "# 3.打印消息列表\n",
    "messages = [systemMessage, humanMessage, aiMessage]\n",
    "print(messages)\n"
   ],
   "metadata": {
    "collapsed": false,
    "ExecuteTime": {
     "end_time": "2025-10-21T09:21:26.584810Z",
     "start_time": "2025-10-21T09:21:26.560876Z"
    }
   },
   "id": "9e965fb54ff08d87",
   "execution_count": 16
  },
  {
   "cell_type": "markdown",
   "source": [
    "# 2、关于多轮对话与上下文记忆\n",
    "\n",
    "前提：获取大模型"
   ],
   "metadata": {
    "collapsed": false
   },
   "id": "ec8a50e5e7daa323"
  },
  {
   "cell_type": "code",
   "outputs": [],
   "source": [
    "import os\n",
    "import dotenv\n",
    "from langchain_openai import ChatOpenAI\n",
    "\n",
    "dotenv.load_dotenv()\n",
    "os.environ['OPENAI_API_KEY'] = os.getenv(\"OPENAI_API_KEY1\")\n",
    "os.environ['OPENAI_BASE_URL'] = os.getenv(\"OPENAI_BASE_URL\")\n",
    "chat_model = ChatOpenAI(\n",
    "    model=\"gpt-4o-mini\"\n",
    ")"
   ],
   "metadata": {
    "collapsed": false,
    "ExecuteTime": {
     "end_time": "2025-10-22T02:32:53.925452Z",
     "start_time": "2025-10-22T02:32:53.765593Z"
    }
   },
   "id": "a4f9ec36a4f65d56",
   "execution_count": 17
  },
  {
   "cell_type": "markdown",
   "source": [
    "测试1：大模型本身是没有上下文记忆的"
   ],
   "metadata": {
    "collapsed": false
   },
   "id": "9421442bd430fd7f"
  },
  {
   "cell_type": "code",
   "outputs": [
    {
     "name": "stdout",
     "output_type": "stream",
     "text": [
      "“猫王”通常指的是美国摇滚乐传奇艾尔维斯·普雷斯利（Elvis Presley），由于他的名字和形象常与猫结合而称为“猫王”。但实际上，他并不是一只猫，而是人类音乐家。如果你是在问某个特定的猫或者宠物，那么也可以提供更多信息，我可以帮你解答！\n",
      "我是一个人工智能助手，没有具体的名字。你可以叫我助手或AI。如果你有什么问题或需要帮助，随时可以问我！\n"
     ]
    }
   ],
   "source": [
    "from langchain_core.messages import SystemMessage, HumanMessage\n",
    "\n",
    "sys_message = SystemMessage(\n",
    "    content=\"我是一个人工智能的助手，我的名字叫小智\",\n",
    ")\n",
    "human_message = HumanMessage(content=\"猫王是一只猫吗？\")\n",
    "messages = [sys_message, human_message]\n",
    "#调用大模型，传入messages\n",
    "response = chat_model.invoke(messages)\n",
    "# print(response.content)\n",
    "\n",
    "response1 = chat_model.invoke(\"你叫什么名字？\")\n",
    "print(response1.content)"
   ],
   "metadata": {
    "collapsed": false,
    "ExecuteTime": {
     "end_time": "2025-10-22T02:33:00.543739Z",
     "start_time": "2025-10-22T02:32:56.984351Z"
    }
   },
   "id": "a3cb1324edc7cf4c",
   "execution_count": 18
  },
  {
   "cell_type": "markdown",
   "source": [
    "测试2："
   ],
   "metadata": {
    "collapsed": false
   },
   "id": "df0f0605020f1a5e"
  },
  {
   "cell_type": "code",
   "outputs": [
    {
     "name": "stdout",
     "output_type": "stream",
     "text": [
      "我叫小智，很高兴为你服务！请问有什么我可以帮助你的吗？\n"
     ]
    }
   ],
   "source": [
    "from langchain_core.messages import SystemMessage, HumanMessage\n",
    "\n",
    "sys_message = SystemMessage(\n",
    "    content=\"我是一个人工智能的助手，我的名字叫小智\",\n",
    ")\n",
    "human_message = HumanMessage(content=\"猫王是一只猫吗？\")\n",
    "human_message1 = HumanMessage(content=\"你叫什么名字？\")\n",
    "\n",
    "messages = [sys_message, human_message, human_message1]\n",
    "\n",
    "#调用大模型，传入messages\n",
    "response = chat_model.invoke(messages)\n",
    "print(response.content)"
   ],
   "metadata": {
    "collapsed": false,
    "ExecuteTime": {
     "end_time": "2025-10-22T02:34:48.478346Z",
     "start_time": "2025-10-22T02:34:46.826417Z"
    }
   },
   "id": "91533e210161ad1e",
   "execution_count": 19
  },
  {
   "cell_type": "markdown",
   "source": [
    "测试3："
   ],
   "metadata": {
    "collapsed": false
   },
   "id": "f0a27abc1a12b87d"
  },
  {
   "cell_type": "code",
   "outputs": [
    {
     "name": "stdout",
     "output_type": "stream",
     "text": [
      "我叫小智，很高兴为你服务！有什么我可以帮助你的吗？\n"
     ]
    }
   ],
   "source": [
    "from langchain_core.messages import SystemMessage, HumanMessage\n",
    "\n",
    "sys_message = SystemMessage(\n",
    "    content=\"我是一个人工智能的助手，我的名字叫小智\",\n",
    ")\n",
    "human_message = HumanMessage(content=\"猫王是一只猫吗？\")\n",
    "\n",
    "sys_message1 = SystemMessage(\n",
    "    content=\"我可以做很多事情，有需要就找我吧\",\n",
    ")\n",
    "\n",
    "human_message1 = HumanMessage(content=\"你叫什么名字？\")\n",
    "\n",
    "messages = [sys_message, human_message, sys_message1, human_message1]\n",
    "\n",
    "#调用大模型，传入messages\n",
    "response = chat_model.invoke(messages)\n",
    "print(response.content)\n"
   ],
   "metadata": {
    "collapsed": false,
    "ExecuteTime": {
     "end_time": "2025-10-22T02:37:08.356127Z",
     "start_time": "2025-10-22T02:37:06.524232Z"
    }
   },
   "id": "7e7d519f844c269f",
   "execution_count": 20
  },
  {
   "cell_type": "markdown",
   "source": [
    "测试4："
   ],
   "metadata": {
    "collapsed": false
   },
   "id": "b18f5f913e8fb8c7"
  },
  {
   "cell_type": "code",
   "outputs": [
    {
     "name": "stdout",
     "output_type": "stream",
     "text": [
      "\"猫王\"通常指的是埃尔维斯·普雷斯利（Elvis Presley），他被称为“猫王”是因为他的音乐风格和影响力。不过，有时人们也可能用“猫王”来指代某只特别的猫或者是某个与猫相关的角色。在具体情况中，\"猫王\"可以有不同的含义，请问你指的是哪个方面呢？\n",
      "我没有具体的名字，你可以叫我助手或者AI。如果你有任何问题或需要帮助，随时告诉我！\n"
     ]
    }
   ],
   "source": [
    "from langchain_core.messages import SystemMessage, HumanMessage\n",
    "\n",
    "# 第1组\n",
    "sys_message = SystemMessage(\n",
    "    content=\"我是一个人工智能的助手，我的名字叫小智\"\n",
    ")\n",
    "human_message = HumanMessage(content=\"猫王是一只猫吗？\")\n",
    "\n",
    "messages = [sys_message, human_message]\n",
    "\n",
    "# 第2组\n",
    "sys_message1 = SystemMessage(\n",
    "    content=\"我可以做很多事情，有需要就找我吧\",\n",
    ")\n",
    "human_message1 = HumanMessage(content=\"你叫什么名字？\")\n",
    "\n",
    "messages1 = [sys_message1, human_message1]\n",
    "\n",
    "#调用大模型，传入messages\n",
    "response = chat_model.invoke(messages)\n",
    "print(response.content)\n",
    "\n",
    "response = chat_model.invoke(messages1)\n",
    "print(response.content)\n"
   ],
   "metadata": {
    "collapsed": false,
    "ExecuteTime": {
     "end_time": "2025-10-22T02:44:44.352148Z",
     "start_time": "2025-10-22T02:44:41.500709Z"
    }
   },
   "id": "5d3a191684572fca",
   "execution_count": 21
  },
  {
   "cell_type": "markdown",
   "source": [
    "测试5："
   ],
   "metadata": {
    "collapsed": false
   },
   "id": "58083f93ab5093bd"
  },
  {
   "cell_type": "code",
   "outputs": [
    {
     "data": {
      "text/plain": "AIMessage(content='我叫小智。你有什么问题或者需要帮助的吗？', additional_kwargs={'refusal': None}, response_metadata={'token_usage': {'completion_tokens': 14, 'prompt_tokens': 40, 'total_tokens': 54, 'completion_tokens_details': {'accepted_prediction_tokens': 0, 'audio_tokens': 0, 'reasoning_tokens': 0, 'rejected_prediction_tokens': 0}, 'prompt_tokens_details': {'audio_tokens': 0, 'cached_tokens': 0}}, 'model_name': 'gpt-4o-mini-2024-07-18', 'system_fingerprint': 'fp_efad92c60b', 'id': 'chatcmpl-CTJAZBH6yW1H7ZG1u576bws37IJxy', 'service_tier': None, 'finish_reason': 'stop', 'logprobs': None}, id='run--d275a8a0-8dbf-42da-9417-8241d74f297b-0', usage_metadata={'input_tokens': 40, 'output_tokens': 14, 'total_tokens': 54, 'input_token_details': {'audio': 0, 'cache_read': 0}, 'output_token_details': {'audio': 0, 'reasoning': 0}})"
     },
     "execution_count": 22,
     "metadata": {},
     "output_type": "execute_result"
    }
   ],
   "source": [
    "from langchain_core.messages import SystemMessage, HumanMessage, AIMessage\n",
    "\n",
    "messages = [\n",
    "    SystemMessage(content=\"我是一个人工智能助手，我的名字叫小智\"),\n",
    "    HumanMessage(content=\"人工智能英文怎么说？\"),\n",
    "    AIMessage(content=\"AI\"),\n",
    "    HumanMessage(content=\"你叫什么名字\"),\n",
    "]\n",
    "\n",
    "messages1 = [\n",
    "    SystemMessage(content=\"我是一个人工智能助手，我的名字叫小智\"),\n",
    "    HumanMessage(content=\"很高兴认识你\"),\n",
    "    AIMessage(content=\"我也很高兴认识你\"),\n",
    "    HumanMessage(content=\"你叫什么名字\"),\n",
    "]\n",
    "\n",
    "messages2 = [\n",
    "    SystemMessage(content=\"我是一个人工智能助手，我的名字叫小智\"),\n",
    "    HumanMessage(content=\"人工智能英文怎么说？\"),\n",
    "    AIMessage(content=\"AI\"),\n",
    "    HumanMessage(content=\"你叫什么名字\"),\n",
    "]\n",
    "\n",
    "chat_model.invoke(messages2)"
   ],
   "metadata": {
    "collapsed": false,
    "ExecuteTime": {
     "end_time": "2025-10-22T02:47:16.365322Z",
     "start_time": "2025-10-22T02:47:14.354559Z"
    }
   },
   "id": "e43f079464d6a316",
   "execution_count": 22
  },
  {
   "cell_type": "markdown",
   "source": [
    "# 3、关于模型调用的方法的说明\n",
    "\n",
    "invoke() \\ stream()\n",
    "\n",
    "batch()：批量的调用\n",
    "\n",
    "ainvoke() \\ astream() \\ abatch() ：异步方法的调用\n",
    "\n",
    "举例1：体会 invoke() 阻塞式的调用"
   ],
   "metadata": {
    "collapsed": false
   },
   "id": "ab6317a9b91495b"
  },
  {
   "cell_type": "code",
   "outputs": [
    {
     "name": "stdout",
     "output_type": "stream",
     "text": [
      "content='你好！我是一款人工智能助手，旨在提供信息和回答问题。我的知识涵盖多个领域，包括科技、历史、文化等。如果你有任何问题或者需要帮助的地方，随时可以问我！' additional_kwargs={'refusal': None} response_metadata={'token_usage': {'completion_tokens': 48, 'prompt_tokens': 12, 'total_tokens': 60, 'completion_tokens_details': {'accepted_prediction_tokens': 0, 'audio_tokens': 0, 'reasoning_tokens': 0, 'rejected_prediction_tokens': 0}, 'prompt_tokens_details': {'audio_tokens': 0, 'cached_tokens': 0}}, 'model_name': 'gpt-4o-mini-2024-07-18', 'system_fingerprint': 'fp_efad92c60b', 'id': 'chatcmpl-CTJUrvIR6C2gnudIbJ8EoeKpcZrSZ', 'service_tier': None, 'finish_reason': 'stop', 'logprobs': None} id='run--dfdda7bd-6d79-4204-9f1b-184e7ace28d5-0' usage_metadata={'input_tokens': 12, 'output_tokens': 48, 'total_tokens': 60, 'input_token_details': {'audio': 0, 'cache_read': 0}, 'output_token_details': {'audio': 0, 'reasoning': 0}}\n"
     ]
    }
   ],
   "source": [
    "import os\n",
    "import dotenv\n",
    "from langchain_core.messages import HumanMessage\n",
    "from langchain_openai import ChatOpenAI\n",
    "\n",
    "dotenv.load_dotenv()\n",
    "\n",
    "os.environ['OPENAI_API_KEY'] = os.getenv(\"OPENAI_API_KEY1\")\n",
    "os.environ['OPENAI_BASE_URL'] = os.getenv(\"OPENAI_BASE_URL\")\n",
    "\n",
    "#初始化大模型\n",
    "chat_model = ChatOpenAI(model=\"gpt-4o-mini\")\n",
    "\n",
    "# 创建消息\n",
    "messages = [HumanMessage(content=\"你好，请介绍一下自己\")]\n",
    "\n",
    "# 非流式调用LLM获取响应\n",
    "response = chat_model.invoke(messages)\n",
    "\n",
    "# 打印响应内容\n",
    "print(response)\n"
   ],
   "metadata": {
    "collapsed": false,
    "ExecuteTime": {
     "end_time": "2025-10-22T03:08:13.684210Z",
     "start_time": "2025-10-22T03:08:12.160222Z"
    }
   },
   "id": "7abdf8f9f1e5f0c7",
   "execution_count": 23
  },
  {
   "cell_type": "markdown",
   "source": [
    "举例2：流式stream()的调用"
   ],
   "metadata": {
    "collapsed": false
   },
   "id": "b6c4119a3caa0e5e"
  },
  {
   "cell_type": "code",
   "outputs": [
    {
     "name": "stdout",
     "output_type": "stream",
     "text": [
      "开始流式输出：\n",
      "你好！我是一个人工智能助手，旨在帮助解答问题、提供信息和支持各种任务。无论你想要了解什么，或者需要什么样的帮助，尽管告诉我，我会尽力帮助你！\n",
      "流式输出结束\n"
     ]
    }
   ],
   "source": [
    "import os\n",
    "import dotenv\n",
    "from langchain_core.messages import HumanMessage\n",
    "from langchain_openai import ChatOpenAI\n",
    "\n",
    "dotenv.load_dotenv()\n",
    "\n",
    "os.environ['OPENAI_API_KEY'] = os.getenv(\"OPENAI_API_KEY\")\n",
    "os.environ['OPENAI_BASE_URL'] = os.getenv(\"OPENAI_BASE_URL\")\n",
    "\n",
    "# 初始化大模型\n",
    "chat_model = ChatOpenAI(model=\"gpt-4o-mini\",\n",
    "                        streaming=True  # 启用流式输出\n",
    "                        )\n",
    "\n",
    "# 创建消息\n",
    "messages = [HumanMessage(content=\"你好，请介绍一下自己\")]\n",
    "\n",
    "# 流式调用LLM获取响应\n",
    "print(\"开始流式输出：\")\n",
    "for chunk in chat_model.stream(messages):\n",
    "    # 逐个打印内容块\n",
    "    print(chunk.content, end=\"\", flush=True)  # 刷新缓冲区 (无换行符，缓冲区未刷新，内容可能不会立即显示)\n",
    "\n",
    "print(\"\\n流式输出结束\")"
   ],
   "metadata": {
    "collapsed": false,
    "ExecuteTime": {
     "end_time": "2025-10-22T03:13:46.249430Z",
     "start_time": "2025-10-22T03:13:44.603965Z"
    }
   },
   "id": "9911d3a1bac6d34b",
   "execution_count": 25
  },
  {
   "cell_type": "markdown",
   "source": [
    "举例3：使用 batch() 测试批量调用"
   ],
   "metadata": {
    "collapsed": false
   },
   "id": "9c56bfc0ea3e48af"
  },
  {
   "cell_type": "code",
   "outputs": [
    {
     "name": "stdout",
     "output_type": "stream",
     "text": [
      "[AIMessage(content='机器学习是人工智能的一个子领域，它使计算机系统能够通过经验自动改进。简单来说，机器学习是在没有明确编程的情况下，让计算机通过数据学习并做出预测或决策的过程。\\n\\n机器学习的基本步骤包括：\\n\\n1. **数据收集**：收集大量的数据，这些数据可以是文本、图像、音频、视频等不同形式。\\n   \\n2. **数据预处理**：对收集到的数据进行清洗和准备，这可能包括去除噪声、处理缺失值和标准化数据等。\\n\\n3. **模型选择**：选择一种合适的机器学习算法来处理数据，例如线性回归、决策树、随机森林、支持向量机、神经网络等。\\n\\n4. **训练模型**：使用训练数据集来“教”计算机，通过调整模型中的参数，使其能够学习从输入数据中提取规律。\\n\\n5. **模型评估**：使用测试数据集评估模型的性能，确保它能在未见过的数据上做出准确的预测。\\n\\n6. **模型应用**：将训练好的模型应用于实际问题中，如分类、回归、聚类等任务。\\n\\n机器学习可以分为几种主要类型：\\n\\n- **监督学习**：使用带标签的数据进行训练，模型根据输入和目标输出学习映射关系。例如，图像分类就是一个监督学习的应用。\\n\\n- **无监督学习**：使用无标签的数据进行训练，模型尝试从数据中寻找潜在的结构或模式。例如，聚类分析是一种无监督学习的技术。\\n\\n- **半监督学习**：结合监督学习和无监督学习，使用少量标记数据和大量未标记数据进行训练。\\n\\n- **强化学习**：通过与环境的交互学习，模型根据反馈信号（奖励或惩罚）调整其行为策略，以达到最优决策。\\n\\n机器学习在各个领域都有广泛应用，比如自然语言处理、计算机视觉、金融预测、医疗诊断、推荐系统等。随着算法和计算能力的提高，机器学习的应用潜力也在不断扩大。', additional_kwargs={'refusal': None}, response_metadata={'token_usage': {'completion_tokens': 461, 'prompt_tokens': 30, 'total_tokens': 491, 'completion_tokens_details': {'accepted_prediction_tokens': 0, 'audio_tokens': 0, 'reasoning_tokens': 0, 'rejected_prediction_tokens': 0}, 'prompt_tokens_details': {'audio_tokens': 0, 'cached_tokens': 0}}, 'model_name': 'gpt-4o-mini-2024-07-18', 'system_fingerprint': 'fp_efad92c60b', 'id': 'chatcmpl-CTJn1ZRzpyhzIIe2egvKhkyyngjGM', 'service_tier': None, 'finish_reason': 'stop', 'logprobs': None}, id='run--41cf3d60-9449-46f3-b376-b2fcf0c45153-0', usage_metadata={'input_tokens': 30, 'output_tokens': 461, 'total_tokens': 491, 'input_token_details': {'audio': 0, 'cache_read': 0}, 'output_token_details': {'audio': 0, 'reasoning': 0}}), AIMessage(content='AIGC（Artificial Intelligence Generated Content）指的是由人工智能生成的内容。这种内容可以包括文本、图像、音频、视频等多种形式。AIGC的出现得益于深度学习和自然语言处理等技术的进步，使得机器能够理解和创造复杂的内容。\\n\\n以下是对AIGC的一些关键点的介绍：\\n\\n1. **文本生成**：使用自然语言处理技术，AIGC可以自动撰写文章、故事、新闻报道等。例如，OpenAI的GPT（生成式预训练变换器）就是一个能够生成高质量文本的模型。\\n\\n2. **图像生成**：AIGC能够创建新的图像或艺术作品，例如DALL-E和Stable Diffusion等模型，它们可以根据文字描述生成相应的图像。\\n\\n3. **音频和视频生成**：AI还能够生成音乐、语音合成音频，甚至可以制作视频内容。像DeepFake技术可以生成高度真实的模拟视频。\\n\\n4. **应用领域**：AIGC广泛应用于广告、社交媒体、电子商务、游戏开发、影视制作等领域，帮助企业和个人节省时间和成本，提高创作效率。\\n\\n5. **创意和合作**：AIGC不仅是替代人类创作者的工具，它还可以作为创意的助手，帮助人类进行灵感碰撞和创作合作。\\n\\n6. **伦理和挑战**：虽然AIGC有很多优势，但也面临一些伦理和法律挑战，例如版权问题、内容真实性、生成有害内容的风险等。\\n\\n总之，AIGC正逐渐改变我们创造和消费内容的方式，正在成为许多行业的重要工具。', additional_kwargs={'refusal': None}, response_metadata={'token_usage': {'completion_tokens': 371, 'prompt_tokens': 31, 'total_tokens': 402, 'completion_tokens_details': {'accepted_prediction_tokens': 0, 'audio_tokens': 0, 'reasoning_tokens': 0, 'rejected_prediction_tokens': 0}, 'prompt_tokens_details': {'audio_tokens': 0, 'cached_tokens': 0}}, 'model_name': 'gpt-4o-mini-2024-07-18', 'system_fingerprint': 'fp_efad92c60b', 'id': 'chatcmpl-CTJn1Lzl0imSj5QNYlyR4am3U6Oxy', 'service_tier': None, 'finish_reason': 'stop', 'logprobs': None}, id='run--61be0487-361e-4658-83dc-e51340483934-0', usage_metadata={'input_tokens': 31, 'output_tokens': 371, 'total_tokens': 402, 'input_token_details': {'audio': 0, 'cache_read': 0}, 'output_token_details': {'audio': 0, 'reasoning': 0}}), AIMessage(content='大模型技术是指基于深度学习的自然语言处理（NLP）、计算机视觉等领域中的一种新兴技术，其核心是训练具有大量参数（通常达到亿级或百亿级别）的模型。这些大模型通常使用海量的数据进行训练，从而使其具备强大的学习和推理能力。\\n\\n### 大模型技术的特点：\\n\\n1. **海量参数**：大模型通常包含数亿到数百亿个参数，通过对这些参数的精细调整，模型能够捕捉复杂的数据模式。\\n\\n2. **大规模预训练**：这些模型通常会在大量无监督数据上进行预训练，以学习一般的语言、视觉或其他模式，然后再在特定任务上进行微调。\\n\\n3. **通用性强**：大模型在很多任务上表现良好，如文本生成、翻译、摘要、问答等，显示出跨任务的适应能力。\\n\\n4. **迁移学习**：训练好的大模型可以通过微调被快速应用到各种特定任务中，这减少了对大量标注数据的需求。\\n\\n### 应用场景：\\n\\n1. **自然语言处理**：如GPT系列、BERT等模型，在文本生成、情感分析、翻译等任务中表现优异。\\n\\n2. **计算机视觉**：如Vision Transformer（ViT），用于图像分类、目标检测等任务。\\n\\n3. **多模态学习**：结合文本、图像等多种输入形式，提升模型的理解和生成能力。\\n\\n### 技术挑战：\\n\\n1. **计算资源**：训练和推理所需的计算资源和内存要求极高，通常需要昂贵的硬件设备。\\n\\n2. **环境 impact**：训练大模型的能源消耗和碳足迹问题引起关注。\\n\\n3. **可解释性**：尽管大模型在性能上出色，但其决策过程往往难以解释，被视为“黑箱”。\\n\\n4. **伦理与偏见**：由于训练数据的偏见，大模型可能会产生不公平或有害的结果，需加强监管和审查。\\n\\n综上所述，大模型技术是一项具有高度潜力的前沿科技，推动了人工智能领域的快速发展，同时也带来了新的挑战和问题。', additional_kwargs={'refusal': None}, response_metadata={'token_usage': {'completion_tokens': 494, 'prompt_tokens': 31, 'total_tokens': 525, 'completion_tokens_details': {'accepted_prediction_tokens': 0, 'audio_tokens': 0, 'reasoning_tokens': 0, 'rejected_prediction_tokens': 0}, 'prompt_tokens_details': {'audio_tokens': 0, 'cached_tokens': 0}}, 'model_name': 'gpt-4o-mini-2024-07-18', 'system_fingerprint': 'fp_efad92c60b', 'id': 'chatcmpl-CTJn1aGYDqdIVQvr3FPgaTFwhtzSn', 'service_tier': None, 'finish_reason': 'stop', 'logprobs': None}, id='run--7d14117d-a057-444a-a6e0-3bff936d992f-0', usage_metadata={'input_tokens': 31, 'output_tokens': 494, 'total_tokens': 525, 'input_token_details': {'audio': 0, 'cache_read': 0}, 'output_token_details': {'audio': 0, 'reasoning': 0}})]\n"
     ]
    }
   ],
   "source": [
    "import os\n",
    "import dotenv\n",
    "from langchain_core.messages import HumanMessage, SystemMessage\n",
    "from langchain_openai import ChatOpenAI\n",
    "\n",
    "dotenv.load_dotenv()\n",
    "\n",
    "os.environ['OPENAI_API_KEY'] = os.getenv(\"OPENAI_API_KEY\")\n",
    "os.environ['OPENAI_BASE_URL'] = os.getenv(\"OPENAI_BASE_URL\")\n",
    "\n",
    "# 初始化大模型\n",
    "chat_model = ChatOpenAI(model=\"gpt-4o-mini\")\n",
    "\n",
    "messages1 = [SystemMessage(content=\"你是一位乐于助人的智能小助手\"),\n",
    "             HumanMessage(content=\"请帮我介绍一下什么是机器学习\"), ]\n",
    "\n",
    "messages2 = [SystemMessage(content=\"你是一位乐于助人的智能小助手\"),\n",
    "             HumanMessage(content=\"请帮我介绍一下什么是AIGC\"), ]\n",
    "\n",
    "messages3 = [SystemMessage(content=\"你是一位乐于助人的智能小助手\"),\n",
    "             HumanMessage(content=\"请帮我介绍一下什么是大模型技术\"), ]\n",
    "\n",
    "messages = [messages1, messages2, messages3]\n",
    "\n",
    "# 调用batch\n",
    "response = chat_model.batch(messages)\n",
    "\n",
    "print(response)"
   ],
   "metadata": {
    "collapsed": false,
    "ExecuteTime": {
     "end_time": "2025-10-22T03:27:03.489300Z",
     "start_time": "2025-10-22T03:26:58.425633Z"
    }
   },
   "id": "72d4c4fc7cccfede",
   "execution_count": 26
  },
  {
   "cell_type": "markdown",
   "source": [
    "举例4：关于同步和异步方法的调用\n",
    "\n",
    "体会1："
   ],
   "metadata": {
    "collapsed": false
   },
   "id": "45ca075ae42dcd80"
  },
  {
   "cell_type": "code",
   "outputs": [
    {
     "name": "stdout",
     "output_type": "stream",
     "text": [
      "开始调用模型...\n",
      "模型调用完成。\n",
      "执行其他任务 1\n",
      "执行其他任务 2\n",
      "执行其他任务 3\n",
      "执行其他任务 4\n",
      "执行其他任务 5\n",
      "总共耗时：10.046414136886597秒\n"
     ]
    }
   ],
   "source": [
    "import time\n",
    "\n",
    "\n",
    "def call_model():\n",
    "    # 模拟同步API调用\n",
    "    print(\"开始调用模型...\")\n",
    "    time.sleep(5)  # 模拟调用等待,单位：秒\n",
    "    print(\"模型调用完成。\")\n",
    "\n",
    "\n",
    "def perform_other_tasks():\n",
    "    # 模拟执行其他任务\n",
    "    for i in range(5):\n",
    "        print(f\"执行其他任务 {i + 1}\")\n",
    "        time.sleep(1)  # 单位：秒\n",
    "\n",
    "\n",
    "def main():\n",
    "    start_time = time.time()\n",
    "    call_model()\n",
    "    perform_other_tasks()\n",
    "    end_time = time.time()\n",
    "    total_time = end_time - start_time\n",
    "    return f\"总共耗时：{total_time}秒\"\n",
    "\n",
    "\n",
    "# 运行同步任务并打印完成时间\n",
    "main_time = main()\n",
    "print(main_time)\n"
   ],
   "metadata": {
    "collapsed": false,
    "ExecuteTime": {
     "end_time": "2025-10-22T06:27:11.706506Z",
     "start_time": "2025-10-22T06:27:01.637640Z"
    }
   },
   "id": "b9c3f067f3248bb2",
   "execution_count": 31
  },
  {
   "cell_type": "markdown",
   "source": [
    "体会2："
   ],
   "metadata": {
    "collapsed": false
   },
   "id": "e9fcf1a67d4e3a6c"
  },
  {
   "cell_type": "code",
   "outputs": [
    {
     "name": "stdout",
     "output_type": "stream",
     "text": [
      "异步调用完成\n",
      "其他任务完成\n",
      "总共耗时：5.001234769821167秒\n"
     ]
    },
    {
     "name": "stderr",
     "output_type": "stream",
     "text": [
      "C:\\Users\\leon\\AppData\\Local\\Temp\\ipykernel_5596\\1626035872.py:31: RuntimeWarning: coroutine 'run_async_tasks' was never awaited\n",
      "  result = await run_async_tasks()\n",
      "RuntimeWarning: Enable tracemalloc to get the object allocation traceback\n"
     ]
    }
   ],
   "source": [
    "import asyncio\n",
    "import time\n",
    "\n",
    "\n",
    "async def async_call(llm):\n",
    "    await asyncio.sleep(5)  # 模拟异步操作\n",
    "    print(\"异步调用完成\")\n",
    "\n",
    "\n",
    "async def perform_other_tasks():\n",
    "    await asyncio.sleep(5)  # 模拟异步操作\n",
    "    print(\"其他任务完成\")\n",
    "\n",
    "\n",
    "async def run_async_tasks():\n",
    "    start_time = time.time()\n",
    "    await asyncio.gather(\n",
    "        async_call(None),  # 示例调用，使用None模拟LLM对象\n",
    "        perform_other_tasks()\n",
    "    )\n",
    "    end_time = time.time()\n",
    "    return f\"总共耗时：{end_time - start_time}秒\"\n",
    "\n",
    "\n",
    "# # 正确运行异步任务的方式\n",
    "if __name__ == \"__main__\":\n",
    "    # # 使用 asyncio.run() 来启动异步程序\n",
    "    # result = asyncio.run(run_async_tasks())\n",
    "    # print(result)\n",
    "    # 在 Jupyter 单元格中直接调用\n",
    "    result = await run_async_tasks()\n",
    "    print(result)"
   ],
   "metadata": {
    "collapsed": false,
    "ExecuteTime": {
     "end_time": "2025-10-22T06:25:23.938548Z",
     "start_time": "2025-10-22T06:25:18.916378Z"
    }
   },
   "id": "a6698783a238f3ce",
   "execution_count": 29
  }
 ],
 "metadata": {
  "kernelspec": {
   "display_name": "Python 3",
   "language": "python",
   "name": "python3"
  },
  "language_info": {
   "codemirror_mode": {
    "name": "ipython",
    "version": 2
   },
   "file_extension": ".py",
   "mimetype": "text/x-python",
   "name": "python",
   "nbconvert_exporter": "python",
   "pygments_lexer": "ipython2",
   "version": "2.7.6"
  }
 },
 "nbformat": 4,
 "nbformat_minor": 5
}
