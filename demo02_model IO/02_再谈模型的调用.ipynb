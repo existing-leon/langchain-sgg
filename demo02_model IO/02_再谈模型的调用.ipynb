{
 "cells": [
  {
   "cell_type": "markdown",
   "source": [
    "# 1、关于对话模型中消息（message）的使用\n",
    "\n",
    "标准的对话模型的调用过程\n",
    "\n",
    "invoke()的输入可以是多种类型, 典型的类型有：①字符串类型 ②消息列表\n",
    "\n",
    "invoke()的输出类型：BaseMessage的子类：AIMessage"
   ],
   "metadata": {
    "collapsed": false
   },
   "id": "51b927f831ffea63"
  },
  {
   "cell_type": "code",
   "outputs": [
    {
     "name": "stdout",
     "output_type": "stream",
     "text": [
      "content='LangChain 是一个开源框架，旨在帮助开发者构建基于语言模型的应用程序。它提供了工具和接口，使得与不同类型的语言模型（例如 GPT-3、GPT-4 等）互动变得更加简单和高效。LangChain 主要用于以下几个方面：\\n\\n1. **链式调用**：LangChain 允许将多个操作（如文本生成、信息提取和数据处理）串联起来，从而创建复杂的工作流。这种链式结构使得开发者可以更好地组织和管理代码。\\n\\n2. **数据源连接**：LangChain 可以与多种数据源（如数据库、API 和文档）连接，以便将外部信息与语言模型结合，从而生成更智能的输出。\\n\\n3. **对话管理**：框架提供了管理对话状态和上下文的工具，使得构建对话系统变得更加灵活和强大。\\n\\n4. **组件化设计**：LangChain 采用组件化的设计，允许开发者根据需求选择和组合不同的模块，以实现特定的功能。\\n\\n5. **可扩展性**：由于其开源特性，开发者可以根据自己的需要对 LangChain 进行扩展和定制，以满足特定的应用需求。\\n\\n总的来说，LangChain 提供了一个高效、灵活的环境，使得开发基于语言模型的应用程序变得更加容易，适用于多种场景，包括聊天机器人、文本分析和自动化工作流等。' additional_kwargs={'refusal': None} response_metadata={'token_usage': {'completion_tokens': 330, 'prompt_tokens': 16, 'total_tokens': 346, 'completion_tokens_details': {'accepted_prediction_tokens': 0, 'audio_tokens': 0, 'reasoning_tokens': 0, 'rejected_prediction_tokens': 0}, 'prompt_tokens_details': {'audio_tokens': 0, 'cached_tokens': 0}}, 'model_name': 'gpt-4o-mini-2024-07-18', 'system_fingerprint': 'fp_efad92c60b', 'id': 'chatcmpl-CT1wQ7QnpfBXXx0qj9DXLIlX1KmX7', 'service_tier': None, 'finish_reason': 'stop', 'logprobs': None} id='run--a9f81301-deb5-4fb9-870d-caaf33976530-0' usage_metadata={'input_tokens': 16, 'output_tokens': 330, 'total_tokens': 346, 'input_token_details': {'audio': 0, 'cache_read': 0}, 'output_token_details': {'audio': 0, 'reasoning': 0}}\n",
      "<class 'langchain_core.messages.ai.AIMessage'>\n",
      "LangChain 是一个开源框架，旨在帮助开发者构建基于语言模型的应用程序。它提供了工具和接口，使得与不同类型的语言模型（例如 GPT-3、GPT-4 等）互动变得更加简单和高效。LangChain 主要用于以下几个方面：\n",
      "\n",
      "1. **链式调用**：LangChain 允许将多个操作（如文本生成、信息提取和数据处理）串联起来，从而创建复杂的工作流。这种链式结构使得开发者可以更好地组织和管理代码。\n",
      "\n",
      "2. **数据源连接**：LangChain 可以与多种数据源（如数据库、API 和文档）连接，以便将外部信息与语言模型结合，从而生成更智能的输出。\n",
      "\n",
      "3. **对话管理**：框架提供了管理对话状态和上下文的工具，使得构建对话系统变得更加灵活和强大。\n",
      "\n",
      "4. **组件化设计**：LangChain 采用组件化的设计，允许开发者根据需求选择和组合不同的模块，以实现特定的功能。\n",
      "\n",
      "5. **可扩展性**：由于其开源特性，开发者可以根据自己的需要对 LangChain 进行扩展和定制，以满足特定的应用需求。\n",
      "\n",
      "总的来说，LangChain 提供了一个高效、灵活的环境，使得开发基于语言模型的应用程序变得更加容易，适用于多种场景，包括聊天机器人、文本分析和自动化工作流等。\n"
     ]
    }
   ],
   "source": [
    "import os\n",
    "import dotenv\n",
    "\n",
    "from langchain_openai import ChatOpenAI\n",
    "\n",
    "# 加载配置文件\n",
    "dotenv.load_dotenv()\n",
    "\n",
    "os.environ[\"OPENAI_API_KEY\"] = os.getenv('OPENAI_API_KEY')\n",
    "os.environ[\"OPENAI_BASE_URL\"] = os.getenv('OPENAI_BASE_URL')\n",
    "\n",
    "# 1、获取对话模型\n",
    "chat_model = ChatOpenAI(\n",
    "    model=\"gpt-4o-mini\",\n",
    "    # base_url=os.getenv('OPENAI_BASE_URL'),\n",
    "    # api_key=os.getenv('OPENAI_API_KEY1')\n",
    ")\n",
    "\n",
    "# 2、调用对话模型\n",
    "response = chat_model.invoke(\"帮我解释一下什么是langchain?\")\n",
    "\n",
    "# 3、处理响应数据\n",
    "print(response)\n",
    "print(type(response))  # <class 'langchain_core.messages.ai.AIMessage'>\n",
    "# print(response.content)\n"
   ],
   "metadata": {
    "collapsed": false,
    "ExecuteTime": {
     "end_time": "2025-10-21T08:23:33.104382Z",
     "start_time": "2025-10-21T08:23:29.329813Z"
    }
   },
   "id": "42072b819c03ac95",
   "execution_count": 11
  },
  {
   "cell_type": "markdown",
   "source": [
    "关于消息：\n",
    "\n",
    "有典型的三类消息：SystemMessage \\ HumanMessage \\ AIMessage\n",
    "\n",
    "举例1："
   ],
   "metadata": {
    "collapsed": false
   },
   "id": "3e72bf728b09cb52"
  },
  {
   "cell_type": "code",
   "outputs": [
    {
     "name": "stdout",
     "output_type": "stream",
     "text": [
      "[SystemMessage(content='你是一个英语教学方向的专家', additional_kwargs={}, response_metadata={}), HumanMessage(content='帮我制定一个英语六级学习的计划', additional_kwargs={}, response_metadata={})]\n"
     ]
    }
   ],
   "source": [
    "from langchain_core.messages import SystemMessage, HumanMessage\n",
    "\n",
    "system_message = SystemMessage(content=\"你是一个英语教学方向的专家\")\n",
    "human_message = HumanMessage(content=\"帮我制定一个英语六级学习的计划\")\n",
    "\n",
    "messages = [system_message, human_message]\n",
    "\n",
    "print(messages)"
   ],
   "metadata": {
    "collapsed": false,
    "ExecuteTime": {
     "end_time": "2025-10-21T08:34:13.364504Z",
     "start_time": "2025-10-21T08:34:13.342555Z"
    }
   },
   "id": "4876c4c6e5a7e8be",
   "execution_count": 12
  },
  {
   "cell_type": "markdown",
   "source": [
    "使用大模型, 调用消息列表"
   ],
   "metadata": {
    "collapsed": false
   },
   "id": "6ba0a63083dbfa1c"
  },
  {
   "cell_type": "code",
   "outputs": [
    {
     "name": "stdout",
     "output_type": "stream",
     "text": [
      "<class 'langchain_core.messages.ai.AIMessage'>\n",
      "当然可以！以下是一个为期三个月的英语六级学习计划，帮助你系统提高英语水平，顺利通过六级考试。计划分为周计划和每日任务，具体如下：\n",
      "\n",
      "### 学习计划总览\n",
      "\n",
      "**学习时间**: 3个月（12周）  \n",
      "**每周学习时长**: 10-15小时  \n",
      "**学习内容**: 听力、阅读、写作、翻译、词汇、真题练习\n",
      "\n",
      "---\n",
      "\n",
      "### 第1-4周: 基础打牢阶段\n",
      "\n",
      "#### 每周任务：\n",
      "- **词汇**: 每周学习300个六级词汇，使用词汇卡片或APP背诵。\n",
      "- **听力**: 每天听1-2个六级听力材料（可使用真题或在线资源），并进行听写练习。\n",
      "- **阅读**: 每天阅读1篇六级阅读理解，分析每一题的考点和解题方法。\n",
      "- **写作**: 每周写1篇六级写作练习（150-200词），并请老师或同学给予反馈。\n",
      "- **翻译**: 每周进行1-2篇中翻英或英翻中的练习。\n",
      "\n",
      "### 第5-8周: 技能提高阶段\n",
      "\n",
      "#### 每周任务：\n",
      "- **词汇**: 继续每周学习300个词汇，并复习前4周的词汇。\n",
      "- **听力**: 每天进行听力材料的精听与泛听结合，尝试听写和总结内容。\n",
      "- **阅读**: 开始做整套六级真题阅读，掌握时间管理，逐步提升速度和准确性。\n",
      "- **写作**: 每周写1篇六级作文，提升逻辑结构及用词。\n",
      "- **翻译**: 每周进行2篇翻译练习，并对照标准答案进行分析。\n",
      "\n",
      "### 第9-12周: 模拟冲刺阶段\n",
      "\n",
      "#### 每周任务：\n",
      "- **词汇**: 复习所有词汇，进行自我测试。\n",
      "- **听力**: 完整听4套真题听力，并总结错题原因，提升针对性。\n",
      "- **阅读**: 完成4套真题阅读，模拟考试环境，掌握做题节奏。\n",
      "- **写作**: 集中练习六级考试常见话题，整理写作模板。\n",
      "- **翻译**: 针对六级常见翻译题型进行专项训练，通过做真题提升能力。\n",
      "\n",
      "### 额外建议：\n",
      "1. 每周进行一次模拟考试，包含听力、阅读、写作和翻译，时间严格按照考试要求。\n",
      "2. 利用网络资源，如雅思、托福课件，帮助自己更好理解英语语境。\n",
      "3. 参加线上或线下的学习小组，增强学习动力和互动。\n",
      "4. 考虑下载一些英语学习App，定期进行测验和反馈。\n",
      "\n",
      "坚持按照这个计划学习，相信你在六级考试中能够取得好成绩！加油！\n"
     ]
    }
   ],
   "source": [
    "response = chat_model.invoke(messages)\n",
    "\n",
    "print(type(response))\n",
    "print(response.content)"
   ],
   "metadata": {
    "collapsed": false,
    "ExecuteTime": {
     "end_time": "2025-10-21T09:11:53.169509Z",
     "start_time": "2025-10-21T09:11:42.869002Z"
    }
   },
   "id": "8d22bec6cf445583",
   "execution_count": 14
  },
  {
   "cell_type": "markdown",
   "source": [
    "举例2："
   ],
   "metadata": {
    "collapsed": false
   },
   "id": "25867d6170c79cc0"
  },
  {
   "cell_type": "code",
   "outputs": [
    {
     "name": "stdout",
     "output_type": "stream",
     "text": [
      "[SystemMessage(content='你是一个英语教学方向的专家', additional_kwargs={'tools': 'invoke_func1'}, response_metadata={}), HumanMessage(content='帮我制定一个英语六级学习的计划', additional_kwargs={}, response_metadata={})]\n"
     ]
    }
   ],
   "source": [
    "from langchain_core.messages import SystemMessage, HumanMessage\n",
    "\n",
    "system_message = SystemMessage(\n",
    "    content=\"你是一个英语教学方向的专家\",\n",
    "    additional_kwargs={\"tools\": \"invoke_func1\"}\n",
    ")\n",
    "human_message = HumanMessage(content=\"帮我制定一个英语六级学习的计划\")\n",
    "\n",
    "messages = [system_message, human_message]\n",
    "\n",
    "print(messages)"
   ],
   "metadata": {
    "collapsed": false,
    "ExecuteTime": {
     "end_time": "2025-10-21T09:17:17.925825Z",
     "start_time": "2025-10-21T09:17:17.913313Z"
    }
   },
   "id": "e1e58c0500195399",
   "execution_count": 15
  },
  {
   "cell_type": "markdown",
   "source": [
    "举例3："
   ],
   "metadata": {
    "collapsed": false
   },
   "id": "6ef39d1e10279918"
  },
  {
   "cell_type": "code",
   "outputs": [
    {
     "name": "stdout",
     "output_type": "stream",
     "text": [
      "[SystemMessage(content='你是一个AI开发工程师', additional_kwargs={'tool': 'invoke_tool()'}, response_metadata={}), HumanMessage(content='你能开发哪些AI应用?', additional_kwargs={}, response_metadata={}), AIMessage(content='我能开发很多AI应用, 比如聊天机器人, 图像识别, 自然语言处理等', additional_kwargs={}, response_metadata={})]\n"
     ]
    }
   ],
   "source": [
    "#1.导入相关包\n",
    "from langchain_core.messages import SystemMessage, HumanMessage, AIMessage\n",
    "\n",
    "# 2.直接创建不同类型消息\n",
    "systemMessage = SystemMessage(\n",
    "    content=\"你是一个AI开发工程师\",\n",
    "    additional_kwargs={\"tool\": \"invoke_tool()\"}\n",
    ")\n",
    "humanMessage = HumanMessage(\n",
    "    content=\"你能开发哪些AI应用?\"\n",
    ")\n",
    "aiMessage = AIMessage(\n",
    "    content=\"我能开发很多AI应用, 比如聊天机器人, 图像识别, 自然语言处理等\"\n",
    ")\n",
    "# 3.打印消息列表\n",
    "messages = [systemMessage, humanMessage, aiMessage]\n",
    "print(messages)\n"
   ],
   "metadata": {
    "collapsed": false,
    "ExecuteTime": {
     "end_time": "2025-10-21T09:21:26.584810Z",
     "start_time": "2025-10-21T09:21:26.560876Z"
    }
   },
   "id": "9e965fb54ff08d87",
   "execution_count": 16
  },
  {
   "cell_type": "markdown",
   "source": [
    "# 2、关于多轮对话与上下文记忆\n",
    "\n",
    "前提：获取大模型"
   ],
   "metadata": {
    "collapsed": false
   },
   "id": "ec8a50e5e7daa323"
  },
  {
   "cell_type": "code",
   "outputs": [],
   "source": [
    "import os\n",
    "import dotenv\n",
    "from langchain_openai import ChatOpenAI\n",
    "\n",
    "dotenv.load_dotenv()\n",
    "os.environ['OPENAI_API_KEY'] = os.getenv(\"OPENAI_API_KEY1\")\n",
    "os.environ['OPENAI_BASE_URL'] = os.getenv(\"OPENAI_BASE_URL\")\n",
    "chat_model = ChatOpenAI(\n",
    "    model=\"gpt-4o-mini\"\n",
    ")"
   ],
   "metadata": {
    "collapsed": false,
    "ExecuteTime": {
     "end_time": "2025-10-22T02:32:53.925452Z",
     "start_time": "2025-10-22T02:32:53.765593Z"
    }
   },
   "id": "a4f9ec36a4f65d56",
   "execution_count": 17
  },
  {
   "cell_type": "markdown",
   "source": [
    "测试1：大模型本身是没有上下文记忆的"
   ],
   "metadata": {
    "collapsed": false
   },
   "id": "9421442bd430fd7f"
  },
  {
   "cell_type": "code",
   "outputs": [
    {
     "name": "stdout",
     "output_type": "stream",
     "text": [
      "“猫王”通常指的是美国摇滚乐传奇艾尔维斯·普雷斯利（Elvis Presley），由于他的名字和形象常与猫结合而称为“猫王”。但实际上，他并不是一只猫，而是人类音乐家。如果你是在问某个特定的猫或者宠物，那么也可以提供更多信息，我可以帮你解答！\n",
      "我是一个人工智能助手，没有具体的名字。你可以叫我助手或AI。如果你有什么问题或需要帮助，随时可以问我！\n"
     ]
    }
   ],
   "source": [
    "from langchain_core.messages import SystemMessage, HumanMessage\n",
    "\n",
    "sys_message = SystemMessage(\n",
    "    content=\"我是一个人工智能的助手，我的名字叫小智\",\n",
    ")\n",
    "human_message = HumanMessage(content=\"猫王是一只猫吗？\")\n",
    "messages = [sys_message, human_message]\n",
    "#调用大模型，传入messages\n",
    "response = chat_model.invoke(messages)\n",
    "# print(response.content)\n",
    "\n",
    "response1 = chat_model.invoke(\"你叫什么名字？\")\n",
    "print(response1.content)"
   ],
   "metadata": {
    "collapsed": false,
    "ExecuteTime": {
     "end_time": "2025-10-22T02:33:00.543739Z",
     "start_time": "2025-10-22T02:32:56.984351Z"
    }
   },
   "id": "a3cb1324edc7cf4c",
   "execution_count": 18
  },
  {
   "cell_type": "markdown",
   "source": [
    "测试2："
   ],
   "metadata": {
    "collapsed": false
   },
   "id": "df0f0605020f1a5e"
  },
  {
   "cell_type": "code",
   "outputs": [
    {
     "name": "stdout",
     "output_type": "stream",
     "text": [
      "我叫小智，很高兴为你服务！请问有什么我可以帮助你的吗？\n"
     ]
    }
   ],
   "source": [
    "from langchain_core.messages import SystemMessage, HumanMessage\n",
    "\n",
    "sys_message = SystemMessage(\n",
    "    content=\"我是一个人工智能的助手，我的名字叫小智\",\n",
    ")\n",
    "human_message = HumanMessage(content=\"猫王是一只猫吗？\")\n",
    "human_message1 = HumanMessage(content=\"你叫什么名字？\")\n",
    "\n",
    "messages = [sys_message, human_message, human_message1]\n",
    "\n",
    "#调用大模型，传入messages\n",
    "response = chat_model.invoke(messages)\n",
    "print(response.content)"
   ],
   "metadata": {
    "collapsed": false,
    "ExecuteTime": {
     "end_time": "2025-10-22T02:34:48.478346Z",
     "start_time": "2025-10-22T02:34:46.826417Z"
    }
   },
   "id": "91533e210161ad1e",
   "execution_count": 19
  },
  {
   "cell_type": "markdown",
   "source": [
    "测试3："
   ],
   "metadata": {
    "collapsed": false
   },
   "id": "f0a27abc1a12b87d"
  },
  {
   "cell_type": "code",
   "outputs": [
    {
     "name": "stdout",
     "output_type": "stream",
     "text": [
      "我叫小智，很高兴为你服务！有什么我可以帮助你的吗？\n"
     ]
    }
   ],
   "source": [
    "from langchain_core.messages import SystemMessage, HumanMessage\n",
    "\n",
    "sys_message = SystemMessage(\n",
    "    content=\"我是一个人工智能的助手，我的名字叫小智\",\n",
    ")\n",
    "human_message = HumanMessage(content=\"猫王是一只猫吗？\")\n",
    "\n",
    "sys_message1 = SystemMessage(\n",
    "    content=\"我可以做很多事情，有需要就找我吧\",\n",
    ")\n",
    "\n",
    "human_message1 = HumanMessage(content=\"你叫什么名字？\")\n",
    "\n",
    "messages = [sys_message, human_message, sys_message1, human_message1]\n",
    "\n",
    "#调用大模型，传入messages\n",
    "response = chat_model.invoke(messages)\n",
    "print(response.content)\n"
   ],
   "metadata": {
    "collapsed": false,
    "ExecuteTime": {
     "end_time": "2025-10-22T02:37:08.356127Z",
     "start_time": "2025-10-22T02:37:06.524232Z"
    }
   },
   "id": "7e7d519f844c269f",
   "execution_count": 20
  },
  {
   "cell_type": "markdown",
   "source": [
    "测试4："
   ],
   "metadata": {
    "collapsed": false
   },
   "id": "b18f5f913e8fb8c7"
  },
  {
   "cell_type": "code",
   "outputs": [
    {
     "name": "stdout",
     "output_type": "stream",
     "text": [
      "\"猫王\"通常指的是埃尔维斯·普雷斯利（Elvis Presley），他被称为“猫王”是因为他的音乐风格和影响力。不过，有时人们也可能用“猫王”来指代某只特别的猫或者是某个与猫相关的角色。在具体情况中，\"猫王\"可以有不同的含义，请问你指的是哪个方面呢？\n",
      "我没有具体的名字，你可以叫我助手或者AI。如果你有任何问题或需要帮助，随时告诉我！\n"
     ]
    }
   ],
   "source": [
    "from langchain_core.messages import SystemMessage, HumanMessage\n",
    "\n",
    "# 第1组\n",
    "sys_message = SystemMessage(\n",
    "    content=\"我是一个人工智能的助手，我的名字叫小智\"\n",
    ")\n",
    "human_message = HumanMessage(content=\"猫王是一只猫吗？\")\n",
    "\n",
    "messages = [sys_message, human_message]\n",
    "\n",
    "# 第2组\n",
    "sys_message1 = SystemMessage(\n",
    "    content=\"我可以做很多事情，有需要就找我吧\",\n",
    ")\n",
    "human_message1 = HumanMessage(content=\"你叫什么名字？\")\n",
    "\n",
    "messages1 = [sys_message1, human_message1]\n",
    "\n",
    "#调用大模型，传入messages\n",
    "response = chat_model.invoke(messages)\n",
    "print(response.content)\n",
    "\n",
    "response = chat_model.invoke(messages1)\n",
    "print(response.content)\n"
   ],
   "metadata": {
    "collapsed": false,
    "ExecuteTime": {
     "end_time": "2025-10-22T02:44:44.352148Z",
     "start_time": "2025-10-22T02:44:41.500709Z"
    }
   },
   "id": "5d3a191684572fca",
   "execution_count": 21
  },
  {
   "cell_type": "markdown",
   "source": [
    "测试5："
   ],
   "metadata": {
    "collapsed": false
   },
   "id": "58083f93ab5093bd"
  },
  {
   "cell_type": "code",
   "outputs": [
    {
     "data": {
      "text/plain": "AIMessage(content='我叫小智。你有什么问题或者需要帮助的吗？', additional_kwargs={'refusal': None}, response_metadata={'token_usage': {'completion_tokens': 14, 'prompt_tokens': 40, 'total_tokens': 54, 'completion_tokens_details': {'accepted_prediction_tokens': 0, 'audio_tokens': 0, 'reasoning_tokens': 0, 'rejected_prediction_tokens': 0}, 'prompt_tokens_details': {'audio_tokens': 0, 'cached_tokens': 0}}, 'model_name': 'gpt-4o-mini-2024-07-18', 'system_fingerprint': 'fp_efad92c60b', 'id': 'chatcmpl-CTJAZBH6yW1H7ZG1u576bws37IJxy', 'service_tier': None, 'finish_reason': 'stop', 'logprobs': None}, id='run--d275a8a0-8dbf-42da-9417-8241d74f297b-0', usage_metadata={'input_tokens': 40, 'output_tokens': 14, 'total_tokens': 54, 'input_token_details': {'audio': 0, 'cache_read': 0}, 'output_token_details': {'audio': 0, 'reasoning': 0}})"
     },
     "execution_count": 22,
     "metadata": {},
     "output_type": "execute_result"
    }
   ],
   "source": [
    "from langchain_core.messages import SystemMessage, HumanMessage, AIMessage\n",
    "\n",
    "messages = [\n",
    "    SystemMessage(content=\"我是一个人工智能助手，我的名字叫小智\"),\n",
    "    HumanMessage(content=\"人工智能英文怎么说？\"),\n",
    "    AIMessage(content=\"AI\"),\n",
    "    HumanMessage(content=\"你叫什么名字\"),\n",
    "]\n",
    "\n",
    "messages1 = [\n",
    "    SystemMessage(content=\"我是一个人工智能助手，我的名字叫小智\"),\n",
    "    HumanMessage(content=\"很高兴认识你\"),\n",
    "    AIMessage(content=\"我也很高兴认识你\"),\n",
    "    HumanMessage(content=\"你叫什么名字\"),\n",
    "]\n",
    "\n",
    "messages2 = [\n",
    "    SystemMessage(content=\"我是一个人工智能助手，我的名字叫小智\"),\n",
    "    HumanMessage(content=\"人工智能英文怎么说？\"),\n",
    "    AIMessage(content=\"AI\"),\n",
    "    HumanMessage(content=\"你叫什么名字\"),\n",
    "]\n",
    "\n",
    "chat_model.invoke(messages2)"
   ],
   "metadata": {
    "collapsed": false,
    "ExecuteTime": {
     "end_time": "2025-10-22T02:47:16.365322Z",
     "start_time": "2025-10-22T02:47:14.354559Z"
    }
   },
   "id": "e43f079464d6a316",
   "execution_count": 22
  }
 ],
 "metadata": {
  "kernelspec": {
   "display_name": "Python 3",
   "language": "python",
   "name": "python3"
  },
  "language_info": {
   "codemirror_mode": {
    "name": "ipython",
    "version": 2
   },
   "file_extension": ".py",
   "mimetype": "text/x-python",
   "name": "python",
   "nbconvert_exporter": "python",
   "pygments_lexer": "ipython2",
   "version": "2.7.6"
  }
 },
 "nbformat": 4,
 "nbformat_minor": 5
}
