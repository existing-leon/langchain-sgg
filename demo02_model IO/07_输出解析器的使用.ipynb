{
 "cells": [
  {
   "cell_type": "markdown",
   "source": [
    "# 1、字符串输出解析器 StrOutputParser"
   ],
   "metadata": {
    "collapsed": false
   },
   "id": "a9396aabf1c8686a"
  },
  {
   "cell_type": "code",
   "outputs": [
    {
     "name": "stdout",
     "output_type": "stream",
     "text": [
      "<class 'langchain_core.messages.ai.AIMessage'>\n",
      "<class 'str'>\n",
      "大语言模型（Large Language Model，LLM）是指一种通过处理大量文本数据来学习语言的高级人工智能模型。这些模型基于深度学习技术，特别是变换器（Transformer）架构，旨在理解和生成自然语言。大语言模型具有以下几个主要特点：\n",
      "\n",
      "1. **规模庞大**：这些模型通常由数亿到数千亿个参数组成，能够捕捉语言中的复杂模式和结构。\n",
      "\n",
      "2. **预训练和微调**：大语言模型通常首先在大型文本语料库上进行预训练，以学习语言的基本知识；然后可以通过微调适应特定的任务，如情感分析、问答、翻译等。\n",
      "\n",
      "3. **上下文理解**：由于使用了大量的数据，语言模型能够在给定上下文的基础上生成连贯且相关的文本。\n",
      "\n",
      "4. **应用广泛**：大语言模型可以用于各种自然语言处理（NLP）任务，包括但不限于文本生成、摘要、对话系统、信息检索等。\n",
      "\n",
      "5. **可迁移性**：经过预训练的模型可以很容易地适应特定领域的任务，减少了从头开始训练的时间和资源消耗。\n",
      "\n",
      "总之，大语言模型是一种强大的工具，能够在多个场景中处理和生成自然语言，为各种应用提供支持。\n"
     ]
    }
   ],
   "source": [
    "from langchain_core.output_parsers import StrOutputParser\n",
    "# 1、获取大模型\n",
    "from langchain_openai import ChatOpenAI\n",
    "import os\n",
    "import dotenv\n",
    "\n",
    "# 加载环境变量\n",
    "dotenv.load_dotenv()\n",
    "\n",
    "os.environ[\"OPENAI_BASE_URL\"] = os.getenv(\"OPENAI_BASE_URL\")\n",
    "os.environ[\"OPENAI_API_KEY\"] = os.getenv(\"OPENAI_API_KEY\")\n",
    "\n",
    "chat_model = ChatOpenAI(\n",
    "    model=\"gpt-4o-mini\"\n",
    ")\n",
    "\n",
    "# 2、调用大模型\n",
    "response = chat_model.invoke(\"什么是大语言模型？\")\n",
    "\n",
    "print(type(response))  # AIMessage\n",
    "# print(response)\n",
    "\n",
    "# 3、如何获取一个字符串类型的结果呢？\n",
    "# 方式①：自己调用输出结果的content\n",
    "# print(response.content)\n",
    "\n",
    "# 方式②：使用 StrOutputParser\n",
    "parser = StrOutputParser()\n",
    "str_response = parser.invoke(response)\n",
    "print(type(str_response))\n",
    "print(str_response)"
   ],
   "metadata": {
    "collapsed": false,
    "ExecuteTime": {
     "end_time": "2025-10-29T11:20:53.242296Z",
     "start_time": "2025-10-29T11:20:47.966310Z"
    }
   },
   "id": "58ee58d05afff4a3",
   "execution_count": 3
  }
 ],
 "metadata": {
  "kernelspec": {
   "display_name": "Python 3",
   "language": "python",
   "name": "python3"
  },
  "language_info": {
   "codemirror_mode": {
    "name": "ipython",
    "version": 2
   },
   "file_extension": ".py",
   "mimetype": "text/x-python",
   "name": "python",
   "nbconvert_exporter": "python",
   "pygments_lexer": "ipython2",
   "version": "2.7.6"
  }
 },
 "nbformat": 4,
 "nbformat_minor": 5
}
