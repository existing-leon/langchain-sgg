{
 "cells": [
  {
   "cell_type": "markdown",
   "source": [
    "# 1、字符串输出解析器 StrOutputParser"
   ],
   "metadata": {
    "collapsed": false
   },
   "id": "a9396aabf1c8686a"
  },
  {
   "cell_type": "code",
   "outputs": [
    {
     "name": "stdout",
     "output_type": "stream",
     "text": [
      "<class 'langchain_core.messages.ai.AIMessage'>\n",
      "<class 'str'>\n",
      "大语言模型（Large Language Model，LLM）是指一种通过处理大量文本数据来学习语言的高级人工智能模型。这些模型基于深度学习技术，特别是变换器（Transformer）架构，旨在理解和生成自然语言。大语言模型具有以下几个主要特点：\n",
      "\n",
      "1. **规模庞大**：这些模型通常由数亿到数千亿个参数组成，能够捕捉语言中的复杂模式和结构。\n",
      "\n",
      "2. **预训练和微调**：大语言模型通常首先在大型文本语料库上进行预训练，以学习语言的基本知识；然后可以通过微调适应特定的任务，如情感分析、问答、翻译等。\n",
      "\n",
      "3. **上下文理解**：由于使用了大量的数据，语言模型能够在给定上下文的基础上生成连贯且相关的文本。\n",
      "\n",
      "4. **应用广泛**：大语言模型可以用于各种自然语言处理（NLP）任务，包括但不限于文本生成、摘要、对话系统、信息检索等。\n",
      "\n",
      "5. **可迁移性**：经过预训练的模型可以很容易地适应特定领域的任务，减少了从头开始训练的时间和资源消耗。\n",
      "\n",
      "总之，大语言模型是一种强大的工具，能够在多个场景中处理和生成自然语言，为各种应用提供支持。\n"
     ]
    }
   ],
   "source": [
    "from langchain_core.output_parsers import StrOutputParser, XMLOutputParser\n",
    "# 1、获取大模型\n",
    "from langchain_openai import ChatOpenAI\n",
    "import os\n",
    "import dotenv\n",
    "\n",
    "# 加载环境变量\n",
    "dotenv.load_dotenv()\n",
    "\n",
    "os.environ[\"OPENAI_BASE_URL\"] = os.getenv(\"OPENAI_BASE_URL\")\n",
    "os.environ[\"OPENAI_API_KEY\"] = os.getenv(\"OPENAI_API_KEY\")\n",
    "\n",
    "chat_model = ChatOpenAI(\n",
    "    model=\"gpt-4o-mini\"\n",
    ")\n",
    "\n",
    "# 2、调用大模型\n",
    "response = chat_model.invoke(\"什么是大语言模型？\")\n",
    "\n",
    "print(type(response))  # AIMessage\n",
    "# print(response)\n",
    "\n",
    "# 3、如何获取一个字符串类型的结果呢？\n",
    "# 方式①：自己调用输出结果的content\n",
    "# print(response.content)\n",
    "\n",
    "# 方式②：使用 StrOutputParser\n",
    "parser = StrOutputParser()\n",
    "str_response = parser.invoke(response)\n",
    "print(type(str_response))\n",
    "print(str_response)"
   ],
   "metadata": {
    "collapsed": false,
    "ExecuteTime": {
     "end_time": "2025-10-29T11:20:53.242296Z",
     "start_time": "2025-10-29T11:20:47.966310Z"
    }
   },
   "id": "58ee58d05afff4a3",
   "execution_count": 3
  },
  {
   "cell_type": "markdown",
   "source": [
    "# 2、JSON解析器 JsonOutputParser"
   ],
   "metadata": {
    "collapsed": false
   },
   "id": "549bbd8cf4676cc6"
  },
  {
   "cell_type": "markdown",
   "source": [
    "\n",
    "方式1：用户借助自己的提示词指明返回JSON格式"
   ],
   "metadata": {
    "collapsed": false
   },
   "id": "35d75f5d0dd3e6a6"
  },
  {
   "cell_type": "code",
   "outputs": [
    {
     "name": "stdout",
     "output_type": "stream",
     "text": [
      "<class 'langchain_core.messages.ai.AIMessage'>\n",
      "```json\n",
      "{\n",
      "  \"q\": \"人工智能用英语怎么说？\",\n",
      "  \"a\": \"Artificial Intelligence\"\n",
      "}\n",
      "```\n",
      "{'q': '人工智能用英语怎么说？', 'a': 'Artificial Intelligence'}\n"
     ]
    }
   ],
   "source": [
    "from langchain_core.prompts import ChatPromptTemplate\n",
    "from langchain_core.output_parsers import StrOutputParser, JsonOutputParser\n",
    "# 1、获取大模型\n",
    "from langchain_openai import ChatOpenAI\n",
    "import os\n",
    "import dotenv\n",
    "\n",
    "# 加载环境变量\n",
    "dotenv.load_dotenv()\n",
    "\n",
    "os.environ[\"OPENAI_BASE_URL\"] = os.getenv(\"OPENAI_BASE_URL\")\n",
    "os.environ[\"OPENAI_API_KEY\"] = os.getenv(\"OPENAI_API_KEY\")\n",
    "\n",
    "chat_model = ChatOpenAI(\n",
    "    model=\"gpt-4o-mini\"\n",
    ")\n",
    "\n",
    "# 根据提示词模板创建提示词\n",
    "chat_prompt_template = ChatPromptTemplate.from_messages(\n",
    "    [\n",
    "        (\"system\", \"你是一个靠谱的{role}\"),\n",
    "        (\"human\", \"{question}\")\n",
    "    ]\n",
    ")\n",
    "\n",
    "# 2、调用大模型\n",
    "response = chat_model.invoke(\n",
    "    chat_prompt_template.invoke(\n",
    "        {\n",
    "            \"role\": \"人工智能专家\",\n",
    "            \"question\": \"人工智能用英语怎么说？问题用q表示, 答案用a表示, 返回一个JSON格式的数据\"\n",
    "        }\n",
    "    )\n",
    ")\n",
    "\n",
    "print(response.content)\n",
    "\n",
    "# 获取一个JsonOutputParser的实例\n",
    "parser = JsonOutputParser()\n",
    "\n",
    "json_result = parser.invoke(response)\n",
    "print(json_result)"
   ],
   "metadata": {
    "collapsed": false,
    "ExecuteTime": {
     "end_time": "2025-10-29T11:36:05.988982Z",
     "start_time": "2025-10-29T11:36:03.520009Z"
    }
   },
   "id": "10baf537b67c8dcb",
   "execution_count": 5
  },
  {
   "cell_type": "markdown",
   "source": [
    "方式2：借助JsonOutputParser的get_format_instructions(), 生成格式说明, 指导模型输出JSON结构"
   ],
   "metadata": {
    "collapsed": false
   },
   "id": "d019fe4970c4e556"
  },
  {
   "cell_type": "code",
   "outputs": [
    {
     "name": "stdout",
     "output_type": "stream",
     "text": [
      "{'joke': '为什么计算机很冷？因为它们总是打开窗口！'}\n"
     ]
    }
   ],
   "source": [
    "from langchain_core.prompts import PromptTemplate\n",
    "from langchain_core.output_parsers import JsonOutputParser\n",
    "from langchain_openai import ChatOpenAI\n",
    "import os\n",
    "import dotenv\n",
    "\n",
    "# 加载环境变量\n",
    "dotenv.load_dotenv()\n",
    "\n",
    "os.environ[\"OPENAI_BASE_URL\"] = os.getenv(\"OPENAI_BASE_URL\")\n",
    "os.environ[\"OPENAI_API_KEY\"] = os.getenv(\"OPENAI_API_KEY\")\n",
    "\n",
    "# 1、获取大模型\n",
    "chat_model = ChatOpenAI(\n",
    "    model=\"gpt-4o-mini\"\n",
    ")\n",
    "\n",
    "joke_query = \"告诉我一个笑话。\"\n",
    "\n",
    "# 定义Json解析器\n",
    "parser = JsonOutputParser()\n",
    "\n",
    "# 2、定义提示词模版\n",
    "# 注意，提示词模板中需要部分格式化解析器的格式要求format_instructions\n",
    "prompt_template = PromptTemplate.from_template(\n",
    "    template=\"回答用户的查询.\\n满足的格式为{format_instructions}\\n问题为{question}\\n\",\n",
    "    partial_variables={\"format_instructions\": parser.get_format_instructions()},\n",
    ")\n",
    "\n",
    "prompt = prompt_template.invoke({\"question\": joke_query})\n",
    "\n",
    "# 3、调用大模型获取返回结果\n",
    "response = chat_model.invoke(prompt)\n",
    "json_result = parser.invoke(response)\n",
    "\n",
    "print(json_result)"
   ],
   "metadata": {
    "collapsed": false,
    "ExecuteTime": {
     "end_time": "2025-10-29T11:49:36.521817Z",
     "start_time": "2025-10-29T11:49:35.195575Z"
    }
   },
   "id": "e26117152e8b256f",
   "execution_count": 9
  },
  {
   "cell_type": "markdown",
   "source": [
    "## 知识的拓展：管道符"
   ],
   "metadata": {
    "collapsed": false
   },
   "id": "54501f6d9d18d85a"
  },
  {
   "cell_type": "markdown",
   "source": [
    "\n",
    "针对于举例1改造"
   ],
   "metadata": {
    "collapsed": false
   },
   "id": "ddb241f8a2628f05"
  },
  {
   "cell_type": "code",
   "outputs": [
    {
     "name": "stdout",
     "output_type": "stream",
     "text": [
      "{'q': '人工智能用英语怎么说？', 'a': 'Artificial Intelligence'}\n"
     ]
    }
   ],
   "source": [
    "from langchain_core.prompts import ChatPromptTemplate\n",
    "from langchain_core.output_parsers import StrOutputParser, JsonOutputParser\n",
    "# 1、获取大模型\n",
    "from langchain_openai import ChatOpenAI\n",
    "import os\n",
    "import dotenv\n",
    "\n",
    "# 加载环境变量\n",
    "dotenv.load_dotenv()\n",
    "\n",
    "os.environ[\"OPENAI_BASE_URL\"] = os.getenv(\"OPENAI_BASE_URL\")\n",
    "os.environ[\"OPENAI_API_KEY\"] = os.getenv(\"OPENAI_API_KEY\")\n",
    "\n",
    "chat_model = ChatOpenAI(\n",
    "    model=\"gpt-4o-mini\"\n",
    ")\n",
    "\n",
    "# 根据提示词模板创建提示词\n",
    "chat_prompt_template = ChatPromptTemplate.from_messages(\n",
    "    [\n",
    "        (\"system\", \"你是一个靠谱的{role}\"),\n",
    "        (\"human\", \"{question}\")\n",
    "    ]\n",
    ")\n",
    "\n",
    "# 获取一个JsonOutputParser的实例\n",
    "parser = JsonOutputParser()\n",
    "\n",
    "# 2、调用大模型\n",
    "## 写法1：\n",
    "# response = chat_model.invoke(\n",
    "#     chat_prompt_template.invoke(\n",
    "#         {\n",
    "#             \"role\": \"人工智能专家\",\n",
    "#             \"question\": \"人工智能用英语怎么说？问题用q表示, 答案用a表示, 返回一个JSON格式的数据\"\n",
    "#         }\n",
    "#     )\n",
    "# )\n",
    "# \n",
    "# json_result = parser.invoke(response)\n",
    "# print(json_result)\n",
    "\n",
    "## 写法2：\n",
    "chain = chat_prompt_template | chat_model | parser\n",
    "json_result_chain = chain.invoke(\n",
    "    {\n",
    "        \"role\": \"人工智能专家\",\n",
    "        \"question\": \"人工智能用英语怎么说？问题用q表示, 答案用a表示, 返回一个JSON格式的数据\"\n",
    "    }\n",
    ")\n",
    "print(json_result_chain)"
   ],
   "metadata": {
    "collapsed": false,
    "ExecuteTime": {
     "end_time": "2025-10-29T12:15:05.178472Z",
     "start_time": "2025-10-29T12:15:04.027379Z"
    }
   },
   "id": "9d36fad1862bd2db",
   "execution_count": 10
  },
  {
   "cell_type": "markdown",
   "source": [
    "针对于举例2改造："
   ],
   "metadata": {
    "collapsed": false
   },
   "id": "cffd7e7552054275"
  },
  {
   "cell_type": "code",
   "outputs": [
    {
     "name": "stdout",
     "output_type": "stream",
     "text": [
      "{'joke': 'Why did the scarecrow win an award? Because he was outstanding in his field!'}\n"
     ]
    }
   ],
   "source": [
    "from langchain_core.prompts import PromptTemplate\n",
    "from langchain_core.output_parsers import JsonOutputParser\n",
    "from langchain_openai import ChatOpenAI\n",
    "import os\n",
    "import dotenv\n",
    "\n",
    "# 加载环境变量\n",
    "dotenv.load_dotenv()\n",
    "\n",
    "os.environ[\"OPENAI_BASE_URL\"] = os.getenv(\"OPENAI_BASE_URL\")\n",
    "os.environ[\"OPENAI_API_KEY\"] = os.getenv(\"OPENAI_API_KEY\")\n",
    "\n",
    "# 1、获取大模型\n",
    "chat_model = ChatOpenAI(\n",
    "    model=\"gpt-4o-mini\"\n",
    ")\n",
    "\n",
    "joke_query = \"告诉我一个笑话。\"\n",
    "\n",
    "# 定义Json解析器\n",
    "parser = JsonOutputParser()\n",
    "\n",
    "# 2、定义提示词模版\n",
    "# 注意，提示词模板中需要部分格式化解析器的格式要求format_instructions\n",
    "prompt_template = PromptTemplate.from_template(\n",
    "    template=\"回答用户的查询.\\n满足的格式为{format_instructions}\\n问题为{question}\\n\",\n",
    "    partial_variables={\"format_instructions\": parser.get_format_instructions()},\n",
    ")\n",
    "\n",
    "## 写法1：\n",
    "# prompt = prompt_template.invoke({\"question\": joke_query})\n",
    "# # 3、调用大模型获取返回结果\n",
    "# response = chat_model.invoke(prompt)\n",
    "# json_result = parser.invoke(response)\n",
    "\n",
    "## 写法2：\n",
    "chain = prompt_template | chat_model | parser\n",
    "json_result_chain = chain.invoke(\n",
    "    {\"question\": joke_query}\n",
    ")\n",
    "\n",
    "print(json_result_chain)"
   ],
   "metadata": {
    "collapsed": false,
    "ExecuteTime": {
     "end_time": "2025-10-29T12:18:26.196892Z",
     "start_time": "2025-10-29T12:18:24.860190Z"
    }
   },
   "id": "84953a02a25c77b2",
   "execution_count": 11
  },
  {
   "metadata": {},
   "cell_type": "markdown",
   "source": "# 3、XML输出解析器 XMLOutputParser",
   "id": "8c07e189e8a3f919"
  },
  {
   "metadata": {},
   "cell_type": "markdown",
   "source": "举例1：自己在提示词模板中写明使用XML格式",
   "id": "5683fd32c298acdb"
  },
  {
   "metadata": {
    "ExecuteTime": {
     "end_time": "2025-10-29T14:12:05.413696Z",
     "start_time": "2025-10-29T14:11:56.165095Z"
    }
   },
   "cell_type": "code",
   "source": [
    "from langchain_openai import ChatOpenAI\n",
    "import os\n",
    "import dotenv\n",
    "\n",
    "# 加载环境变量\n",
    "dotenv.load_dotenv()\n",
    "\n",
    "# 从配置文件中给环境变量重新赋值\n",
    "os.environ[\"OPENAI_BASE_URL\"] = os.getenv(\"OPENAI_BASE_URL\")\n",
    "os.environ[\"OPENAI_API_KEY\"] = os.getenv(\"OPENAI_API_KEY\")\n",
    "\n",
    "# 获取模型\n",
    "chat_model = ChatOpenAI(model=\"gpt-4o-mini\")\n",
    "\n",
    "# 调用模型\n",
    "actor_query = \"周星驰的简短电影记录\"\n",
    "response = chat_model.invoke(f\"请生成{actor_query}, 将影片附在<movie></movie>标签中\")\n",
    "\n",
    "print(type(response))\n",
    "print(response.content)"
   ],
   "id": "81c0b0bda85b47df",
   "outputs": [
    {
     "name": "stdout",
     "output_type": "stream",
     "text": [
      "<class 'langchain_core.messages.ai.AIMessage'>\n",
      "周星驰（Stephen Chow）是中国香港著名的演员、导演和编剧，以其独特的喜剧风格而广受欢迎。以下是他的几部经典电影记录：\n",
      "\n",
      "<movie>\n",
      "  <title>大话西游之月光宝盒</title>\n",
      "  <year>1995</year>\n",
      "  <summary>周星驰出演的经典喜剧，改编自《西游记》，讲述了至尊宝和白晶晶、紫霞仙子之间的爱情故事，融入了许多搞笑和感人的元素。</summary>\n",
      "</movie>\n",
      "\n",
      "<movie>\n",
      "  <title>喜剧之王</title>\n",
      "  <year>1999</year>\n",
      "  <summary>周星驰自导自演，讲述了一位怀揣梦想的年轻人努力成为演员的故事，展现了对梦想的执着与追寻。</summary>\n",
      "</movie>\n",
      "\n",
      "<movie>\n",
      "  <title>食神</title>\n",
      "  <year>1996</year>\n",
      "  <summary>周星驰在片中饰演一位曾经辉煌的食神，因被竞争对手陷害而跌入低谷，随后通过努力和智慧重返巅峰，成为真正的食神。</summary>\n",
      "</movie>\n",
      "\n",
      "<movie>\n",
      "  <title>逃学威龙</title>\n",
      "  <year>1991</year>\n",
      "  <summary>周星驰饰演的角色是一名卧底警察为了抓捕罪犯假扮学生，影片融合了校园生活与警匪元素，笑点频出。</summary>\n",
      "</movie>\n",
      "\n",
      "<movie>\n",
      "  <title>西游降魔篇</title>\n",
      "  <year>2013</year>\n",
      "  <summary>周星驰自导自演的作品，以全新的视角重新演绎《西游记》中的经典故事，探讨了爱情与斗争的主题。</summary>\n",
      "</movie>\n",
      "</movie>\n"
     ]
    }
   ],
   "execution_count": 2
  },
  {
   "metadata": {},
   "cell_type": "markdown",
   "source": "举例2：",
   "id": "91b955090f4a1bdb"
  },
  {
   "metadata": {
    "ExecuteTime": {
     "end_time": "2025-10-29T14:14:03.685775Z",
     "start_time": "2025-10-29T14:14:03.657699Z"
    }
   },
   "cell_type": "code",
   "source": [
    "from langchain_core.output_parsers import XMLOutputParser\n",
    "\n",
    "parser = XMLOutputParser()\n",
    "print(parser.get_format_instructions())"
   ],
   "id": "bec9ebcf68924235",
   "outputs": [
    {
     "name": "stdout",
     "output_type": "stream",
     "text": [
      "The output should be formatted as a XML file.\n",
      "1. Output should conform to the tags below.\n",
      "2. If tags are not given, make them on your own.\n",
      "3. Remember to always open and close all the tags.\n",
      "\n",
      "As an example, for the tags [\"foo\", \"bar\", \"baz\"]:\n",
      "1. String \"<foo>\n",
      "   <bar>\n",
      "      <baz></baz>\n",
      "   </bar>\n",
      "</foo>\" is a well-formatted instance of the schema.\n",
      "2. String \"<foo>\n",
      "   <bar>\n",
      "   </foo>\" is a badly-formatted instance.\n",
      "3. String \"<foo>\n",
      "   <tag>\n",
      "   </tag>\n",
      "</foo>\" is a badly-formatted instance.\n",
      "\n",
      "Here are the output tags:\n",
      "```\n",
      "None\n",
      "```\n"
     ]
    }
   ],
   "execution_count": 3
  },
  {
   "metadata": {},
   "cell_type": "markdown",
   "source": "使用 parser.get_format_instructions() 结构实现",
   "id": "e4553c623b020d88"
  },
  {
   "metadata": {
    "ExecuteTime": {
     "end_time": "2025-10-29T14:28:26.466940Z",
     "start_time": "2025-10-29T14:28:22.802348Z"
    }
   },
   "cell_type": "code",
   "source": [
    "# 1.导入相关包\n",
    "from langchain_core.output_parsers import XMLOutputParser\n",
    "from langchain_core.prompts import PromptTemplate\n",
    "from langchain_openai import ChatOpenAI\n",
    "\n",
    "# 2.初始化语言模型\n",
    "chat_model = ChatOpenAI(model=\"gpt-4o-mini\")\n",
    "\n",
    "# 3.测试模型的xml解析效果\n",
    "actor_query = \"生成汤姆·汉克斯的简短电影记录,使用中文回复\"\n",
    "\n",
    "# 4.定义XMLOutputParser对象\n",
    "parser = XMLOutputParser()\n",
    "\n",
    "# 5.生成提示词模板\n",
    "prompt_template = PromptTemplate.from_template(\n",
    "    template=\"用户的问题：{actor_query}\\n使用的格式：{format_instructions}\"\n",
    ")\n",
    "\n",
    "prompt = prompt_template.partial(format_instructions=parser.get_format_instructions())\n",
    "\n",
    "prompt = prompt.invoke({\"actor_query\": actor_query})\n",
    "\n",
    "# 6.调用大模型\n",
    "response = chat_model.invoke(prompt)\n",
    "\n",
    "print(response.content)"
   ],
   "id": "e5403f366391d998",
   "outputs": [
    {
     "name": "stdout",
     "output_type": "stream",
     "text": [
      "```xml\n",
      "<电影记录>\n",
      "   <演员>\n",
      "      <姓名>汤姆·汉克斯</姓名>\n",
      "      <代表作品>\n",
      "         <电影>\n",
      "            <标题>阿甘正传</标题>\n",
      "            <年份>1994</年份>\n",
      "            <简介>讲述了一个智力障碍者走过非凡人生的故事。</简介>\n",
      "         </电影>\n",
      "         <电影>\n",
      "            <标题>拯救大兵瑞恩</标题>\n",
      "            <年份>1998</年份>\n",
      "            <简介>第二次世界大战期间，为了拯救一名士兵，队伍冒险穿越敌后。</简介>\n",
      "         </电影>\n",
      "         <电影>\n",
      "            <标题>费城故事</标题>\n",
      "            <年份>1993</年份>\n",
      "            <简介>一名因艾滋病被解雇的律师，与社会的斗争。</简介>\n",
      "         </电影>\n",
      "         <电影>\n",
      "            <标题>绝密飞行</标题>\n",
      "            <年份>2001</年份>\n",
      "            <简介>根据真实事件改编，讲述美国空军拯救被劫持飞机的故事。</简介>\n",
      "         </电影>\n",
      "      </代表作品>\n",
      "   </演员>\n",
      "</电影记录>\n",
      "```\n"
     ]
    }
   ],
   "execution_count": 5
  },
  {
   "metadata": {
    "ExecuteTime": {
     "end_time": "2025-10-29T14:29:32.995763Z",
     "start_time": "2025-10-29T14:29:32.963327Z"
    }
   },
   "cell_type": "code",
   "source": [
    "xml_result = parser.invoke(response)\n",
    "print(xml_result)"
   ],
   "id": "7a08a901ac3e6c68",
   "outputs": [
    {
     "name": "stdout",
     "output_type": "stream",
     "text": [
      "{'电影记录': [{'演员': [{'姓名': '汤姆·汉克斯'}, {'代表作品': [{'电影': [{'标题': '阿甘正传'}, {'年份': '1994'}, {'简介': '讲述了一个智力障碍者走过非凡人生的故事。'}]}, {'电影': [{'标题': '拯救大兵瑞恩'}, {'年份': '1998'}, {'简介': '第二次世界大战期间，为了拯救一名士兵，队伍冒险穿越敌后。'}]}, {'电影': [{'标题': '费城故事'}, {'年份': '1993'}, {'简介': '一名因艾滋病被解雇的律师，与社会的斗争。'}]}, {'电影': [{'标题': '绝密飞行'}, {'年份': '2001'}, {'简介': '根据真实事件改编，讲述美国空军拯救被劫持飞机的故事。'}]}]}]}]}\n"
     ]
    }
   ],
   "execution_count": 6
  },
  {
   "metadata": {},
   "cell_type": "markdown",
   "source": "# 4、列表解析器 CommaSeparatedListOutputParser",
   "id": "d9e9c19421b77f90"
  },
  {
   "metadata": {},
   "cell_type": "markdown",
   "source": [
    "列表解析器：利用此解析器可以将模型的文本的响应转换为一个用逗号分隔的列表 (List[str]), 其实就是CSV文件格式\n",
    "\n",
    "举例1："
   ],
   "id": "2e1e9652a36290f3"
  },
  {
   "metadata": {
    "ExecuteTime": {
     "end_time": "2025-10-29T14:34:30.884442Z",
     "start_time": "2025-10-29T14:34:30.871438Z"
    }
   },
   "cell_type": "code",
   "source": [
    "from langchain_core.output_parsers import CommaSeparatedListOutputParser\n",
    "\n",
    "output_parser = CommaSeparatedListOutputParser()\n",
    "\n",
    "# 返回一些指令或模板，这些指令告诉系统如何解析或格式化输出数据\n",
    "format_instructions = output_parser.get_format_instructions()\n",
    "print(format_instructions)\n",
    "\n",
    "messages = \"大象,猩猩,狮子\"\n",
    "result = output_parser.parse(messages)\n",
    "\n",
    "print(result)\n",
    "print(type(result))"
   ],
   "id": "9aaee35ca120eeb7",
   "outputs": [
    {
     "name": "stdout",
     "output_type": "stream",
     "text": [
      "Your response should be a list of comma separated values, eg: `foo, bar, baz` or `foo,bar,baz`\n",
      "['大象', '猩猩', '狮子']\n",
      "<class 'list'>\n"
     ]
    }
   ],
   "execution_count": 7
  },
  {
   "metadata": {},
   "cell_type": "markdown",
   "source": "举例2：",
   "id": "98b4e4283736c617"
  },
  {
   "metadata": {
    "ExecuteTime": {
     "end_time": "2025-10-29T14:37:17.727814Z",
     "start_time": "2025-10-29T14:37:12.797307Z"
    }
   },
   "cell_type": "code",
   "source": [
    "from langchain_core.prompts import PromptTemplate\n",
    "from langchain_openai import ChatOpenAI\n",
    "from langchain.output_parsers import CommaSeparatedListOutputParser\n",
    "\n",
    "# 初始化语言模型\n",
    "chat_model = ChatOpenAI(model=\"gpt-4o-mini\")\n",
    "\n",
    "# 创建解析器\n",
    "output_parser = CommaSeparatedListOutputParser()\n",
    "\n",
    "# 创建LangChain提示模板\n",
    "chat_prompt = PromptTemplate.from_template(\n",
    "    \" 成5个关于{text}的列表.\\n\\n{format_instructions}\",\n",
    "    partial_variables={\"format_instructions\": output_parser.get_format_instructions()}\n",
    ")\n",
    "\n",
    "# 提示模板与输出解析器传递输出\n",
    "# chat_prompt =chat_prompt.partial(format_instructions=output_parser.get_format_instructions())\n",
    "\n",
    "# 将提示和模型合并以进行调用\n",
    "chain = chat_prompt | chat_model | output_parser\n",
    "res = chain.invoke({\"text\": \"电影\"})\n",
    "\n",
    "print(res)\n",
    "print(type(res))"
   ],
   "id": "7120039a0d7b5991",
   "outputs": [
    {
     "name": "stdout",
     "output_type": "stream",
     "text": [
      "['动作片', '喜剧片', '恐怖片', '科幻片', '爱情片']\n",
      "<class 'list'>\n"
     ]
    }
   ],
   "execution_count": 8
  },
  {
   "metadata": {},
   "cell_type": "markdown",
   "source": "# 5、日期解析器 DatetimeOutputParser（了解）",
   "id": "19243e4e64534"
  },
  {
   "metadata": {},
   "cell_type": "markdown",
   "source": "举例1：",
   "id": "f4105b7f7d5e9909"
  },
  {
   "metadata": {
    "ExecuteTime": {
     "end_time": "2025-10-29T14:40:27.125669Z",
     "start_time": "2025-10-29T14:40:27.116662Z"
    }
   },
   "cell_type": "code",
   "source": [
    "from langchain.output_parsers import DatetimeOutputParser\n",
    "\n",
    "output_parser = DatetimeOutputParser()\n",
    "format_instructions = output_parser.get_format_instructions()\n",
    "print(format_instructions)"
   ],
   "id": "272cb55815a2ce9d",
   "outputs": [
    {
     "name": "stdout",
     "output_type": "stream",
     "text": [
      "Write a datetime string that matches the following pattern: '%Y-%m-%dT%H:%M:%S.%fZ'.\n",
      "\n",
      "Examples: 2023-07-04T14:30:00.000000Z, 1999-12-31T23:59:59.999999Z, 2025-01-01T00:00:00.000000Z\n",
      "\n",
      "Return ONLY this string, no other words!\n"
     ]
    }
   ],
   "execution_count": 9
  },
  {
   "metadata": {},
   "cell_type": "markdown",
   "source": "举例2：",
   "id": "d2c43f785f6a4c15"
  },
  {
   "metadata": {
    "ExecuteTime": {
     "end_time": "2025-10-29T14:41:39.740945Z",
     "start_time": "2025-10-29T14:41:31.277782Z"
    }
   },
   "cell_type": "code",
   "source": [
    "from langchain_openai import ChatOpenAI\n",
    "from langchain.prompts.chat import HumanMessagePromptTemplate\n",
    "from langchain_core.prompts import ChatPromptTemplate\n",
    "from langchain.output_parsers import DatetimeOutputParser\n",
    "\n",
    "chat_model = ChatOpenAI(model=\"gpt-4o-mini\")\n",
    "chat_prompt = ChatPromptTemplate.from_messages([\n",
    "    (\"system\", \"{format_instructions}\"),\n",
    "    (\"human\", \"{request}\")\n",
    "])\n",
    "output_parser = DatetimeOutputParser()\n",
    "\n",
    "# 方式1：\n",
    "# model_request = chat_prompt.format_messages(\n",
    "# request=\"中华人民共和国是什么时候成立的\",\n",
    "# format_instructions=output_parser.get_format_instructions()\n",
    "# )\n",
    "\n",
    "# response = chat_model.invoke(model_request)\n",
    "# result = output_parser.invoke(response)\n",
    "# print(result)\n",
    "# print(type(result))\n",
    "\n",
    "# 方式2：\n",
    "chain = chat_prompt | chat_model | output_parser\n",
    "resp = chain.invoke({\"request\": \"中华人民共和国是什么时候成立的\",\n",
    "                     \"format_instructions\": output_parser.get_format_instructions()})\n",
    "print(resp)\n",
    "print(type(resp))"
   ],
   "id": "3913c3965daf2217",
   "outputs": [
    {
     "name": "stdout",
     "output_type": "stream",
     "text": [
      "1949-10-01 00:00:00\n",
      "<class 'datetime.datetime'>\n"
     ]
    }
   ],
   "execution_count": 10
  }
 ],
 "metadata": {
  "kernelspec": {
   "display_name": "Python 3",
   "language": "python",
   "name": "python3"
  },
  "language_info": {
   "codemirror_mode": {
    "name": "ipython",
    "version": 2
   },
   "file_extension": ".py",
   "mimetype": "text/x-python",
   "name": "python",
   "nbconvert_exporter": "python",
   "pygments_lexer": "ipython2",
   "version": "2.7.6"
  }
 },
 "nbformat": 4,
 "nbformat_minor": 5
}
