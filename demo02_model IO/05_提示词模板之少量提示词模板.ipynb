{
 "cells": [
  {
   "cell_type": "markdown",
   "source": [
    "# 少量示例的提示词模板的使用\n",
    "\n",
    "FewShotPromptTemplate：与PromptTemplate一起使用\n",
    "\n",
    "FewShotChatMessagePromptTemplate：与ChatPromptTemplate一起使用\n",
    "\n",
    "Example selectors（示例选择器）"
   ],
   "metadata": {
    "collapsed": false
   },
   "id": "75950eb2418912ba"
  },
  {
   "cell_type": "markdown",
   "source": [
    "## 1、使用 FewShotPromptTemplate"
   ],
   "metadata": {
    "collapsed": false
   },
   "id": "df6c265ede6725f5"
  },
  {
   "cell_type": "markdown",
   "source": [
    "\n",
    "举例1：未提供示例的情况"
   ],
   "metadata": {
    "collapsed": false
   },
   "id": "cc4924f67c2aa8ed"
  },
  {
   "cell_type": "code",
   "outputs": [
    {
     "name": "stdout",
     "output_type": "stream",
     "text": [
      "2 🦜 9 的结果取决于你所使用的运算符。如果你是想问 2 加 9，那就是 11。如果有其他特定的运算方式，请告诉我！\n"
     ]
    }
   ],
   "source": [
    "import os\n",
    "import dotenv\n",
    "from langchain_openai import ChatOpenAI\n",
    "\n",
    "dotenv.load_dotenv()\n",
    "\n",
    "os.environ['OPENAI_API_KEY'] = os.getenv(\"OPENAI_API_KEY\")\n",
    "os.environ['OPENAI_BASE_URL'] = os.getenv(\"OPENAI_BASE_URL\")\n",
    "\n",
    "chat_model = ChatOpenAI(model=\"gpt-4o-mini\",\n",
    "                        temperature=0.4)\n",
    "\n",
    "res = chat_model.invoke(\"2 🦜 9是多少?\")\n",
    "print(res.content)"
   ],
   "metadata": {
    "collapsed": false,
    "ExecuteTime": {
     "end_time": "2025-10-29T06:40:19.968578Z",
     "start_time": "2025-10-29T06:40:16.403978Z"
    }
   },
   "id": "de80d8aedd2cfbfe",
   "execution_count": 1
  },
  {
   "cell_type": "markdown",
   "source": [
    "举例2：使用FewShotPromptTemplate"
   ],
   "metadata": {
    "collapsed": false
   },
   "id": "1757f18888da0470"
  },
  {
   "cell_type": "code",
   "outputs": [
    {
     "name": "stdout",
     "output_type": "stream",
     "text": [
      "=== Prompt ===\n",
      "text='Input: 北京天气怎么样\\nOutput: 北京市\\n\\nInput: 南京下雨吗\\nOutput: 南京市\\n\\nInput: 武汉热吗\\nOutput: 武汉市\\n\\nInput: 天津会下雨嘛？\\nOutput: '\n"
     ]
    }
   ],
   "source": [
    "from langchain_core.prompts import PromptTemplate, FewShotPromptTemplate\n",
    "\n",
    "# 创建一个PromptTemplate的实例\n",
    "example_prompt = PromptTemplate.from_template(\n",
    "    template=\"Input: {input}\\nOutput: {output}\"\n",
    ")\n",
    "\n",
    "# 提供一些示例\n",
    "examples = [\n",
    "    {\"input\": \"北京天气怎么样\", \"output\": \"北京市\"},\n",
    "    {\"input\": \"南京下雨吗\", \"output\": \"南京市\"},\n",
    "    {\"input\": \"武汉热吗\", \"output\": \"武汉市\"}\n",
    "]\n",
    "\n",
    "# 创建 FewShotPromptTemplate 的实例\n",
    "few_shot_template = FewShotPromptTemplate(\n",
    "    example_prompt=example_prompt,\n",
    "    examples=examples,\n",
    "    suffix=\"Input: {input}\\nOutput: \",  # 要放在示例后面的提示模板字符串\n",
    "    input_variables=[\"input\"]  # 传入的变量\n",
    ")\n",
    "\n",
    "# 调用\n",
    "prompt = few_shot_template.invoke({\"input\": \"天津会下雨嘛？\"})\n",
    "\n",
    "print(\"=== Prompt ===\")\n",
    "print(prompt)"
   ],
   "metadata": {
    "collapsed": false,
    "ExecuteTime": {
     "end_time": "2025-10-29T07:03:52.335047Z",
     "start_time": "2025-10-29T07:03:52.228265Z"
    }
   },
   "id": "964bd5f4650d9c89",
   "execution_count": 2
  },
  {
   "cell_type": "markdown",
   "source": [
    "调用大模型以后："
   ],
   "metadata": {
    "collapsed": false
   },
   "id": "348d70216073cabc"
  },
  {
   "cell_type": "code",
   "outputs": [
    {
     "name": "stdout",
     "output_type": "stream",
     "text": [
      "天津市\n"
     ]
    }
   ],
   "source": [
    "import os\n",
    "import dotenv\n",
    "from langchain_openai import ChatOpenAI\n",
    "\n",
    "dotenv.load_dotenv()\n",
    "\n",
    "os.environ['OPENAI_API_KEY'] = os.getenv(\"OPENAI_API_KEY\")\n",
    "os.environ['OPENAI_BASE_URL'] = os.getenv(\"OPENAI_BASE_URL\")\n",
    "\n",
    "chat_model = ChatOpenAI(model=\"gpt-4o-mini\",\n",
    "                        temperature=0.4)\n",
    "\n",
    "response = chat_model.invoke(prompt)\n",
    "print(response.content)"
   ],
   "metadata": {
    "collapsed": false,
    "ExecuteTime": {
     "end_time": "2025-10-29T07:06:20.970038Z",
     "start_time": "2025-10-29T07:06:19.791348Z"
    }
   },
   "id": "2be91e8ce7177f02",
   "execution_count": 3
  },
  {
   "cell_type": "markdown",
   "source": [
    "举例3："
   ],
   "metadata": {
    "collapsed": false
   },
   "id": "e559e86dd4d80be3"
  },
  {
   "cell_type": "code",
   "outputs": [
    {
     "name": "stdout",
     "output_type": "stream",
     "text": [
      "text='你是一个数学专家,算式： 2+2 值： 4 使用： 加法运算 \\n\\n你是一个数学专家,算式： 5-2 值： 3 使用： 减法运算 \\n\\n你是一个数学专家,算式: 2*5 值: 10'\n",
      "你是一个数学专家，算式： 2*5 值： 10 使用： 乘法运算 \n",
      "\n",
      "如果需要更多算式或其他运算的示例，请告诉我！\n"
     ]
    }
   ],
   "source": [
    "#1、创建提示模板\n",
    "from langchain.prompts import PromptTemplate\n",
    "\n",
    "# 创建提示模板，配置一个提示模板，将一个示例格式化为字符串\n",
    "prompt_template = \"你是一个数学专家,算式： {input} 值： {output} 使用： {description} \"\n",
    "\n",
    "# 这是一个提示模板，用于设置每个示例的格式\n",
    "prompt_sample = PromptTemplate.from_template(prompt_template)\n",
    "\n",
    "#2、提供示例\n",
    "examples = [\n",
    "    {\"input\": \"2+2\", \"output\": \"4\", \"description\": \"加法运算\"},\n",
    "    {\"input\": \"5-2\", \"output\": \"3\", \"description\": \"减法运算\"},\n",
    "]\n",
    "\n",
    "#3、创建一个FewShotPromptTemplate对象\n",
    "from langchain.prompts.few_shot import FewShotPromptTemplate\n",
    "\n",
    "prompt = FewShotPromptTemplate(\n",
    "    examples=examples,\n",
    "    example_prompt=prompt_sample,\n",
    "    suffix=\"你是一个数学专家,算式: {input} 值: {output}\",\n",
    "    input_variables=[\"input\", \"output\"]\n",
    ")\n",
    "\n",
    "print(prompt.invoke({\"input\": \"2*5\", \"output\": \"10\"}))\n",
    "\n",
    "#4、初始化大模型，然后调用\n",
    "import os\n",
    "import dotenv\n",
    "from langchain_openai import ChatOpenAI\n",
    "\n",
    "dotenv.load_dotenv()\n",
    "\n",
    "os.environ['OPENAI_API_KEY'] = os.getenv(\"OPENAI_API_KEY\")\n",
    "os.environ['OPENAI_BASE_URL'] = os.getenv(\"OPENAI_BASE_URL\")\n",
    "\n",
    "chat_model = ChatOpenAI(model=\"gpt-4o-mini\")\n",
    "\n",
    "result = chat_model.invoke(prompt.invoke({\"input\": \"2*5\", \"output\": \"10\"}))\n",
    "print(result.content)  # 使用: 乘法运算\n"
   ],
   "metadata": {
    "collapsed": false,
    "ExecuteTime": {
     "end_time": "2025-10-29T07:29:52.336751Z",
     "start_time": "2025-10-29T07:29:49.641272Z"
    }
   },
   "id": "f4d8b551a1506a31",
   "execution_count": 4
  },
  {
   "cell_type": "markdown",
   "source": [
    "## 2、FewShotChatMessagePromptTemplate的使用"
   ],
   "metadata": {
    "collapsed": false
   },
   "id": "a34af69550690291"
  },
  {
   "cell_type": "markdown",
   "source": [
    "举例1：实例化"
   ],
   "metadata": {
    "collapsed": false
   },
   "id": "78c7a9fabb748eda"
  },
  {
   "cell_type": "code",
   "outputs": [
    {
     "name": "stdout",
     "output_type": "stream",
     "text": [
      "Human: 1+1等于几？\n",
      "AI: 1+1等于2\n",
      "Human: 法国的首都是？\n",
      "AI: 巴黎\n"
     ]
    }
   ],
   "source": [
    "from langchain.prompts import (\n",
    "    FewShotChatMessagePromptTemplate,\n",
    "    ChatPromptTemplate\n",
    ")\n",
    "\n",
    "# 1.示例消息格式\n",
    "examples = [\n",
    "    {\"input\": \"1+1等于几？\", \"output\": \"1+1等于2\"},\n",
    "    {\"input\": \"法国的首都是？\", \"output\": \"巴黎\"}\n",
    "]\n",
    "\n",
    "# 2.定义示例的消息格式提示词模版\n",
    "msg_example_prompt = ChatPromptTemplate.from_messages([\n",
    "    (\"human\", \"{input}\"),\n",
    "    (\"ai\", \"{output}\"),\n",
    "])\n",
    "\n",
    "# 3.定义FewShotChatMessagePromptTemplate对象\n",
    "few_shot_prompt = FewShotChatMessagePromptTemplate(\n",
    "    example_prompt=msg_example_prompt,\n",
    "    examples=examples\n",
    ")\n",
    "\n",
    "# 4.输出格式化后的消息\n",
    "print(few_shot_prompt.format())"
   ],
   "metadata": {
    "collapsed": false,
    "ExecuteTime": {
     "end_time": "2025-10-29T07:37:28.546047Z",
     "start_time": "2025-10-29T07:37:28.527366Z"
    }
   },
   "id": "4a6a48b4b8c96956",
   "execution_count": 5
  },
  {
   "cell_type": "markdown",
   "source": [
    "举例2："
   ],
   "metadata": {
    "collapsed": false
   },
   "id": "b5f51882ce6c7cea"
  },
  {
   "cell_type": "code",
   "outputs": [
    {
     "data": {
      "text/plain": "'16'"
     },
     "execution_count": 6,
     "metadata": {},
     "output_type": "execute_result"
    }
   ],
   "source": [
    "# 1.导入相关包\n",
    "from langchain_core.prompts import (FewShotChatMessagePromptTemplate,\n",
    "                                    ChatPromptTemplate)\n",
    "\n",
    "# 2.定义示例组\n",
    "examples = [\n",
    "    {\"input\": \"2🦜2\", \"output\": \"4\"},\n",
    "    {\"input\": \"2🦜3\", \"output\": \"8\"},\n",
    "]\n",
    "\n",
    "# 3.定义示例的消息格式提示词模版\n",
    "example_prompt = ChatPromptTemplate.from_messages([\n",
    "    ('human', '{input} 是多少?'),\n",
    "    ('ai', '{output}')\n",
    "])\n",
    "\n",
    "# 4.定义FewShotChatMessagePromptTemplate对象\n",
    "few_shot_prompt = FewShotChatMessagePromptTemplate(\n",
    "    examples=examples,  # 示例组\n",
    "    example_prompt=example_prompt,  # 示例提示词词模版\n",
    ")\n",
    "\n",
    "# 5.输出完整提示词的消息模版\n",
    "final_prompt = ChatPromptTemplate.from_messages(\n",
    "    [\n",
    "        ('system', '你是一个数学奇才'),\n",
    "        few_shot_prompt,\n",
    "        ('human', '{input}'),\n",
    "    ]\n",
    ")\n",
    "\n",
    "#6.提供大模型\n",
    "import os\n",
    "import dotenv\n",
    "from langchain_openai import ChatOpenAI\n",
    "\n",
    "dotenv.load_dotenv()\n",
    "\n",
    "os.environ['OPENAI_API_KEY'] = os.getenv(\"OPENAI_API_KEY\")\n",
    "os.environ['OPENAI_BASE_URL'] = os.getenv(\"OPENAI_BASE_URL\")\n",
    "\n",
    "chat_model = ChatOpenAI(model=\"gpt-4o-mini\",\n",
    "                        temperature=0.4)\n",
    "\n",
    "chat_model.invoke(final_prompt.invoke(input=\"2🦜4\")).content\n"
   ],
   "metadata": {
    "collapsed": false,
    "ExecuteTime": {
     "end_time": "2025-10-29T07:46:01.473936Z",
     "start_time": "2025-10-29T07:46:00.182892Z"
    }
   },
   "id": "dcc434a7cf90cbdd",
   "execution_count": 6
  },
  {
   "cell_type": "markdown",
   "source": [
    "## 3、Example Selector 示例选择器"
   ],
   "metadata": {
    "collapsed": false
   },
   "id": "99bb54249bea9acf"
  },
  {
   "cell_type": "markdown",
   "source": [
    "\n",
    "举例1："
   ],
   "metadata": {
    "collapsed": false
   },
   "id": "20a9f6c2ad8df18e"
  },
  {
   "cell_type": "code",
   "outputs": [
    {
     "name": "stdout",
     "output_type": "stream",
     "text": [
      "与输入最相似的示例：[{'answer': '\\n                接下来还需要问什么问题吗？\\n                追问：谁是乔治·华盛顿的母亲？\\n                中间答案：乔治·华盛顿的母亲是玛丽·鲍尔·华盛顿。\\n                ', 'question': '谁是乔治·华盛顿的外祖父？'}]\n"
     ]
    }
   ],
   "source": [
    "# 1.导入相关包\n",
    "from langchain_community.vectorstores import Chroma\n",
    "from langchain_core.example_selectors import SemanticSimilarityExampleSelector\n",
    "import os\n",
    "import dotenv\n",
    "from langchain_openai import OpenAIEmbeddings\n",
    "\n",
    "dotenv.load_dotenv()\n",
    "\n",
    "# 2.定义嵌入模型\n",
    "os.environ['OPENAI_API_KEY'] = os.getenv(\"OPENAI_API_KEY\")\n",
    "os.environ['OPENAI_BASE_URL'] = os.getenv(\"OPENAI_BASE_URL\")\n",
    "\n",
    "embeddings_model = OpenAIEmbeddings(\n",
    "    model=\"text-embedding-ada-002\"\n",
    ")\n",
    "\n",
    "# 3.定义示例组\n",
    "examples = [\n",
    "    {\n",
    "        \"question\": \"谁活得更久，穆罕默德·阿里还是艾伦·图灵?\",\n",
    "        \"answer\": \"\"\"\n",
    "                接下来还需要问什么问题吗？\n",
    "                追问：穆罕默德·阿里去世时多大年纪？\n",
    "                中间答案：穆罕默德·阿里去世时享年74岁。\n",
    "                \"\"\",\n",
    "    },\n",
    "    {\n",
    "        \"question\": \"craigslist的创始人是什么时候出生的？\",\n",
    "        \"answer\": \"\"\"\n",
    "                接下来还需要问什么问题吗？\n",
    "                追问：谁是craigslist的创始人？\n",
    "                中级答案：Craigslist是由克雷格·纽马克创立的。\n",
    "                \"\"\",\n",
    "    },\n",
    "    {\n",
    "        \"question\": \"谁是乔治·华盛顿的外祖父？\",\n",
    "        \"answer\": \"\"\"\n",
    "                接下来还需要问什么问题吗？\n",
    "                追问：谁是乔治·华盛顿的母亲？\n",
    "                中间答案：乔治·华盛顿的母亲是玛丽·鲍尔·华盛顿。\n",
    "                \"\"\",\n",
    "    },\n",
    "    {\n",
    "        \"question\": \"《大白鲨》和《皇家赌场》的导演都来自同一个国家吗？\",\n",
    "        \"answer\": \"\"\"\n",
    "                接下来还需要问什么问题吗？\n",
    "                追问：《大白鲨》的导演是谁？\n",
    "                中级答案：《大白鲨》的导演是史蒂文·斯皮尔伯格。\n",
    "                \"\"\",\n",
    "    },\n",
    "]\n",
    "\n",
    "# 4.定义示例选择器\n",
    "example_selector = SemanticSimilarityExampleSelector.from_examples(\n",
    "    # 这是可供选择的示例列表\n",
    "    examples,\n",
    "    # 这是用于生成嵌入的嵌入类，用于衡量语义相似性\n",
    "    embeddings_model,\n",
    "    # 这是用于存储嵌入并进行相似性搜索的 VectorStore 类\n",
    "    Chroma,\n",
    "    # 这是要生成的示例数量\n",
    "    k=1,\n",
    ")\n",
    "\n",
    "# 选择与输入最相似的示例\n",
    "question = \"玛丽·鲍尔·华盛顿的父亲是谁?\"\n",
    "selected_examples = example_selector.select_examples({\"question\": question})\n",
    "print(f\"与输入最相似的示例：{selected_examples}\")\n",
    "\n",
    "# for example in selected_examples:\n",
    "# print(\"\\n\")\n",
    "# for k, v in example.items():\n",
    "# print(f\"{k}: {v}\")"
   ],
   "metadata": {
    "collapsed": false,
    "ExecuteTime": {
     "end_time": "2025-10-29T07:59:25.503562Z",
     "start_time": "2025-10-29T07:59:22.766672Z"
    }
   },
   "id": "c5e1e1ccd96c8384",
   "execution_count": 8
  },
  {
   "cell_type": "markdown",
   "source": [
    "举例2："
   ],
   "metadata": {
    "collapsed": false
   },
   "id": "b0f5be6e55a0be56"
  },
  {
   "cell_type": "code",
   "outputs": [
    {
     "name": "stdout",
     "output_type": "stream",
     "text": [
      "给出每个词组的反义词\n",
      "\n",
      "Input: 高兴\n",
      "Output: 悲伤\n",
      "\n",
      "Input: 阳光\n",
      "Output: 阴暗\n",
      "\n",
      "Input: 忧郁\n",
      "Output:\n"
     ]
    }
   ],
   "source": [
    "# 1.导入相关包\n",
    "from langchain_community.vectorstores import FAISS\n",
    "from langchain_core.example_selectors import SemanticSimilarityExampleSelector\n",
    "from langchain_core.prompts import FewShotPromptTemplate, PromptTemplate\n",
    "from langchain_openai import OpenAIEmbeddings\n",
    "\n",
    "# 2.定义示例提示词模版\n",
    "example_prompt = PromptTemplate.from_template(\n",
    "    template=\"Input: {input}\\nOutput: {output}\",\n",
    ")\n",
    "\n",
    "# 3.创建一个示例提示词模版\n",
    "examples = [\n",
    "    {\"input\": \"高兴\", \"output\": \"悲伤\"},\n",
    "    {\"input\": \"高\", \"output\": \"矮\"},\n",
    "    {\"input\": \"长\", \"output\": \"短\"},\n",
    "    {\"input\": \"精力充沛\", \"output\": \"无精打采\"},\n",
    "    {\"input\": \"阳光\", \"output\": \"阴暗\"},\n",
    "    {\"input\": \"粗糙\", \"output\": \"光滑\"},\n",
    "    {\"input\": \"干燥\", \"output\": \"潮湿\"},\n",
    "    {\"input\": \"富裕\", \"output\": \"贫穷\"},\n",
    "]\n",
    "\n",
    "# 4.定义嵌入模型\n",
    "embeddings = OpenAIEmbeddings(\n",
    "    model=\"text-embedding-ada-002\"\n",
    ")\n",
    "\n",
    "# 5.创建语义相似性示例选择器\n",
    "example_selector = SemanticSimilarityExampleSelector.from_examples(\n",
    "    examples,\n",
    "    embeddings,\n",
    "    FAISS,\n",
    "    k=2,\n",
    ")\n",
    "\n",
    "#或者\n",
    "#example_selector = SemanticSimilarityExampleSelector(\n",
    "# examples,\n",
    "# embeddings,\n",
    "# FAISS,\n",
    "# k=2\n",
    "#)\n",
    "\n",
    "# 6.定义小样本提示词模版\n",
    "similar_prompt = FewShotPromptTemplate(\n",
    "    example_selector=example_selector,\n",
    "    example_prompt=example_prompt,\n",
    "    prefix=\"给出每个词组的反义词\",\n",
    "    suffix=\"Input: {word}\\nOutput:\",\n",
    "    input_variables=[\"word\"],\n",
    ")\n",
    "\n",
    "response = similar_prompt.invoke({\"word\": \"忧郁\"})\n",
    "print(response.text)"
   ],
   "metadata": {
    "collapsed": false,
    "ExecuteTime": {
     "end_time": "2025-10-29T08:01:13.475121Z",
     "start_time": "2025-10-29T08:01:11.983274Z"
    }
   },
   "id": "9e8935cc1505c84a",
   "execution_count": 9
  }
 ],
 "metadata": {
  "kernelspec": {
   "display_name": "Python 3",
   "language": "python",
   "name": "python3"
  },
  "language_info": {
   "codemirror_mode": {
    "name": "ipython",
    "version": 2
   },
   "file_extension": ".py",
   "mimetype": "text/x-python",
   "name": "python",
   "nbconvert_exporter": "python",
   "pygments_lexer": "ipython2",
   "version": "2.7.6"
  }
 },
 "nbformat": 4,
 "nbformat_minor": 5
}
