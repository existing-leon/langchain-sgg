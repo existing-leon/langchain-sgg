{
 "cells": [
  {
   "cell_type": "markdown",
   "source": [
    "# 1、PromptTemplate的使用\n",
    "\n",
    "1、PromptTemplate如何获取实例\n",
    "\n",
    "2、两种特殊结构的使用（部分提示词模板的使用、组合提示词的使用）\n",
    "\n",
    "3、给变量赋值的两种方式：format() / invoke()\n",
    "\n",
    "4、结合大模型的使用"
   ],
   "metadata": {
    "collapsed": false
   },
   "id": "560e352d05dc17b"
  },
  {
   "cell_type": "markdown",
   "source": [
    "## 1、PromptTemplate如何获取实例\n",
    "\n",
    "方式1：使用构造方法的方式"
   ],
   "metadata": {
    "collapsed": false
   },
   "id": "cc4ee46c68c91bab"
  },
  {
   "cell_type": "code",
   "outputs": [
    {
     "name": "stdout",
     "output_type": "stream",
     "text": [
      "你是一个人工智能专家, 你的名字叫小智\n"
     ]
    }
   ],
   "source": [
    "from langchain_core.prompts import PromptTemplate\n",
    "\n",
    "# 1、创建PromptTemplate的实例\n",
    "# 参数中必须要指明：template\n",
    "prompt_template = PromptTemplate(\n",
    "    template=\"你是一个{role}, 你的名字叫{name}\",\n",
    "    input_variables=[\"role\", \"name\"]\n",
    ")\n",
    "\n",
    "# print(prompt_template)\n",
    "\n",
    "\n",
    "# 2、填充实例中的变量, 暂且使用 format()\n",
    "prompt = prompt_template.format(role=\"人工智能专家\", name=\"小智\")\n",
    "\n",
    "print(prompt)"
   ],
   "metadata": {
    "collapsed": false,
    "ExecuteTime": {
     "end_time": "2025-10-27T08:28:56.662623Z",
     "start_time": "2025-10-27T08:28:56.637702Z"
    }
   },
   "id": "6370b2dcfd7e2ea2",
   "execution_count": 7
  },
  {
   "cell_type": "code",
   "outputs": [
    {
     "name": "stdout",
     "output_type": "stream",
     "text": [
      "提示词1: 请评价智能手机的优缺点，包括电池续航和拍照质量。\n",
      "提示词2: 请评价笔记本电脑的优缺点，包括处理速度和便携性。\n"
     ]
    }
   ],
   "source": [
    "from langchain.prompts import PromptTemplate\n",
    "\n",
    "#定义多变量模板\n",
    "template = PromptTemplate(\n",
    "    template=\"请评价{product}的优缺点，包括{aspect1}和{aspect2}。\",\n",
    "    input_variables=[\"product\", \"aspect1\", \"aspect2\"])\n",
    "\n",
    "#使用模板生成提示词\n",
    "prompt_1 = template.format(product=\"智能手机\", aspect1=\"电池续航\", aspect2=\"拍照质量\")\n",
    "prompt_2 = template.format(product=\"笔记本电脑\", aspect1=\"处理速度\", aspect2=\"便携性\")\n",
    "\n",
    "print(\"提示词1:\", prompt_1)\n",
    "print(\"提示词2:\", prompt_2)"
   ],
   "metadata": {
    "collapsed": false,
    "ExecuteTime": {
     "end_time": "2025-10-27T08:30:14.551460Z",
     "start_time": "2025-10-27T08:30:14.362936Z"
    }
   },
   "id": "c393d95d98f63c03",
   "execution_count": 8
  },
  {
   "cell_type": "markdown",
   "source": [
    "方式2：from_template()：推荐！！！"
   ],
   "metadata": {
    "collapsed": false
   },
   "id": "4d47055db671849b"
  },
  {
   "cell_type": "code",
   "outputs": [
    {
     "name": "stdout",
     "output_type": "stream",
     "text": [
      "你是一个人工智能专家, 你的名字叫小智\n"
     ]
    }
   ],
   "source": [
    "from langchain_core.prompts import PromptTemplate\n",
    "\n",
    "# 1、创建PromptTemplate的实例\n",
    "prompt_template = PromptTemplate.from_template(template=\"你是一个{role}, 你的名字叫{name}\")\n",
    "\n",
    "# 2、填充实例中的变量, 暂且使用 format()\n",
    "prompt = prompt_template.format(role=\"人工智能专家\", name=\"小智\")\n",
    "\n",
    "print(prompt)"
   ],
   "metadata": {
    "collapsed": false,
    "ExecuteTime": {
     "end_time": "2025-10-27T08:36:36.897247Z",
     "start_time": "2025-10-27T08:36:36.882245Z"
    }
   },
   "id": "8f7c0dbaf6eaed33",
   "execution_count": 9
  },
  {
   "cell_type": "code",
   "outputs": [
    {
     "name": "stdout",
     "output_type": "stream",
     "text": [
      "提示词1: 请评价智能手机的优缺点，包括电池续航和拍照质量。\n"
     ]
    }
   ],
   "source": [
    "from langchain.prompts import PromptTemplate\n",
    "\n",
    "#定义多变量模板\n",
    "template = PromptTemplate.from_template(template=\"请评价{product}的优缺点，包括{aspect1}和{aspect2}。\")\n",
    "\n",
    "#使用模板生成提示词\n",
    "prompt_1 = template.format(product=\"智能手机\", aspect1=\"电池续航\", aspect2=\"拍照质量\")\n",
    "\n",
    "print(\"提示词1:\", prompt_1)"
   ],
   "metadata": {
    "collapsed": false,
    "ExecuteTime": {
     "end_time": "2025-10-27T08:44:13.683498Z",
     "start_time": "2025-10-27T08:44:13.670529Z"
    }
   },
   "id": "bd855199fbff2239",
   "execution_count": 10
  },
  {
   "cell_type": "markdown",
   "source": [
    "如何提示词模板不包含变量, 则调用format()时, 不需要传入参数"
   ],
   "metadata": {
    "collapsed": false
   },
   "id": "6551cb91aa0ca53d"
  },
  {
   "cell_type": "code",
   "outputs": [
    {
     "name": "stdout",
     "output_type": "stream",
     "text": [
      "\n",
      "Tell me a joke\n"
     ]
    }
   ],
   "source": [
    "#1.导入相关的包\n",
    "from langchain_core.prompts import PromptTemplate\n",
    "\n",
    "# 2.定义提示词模版对象\n",
    "text = \"\"\"\n",
    "Tell me a joke\n",
    "\"\"\"\n",
    "prompt_template = PromptTemplate.from_template(text)\n",
    "\n",
    "# 3.默认使用f-string进行格式化（返回格式好的字符串）\n",
    "prompt = prompt_template.format()\n",
    "print(prompt)"
   ],
   "metadata": {
    "collapsed": false,
    "ExecuteTime": {
     "end_time": "2025-10-27T08:46:05.668747Z",
     "start_time": "2025-10-27T08:46:05.655755Z"
    }
   },
   "id": "6c251d610792d6f3",
   "execution_count": 11
  },
  {
   "cell_type": "markdown",
   "source": [
    "## 2、两种特殊结构的使用（部分提示词模板的使用、组合提示词的使用）\n",
    "\n",
    "### 2.1 部分提示词模板的使用（重点）\n",
    "\n",
    "方式1：在PromptTemplate的构造方法或from_template()的方法内, 使用partial_variables设置"
   ],
   "metadata": {
    "collapsed": false
   },
   "id": "bf1c8762cb2be728"
  },
  {
   "cell_type": "code",
   "outputs": [],
   "source": [
    "from langchain.prompts import PromptTemplate\n",
    "\n",
    "#定义多变量模板\n",
    "template = PromptTemplate.from_template(\n",
    "    template=\"请评价{product}的优缺点，包括{aspect1}和{aspect2}。\",\n",
    "    partial_variables={\"aspect1\": \"电池续航\"}\n",
    ")\n",
    "\n",
    "#使用模板生成提示词\n",
    "prompt_1 = template.format(product=\"智能手机\", aspect2=\"拍照质量\")\n",
    "\n",
    "print(\"提示词1:\", prompt_1)"
   ],
   "metadata": {
    "collapsed": false
   },
   "id": "79370daf2c611c87"
  },
  {
   "cell_type": "code",
   "outputs": [
    {
     "name": "stdout",
     "output_type": "stream",
     "text": [
      "提示词1: 请评价智能手机的优缺点，包括电池续航11和拍照质量22。\n"
     ]
    }
   ],
   "source": [
    "from langchain.prompts import PromptTemplate\n",
    "\n",
    "#定义多变量模板\n",
    "template = PromptTemplate(\n",
    "    template=\"请评价{product}的优缺点，包括{aspect1}和{aspect2}。\",\n",
    "    input_variables=[\"product\"],\n",
    "    partial_variables={\"aspect1\": \"电池续航\", \"aspect2\": \"拍照质量\"}\n",
    ")\n",
    "\n",
    "#使用模板生成提示词（重复的话会更新值）\n",
    "prompt_1 = template.format(product=\"智能手机\", aspect1=\"电池续航11\", aspect2=\"拍照质量22\")\n",
    "\n",
    "print(\"提示词1:\", prompt_1)"
   ],
   "metadata": {
    "collapsed": false,
    "ExecuteTime": {
     "end_time": "2025-10-27T11:28:35.878819Z",
     "start_time": "2025-10-27T11:28:35.869847Z"
    }
   },
   "id": "4dcd63b336af853f",
   "execution_count": 27
  },
  {
   "cell_type": "markdown",
   "source": [
    "方式2：调用方法partial()"
   ],
   "metadata": {
    "collapsed": false
   },
   "id": "d8dd914e07d3dc0"
  },
  {
   "cell_type": "code",
   "outputs": [
    {
     "name": "stdout",
     "output_type": "stream",
     "text": [
      "提示词1: 请评价智能手机的优缺点，包括电池续航和拍照质量。\n"
     ]
    }
   ],
   "source": [
    "from langchain.prompts import PromptTemplate\n",
    "\n",
    "#定义多变量模板\n",
    "template = PromptTemplate(\n",
    "    template=\"请评价{product}的优缺点，包括{aspect1}和{aspect2}。\",\n",
    "    input_variables=[\"product\", \"aspect1\", \"aspect2\"],\n",
    "    # partial_variables={\"aspect1\": \"电池续航\", \"aspect2\": \"拍照质量\"}\n",
    ")\n",
    "\n",
    "# partial() 方法调完之后不会对方法调用者产生影响, 而其返回值是一个新的模板\n",
    "template = template.partial(aspect1=\"电池续航\", aspect2=\"拍照质量\")\n",
    "\n",
    "#使用模板生成提示词（重复的话会更新值）\n",
    "prompt_1 = template.format(product=\"智能手机\")\n",
    "\n",
    "print(\"提示词1:\", prompt_1)"
   ],
   "metadata": {
    "collapsed": false,
    "ExecuteTime": {
     "end_time": "2025-10-27T11:32:44.610491Z",
     "start_time": "2025-10-27T11:32:44.590548Z"
    }
   },
   "id": "60bbab8f1c33ddf",
   "execution_count": 31
  },
  {
   "cell_type": "code",
   "outputs": [
    {
     "name": "stdout",
     "output_type": "stream",
     "text": [
      "提示词1: 请评价智能手机的优缺点，包括电池续航和拍照质量。\n"
     ]
    }
   ],
   "source": [
    "from langchain.prompts import PromptTemplate\n",
    "\n",
    "#定义多变量模板\n",
    "template = PromptTemplate.from_template(\n",
    "    template=\"请评价{product}的优缺点，包括{aspect1}和{aspect2}。\"\n",
    ")\n",
    "\n",
    "# partial() 方法调完之后不会对方法调用者产生影响, 而其返回值是一个新的模板\n",
    "template = template.partial(aspect1=\"电池续航\", aspect2=\"拍照质量\")\n",
    "\n",
    "#使用模板生成提示词（重复的话会更新值）\n",
    "prompt_1 = template.format(product=\"智能手机\")\n",
    "\n",
    "print(\"提示词1:\", prompt_1)"
   ],
   "metadata": {
    "collapsed": false,
    "ExecuteTime": {
     "end_time": "2025-10-27T11:33:51.729119Z",
     "start_time": "2025-10-27T11:33:51.707177Z"
    }
   },
   "id": "db01915668625429",
   "execution_count": 32
  }
 ],
 "metadata": {
  "kernelspec": {
   "display_name": "Python 3",
   "language": "python",
   "name": "python3"
  },
  "language_info": {
   "codemirror_mode": {
    "name": "ipython",
    "version": 2
   },
   "file_extension": ".py",
   "mimetype": "text/x-python",
   "name": "python",
   "nbconvert_exporter": "python",
   "pygments_lexer": "ipython2",
   "version": "2.7.6"
  }
 },
 "nbformat": 4,
 "nbformat_minor": 5
}
