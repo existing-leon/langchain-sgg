{
 "cells": [
  {
   "cell_type": "markdown",
   "source": [
    "# 1、PromptTemplate的使用\n",
    "\n",
    "1、PromptTemplate如何获取实例（两种方式（要求掌握））\n",
    "\n",
    "2、两种特殊结构的使用（部分提示词模板的使用（要求掌握）、组合提示词的使用（了解））\n",
    "\n",
    "3、给变量赋值的两种方式（要求掌握）：format() / invoke()\n",
    "\n",
    "4、结合大模型的使用（要求掌握）"
   ],
   "metadata": {
    "collapsed": false
   },
   "id": "560e352d05dc17b"
  },
  {
   "cell_type": "markdown",
   "source": [
    "## 1、PromptTemplate如何获取实例\n",
    "\n",
    "方式1：使用构造方法的方式"
   ],
   "metadata": {
    "collapsed": false
   },
   "id": "cc4ee46c68c91bab"
  },
  {
   "cell_type": "code",
   "outputs": [
    {
     "name": "stdout",
     "output_type": "stream",
     "text": [
      "你是一个人工智能专家, 你的名字叫小智\n"
     ]
    }
   ],
   "source": [
    "from langchain.prompts import PromptTemplate\n",
    "\n",
    "# 1、创建PromptTemplate的实例\n",
    "# 参数中必须要指明：template\n",
    "prompt_template = PromptTemplate(\n",
    "    template=\"你是一个{role}, 你的名字叫{name}\",\n",
    "    input_variables=[\"role\", \"name\"]\n",
    ")\n",
    "\n",
    "# print(prompt_template)\n",
    "\n",
    "\n",
    "# 2、填充实例中的变量, 暂且使用 format()\n",
    "prompt = prompt_template.format(role=\"人工智能专家\", name=\"小智\")\n",
    "\n",
    "print(prompt)"
   ],
   "metadata": {
    "collapsed": false,
    "ExecuteTime": {
     "end_time": "2025-10-28T02:36:31.097686Z",
     "start_time": "2025-10-28T02:36:31.077700Z"
    }
   },
   "id": "6370b2dcfd7e2ea2",
   "execution_count": 38
  },
  {
   "cell_type": "code",
   "outputs": [
    {
     "name": "stdout",
     "output_type": "stream",
     "text": [
      "提示词1: 请评价智能手机的优缺点，包括电池续航和拍照质量。\n",
      "提示词2: 请评价笔记本电脑的优缺点，包括处理速度和便携性。\n"
     ]
    }
   ],
   "source": [
    "from langchain.prompts import PromptTemplate\n",
    "\n",
    "#定义多变量模板\n",
    "template = PromptTemplate(\n",
    "    template=\"请评价{product}的优缺点，包括{aspect1}和{aspect2}。\",\n",
    "    input_variables=[\"product\", \"aspect1\", \"aspect2\"])\n",
    "\n",
    "#使用模板生成提示词\n",
    "prompt_1 = template.format(product=\"智能手机\", aspect1=\"电池续航\", aspect2=\"拍照质量\")\n",
    "prompt_2 = template.format(product=\"笔记本电脑\", aspect1=\"处理速度\", aspect2=\"便携性\")\n",
    "\n",
    "print(\"提示词1:\", prompt_1)\n",
    "print(\"提示词2:\", prompt_2)"
   ],
   "metadata": {
    "collapsed": false,
    "ExecuteTime": {
     "end_time": "2025-10-28T02:36:34.142824Z",
     "start_time": "2025-10-28T02:36:34.121849Z"
    }
   },
   "id": "c393d95d98f63c03",
   "execution_count": 39
  },
  {
   "cell_type": "markdown",
   "source": [
    "方式2：from_template()：推荐！！！"
   ],
   "metadata": {
    "collapsed": false
   },
   "id": "4d47055db671849b"
  },
  {
   "cell_type": "code",
   "outputs": [
    {
     "name": "stdout",
     "output_type": "stream",
     "text": [
      "你是一个人工智能专家, 你的名字叫小智\n"
     ]
    }
   ],
   "source": [
    "from langchain.prompts import PromptTemplate\n",
    "\n",
    "# 1、创建PromptTemplate的实例\n",
    "prompt_template = PromptTemplate.from_template(template=\"你是一个{role}, 你的名字叫{name}\")\n",
    "\n",
    "# 2、填充实例中的变量, 暂且使用 format()\n",
    "prompt = prompt_template.format(role=\"人工智能专家\", name=\"小智\")\n",
    "\n",
    "print(prompt)"
   ],
   "metadata": {
    "collapsed": false,
    "ExecuteTime": {
     "end_time": "2025-10-28T02:36:46.165405Z",
     "start_time": "2025-10-28T02:36:46.150439Z"
    }
   },
   "id": "8f7c0dbaf6eaed33",
   "execution_count": 42
  },
  {
   "cell_type": "code",
   "outputs": [
    {
     "name": "stdout",
     "output_type": "stream",
     "text": [
      "提示词1: 请评价智能手机的优缺点，包括电池续航和拍照质量。\n"
     ]
    }
   ],
   "source": [
    "from langchain.prompts import PromptTemplate\n",
    "\n",
    "#定义多变量模板\n",
    "template = PromptTemplate.from_template(template=\"请评价{product}的优缺点，包括{aspect1}和{aspect2}。\")\n",
    "\n",
    "#使用模板生成提示词\n",
    "prompt_1 = template.format(product=\"智能手机\", aspect1=\"电池续航\", aspect2=\"拍照质量\")\n",
    "\n",
    "print(\"提示词1:\", prompt_1)"
   ],
   "metadata": {
    "collapsed": false,
    "ExecuteTime": {
     "end_time": "2025-10-27T08:44:13.683498Z",
     "start_time": "2025-10-27T08:44:13.670529Z"
    }
   },
   "id": "bd855199fbff2239",
   "execution_count": 10
  },
  {
   "cell_type": "markdown",
   "source": [
    "如何提示词模板不包含变量, 则调用format()时, 不需要传入参数"
   ],
   "metadata": {
    "collapsed": false
   },
   "id": "6551cb91aa0ca53d"
  },
  {
   "cell_type": "code",
   "outputs": [
    {
     "name": "stdout",
     "output_type": "stream",
     "text": [
      "\n",
      "Tell me a joke\n"
     ]
    }
   ],
   "source": [
    "#1.导入相关的包\n",
    "from langchain.prompts import PromptTemplate\n",
    "\n",
    "# 2.定义提示词模版对象\n",
    "text = \"\"\"\n",
    "Tell me a joke\n",
    "\"\"\"\n",
    "prompt_template = PromptTemplate.from_template(text)\n",
    "\n",
    "# 3.默认使用f-string进行格式化（返回格式好的字符串）\n",
    "prompt = prompt_template.format()\n",
    "print(prompt)"
   ],
   "metadata": {
    "collapsed": false,
    "ExecuteTime": {
     "end_time": "2025-10-28T02:36:52.280243Z",
     "start_time": "2025-10-28T02:36:52.264281Z"
    }
   },
   "id": "6c251d610792d6f3",
   "execution_count": 43
  },
  {
   "cell_type": "markdown",
   "source": [
    "## 2、两种特殊结构的使用（部分提示词模板的使用、组合提示词的使用）\n",
    "\n",
    "### 2.1 部分提示词模板的使用（重点）\n",
    "\n",
    "方式1：在PromptTemplate的构造方法或from_template()的方法内, 使用partial_variables设置"
   ],
   "metadata": {
    "collapsed": false
   },
   "id": "bf1c8762cb2be728"
  },
  {
   "cell_type": "code",
   "outputs": [],
   "source": [
    "from langchain.prompts import PromptTemplate\n",
    "\n",
    "#定义多变量模板\n",
    "template = PromptTemplate.from_template(\n",
    "    template=\"请评价{product}的优缺点，包括{aspect1}和{aspect2}。\",\n",
    "    partial_variables={\"aspect1\": \"电池续航\"}\n",
    ")\n",
    "\n",
    "#使用模板生成提示词\n",
    "prompt_1 = template.format(product=\"智能手机\", aspect2=\"拍照质量\")\n",
    "\n",
    "print(\"提示词1:\", prompt_1)"
   ],
   "metadata": {
    "collapsed": false
   },
   "id": "79370daf2c611c87"
  },
  {
   "cell_type": "code",
   "outputs": [
    {
     "name": "stdout",
     "output_type": "stream",
     "text": [
      "提示词1: 请评价智能手机的优缺点，包括电池续航11和拍照质量22。\n"
     ]
    }
   ],
   "source": [
    "from langchain.prompts import PromptTemplate\n",
    "\n",
    "#定义多变量模板\n",
    "template = PromptTemplate(\n",
    "    template=\"请评价{product}的优缺点，包括{aspect1}和{aspect2}。\",\n",
    "    input_variables=[\"product\"],\n",
    "    partial_variables={\"aspect1\": \"电池续航\", \"aspect2\": \"拍照质量\"}\n",
    ")\n",
    "\n",
    "#使用模板生成提示词（重复的话会更新值）\n",
    "prompt_1 = template.format(product=\"智能手机\", aspect1=\"电池续航11\", aspect2=\"拍照质量22\")\n",
    "\n",
    "print(\"提示词1:\", prompt_1)"
   ],
   "metadata": {
    "collapsed": false,
    "ExecuteTime": {
     "end_time": "2025-10-27T11:28:35.878819Z",
     "start_time": "2025-10-27T11:28:35.869847Z"
    }
   },
   "id": "4dcd63b336af853f",
   "execution_count": 27
  },
  {
   "cell_type": "markdown",
   "source": [
    "方式2：调用方法partial()"
   ],
   "metadata": {
    "collapsed": false
   },
   "id": "d8dd914e07d3dc0"
  },
  {
   "cell_type": "code",
   "outputs": [
    {
     "name": "stdout",
     "output_type": "stream",
     "text": [
      "提示词1: 请评价智能手机的优缺点，包括电池续航和拍照质量。\n"
     ]
    }
   ],
   "source": [
    "from langchain.prompts import PromptTemplate\n",
    "\n",
    "#定义多变量模板\n",
    "template = PromptTemplate(\n",
    "    template=\"请评价{product}的优缺点，包括{aspect1}和{aspect2}。\",\n",
    "    input_variables=[\"product\", \"aspect1\", \"aspect2\"],\n",
    "    # partial_variables={\"aspect1\": \"电池续航\", \"aspect2\": \"拍照质量\"}\n",
    ")\n",
    "\n",
    "# partial() 方法调完之后不会对方法调用者产生影响, 而其返回值是一个新的模板\n",
    "template = template.partial(aspect1=\"电池续航\", aspect2=\"拍照质量\")\n",
    "\n",
    "#使用模板生成提示词（重复的话会更新值）\n",
    "prompt_1 = template.format(product=\"智能手机\")\n",
    "\n",
    "print(\"提示词1:\", prompt_1)"
   ],
   "metadata": {
    "collapsed": false,
    "ExecuteTime": {
     "end_time": "2025-10-27T11:32:44.610491Z",
     "start_time": "2025-10-27T11:32:44.590548Z"
    }
   },
   "id": "60bbab8f1c33ddf",
   "execution_count": 31
  },
  {
   "cell_type": "code",
   "outputs": [
    {
     "name": "stdout",
     "output_type": "stream",
     "text": [
      "提示词1: 请评价智能手机的优缺点，包括电池续航和拍照质量。\n"
     ]
    }
   ],
   "source": [
    "from langchain.prompts import PromptTemplate\n",
    "\n",
    "#定义多变量模板\n",
    "template = PromptTemplate.from_template(\n",
    "    template=\"请评价{product}的优缺点，包括{aspect1}和{aspect2}。\"\n",
    ")\n",
    "\n",
    "# partial() 方法调完之后不会对方法调用者产生影响, 而其返回值是一个新的模板\n",
    "template = template.partial(aspect1=\"电池续航\", aspect2=\"拍照质量\")\n",
    "\n",
    "#使用模板生成提示词（重复的话会更新值）\n",
    "prompt_1 = template.format(product=\"智能手机\")\n",
    "\n",
    "print(\"提示词1:\", prompt_1)"
   ],
   "metadata": {
    "collapsed": false,
    "ExecuteTime": {
     "end_time": "2025-10-27T11:33:51.729119Z",
     "start_time": "2025-10-27T11:33:51.707177Z"
    }
   },
   "id": "db01915668625429",
   "execution_count": 32
  },
  {
   "cell_type": "markdown",
   "source": [
    "### 2.2 组合提示词的使用（了解）"
   ],
   "metadata": {
    "collapsed": false
   },
   "id": "1266123205632a1d"
  },
  {
   "cell_type": "code",
   "outputs": [
    {
     "name": "stdout",
     "output_type": "stream",
     "text": [
      "Tell me a joke about sports, make it funny\n",
      "\n",
      "and in spanish\n"
     ]
    }
   ],
   "source": [
    "from langchain_core.prompts import PromptTemplate\n",
    "\n",
    "template = (\n",
    "        PromptTemplate.from_template(\"Tell me a joke about {topic}\")\n",
    "        + \", make it funny\"\n",
    "        + \"\\n\\nand in {language}\"\n",
    ")\n",
    "\n",
    "prompt = template.format(topic=\"sports\", language=\"spanish\")\n",
    "print(prompt)"
   ],
   "metadata": {
    "collapsed": false,
    "ExecuteTime": {
     "end_time": "2025-10-28T02:42:55.256842Z",
     "start_time": "2025-10-28T02:42:55.235868Z"
    }
   },
   "id": "41585abb2e2d9a1b",
   "execution_count": 44
  },
  {
   "cell_type": "markdown",
   "source": [
    "## 3、给变量赋值的两种方式：format() / invoke()\n",
    "\n",
    "format()：参数部分：给变量赋值;    返回值：str类型\n",
    "\n",
    "invoke()：参数部分：字典;         返回值：PromptValue类型\n",
    "\n",
    "举例：调用format()"
   ],
   "metadata": {
    "collapsed": false
   },
   "id": "defa2789fd6a65d5"
  },
  {
   "cell_type": "code",
   "outputs": [
    {
     "name": "stdout",
     "output_type": "stream",
     "text": [
      "提示词1: 请评价智能手机的优缺点，包括电池续航和拍照质量。\n",
      "type(prompt_1): <class 'str'>\n"
     ]
    }
   ],
   "source": [
    "from langchain.prompts import PromptTemplate\n",
    "\n",
    "#定义多变量模板\n",
    "template = PromptTemplate.from_template(\n",
    "    template=\"请评价{product}的优缺点，包括{aspect1}和{aspect2}。\"\n",
    ")\n",
    "\n",
    "#使用模板生成提示词\n",
    "prompt_1 = template.format(product=\"智能手机\", aspect1=\"电池续航\", aspect2=\"拍照质量\")\n",
    "\n",
    "print(\"提示词1:\", prompt_1)\n",
    "print(\"type(prompt_1):\", type(prompt_1))"
   ],
   "metadata": {
    "collapsed": false,
    "ExecuteTime": {
     "end_time": "2025-10-28T02:48:41.481173Z",
     "start_time": "2025-10-28T02:48:41.461219Z"
    }
   },
   "id": "30c1d56f6adfd328",
   "execution_count": 45
  },
  {
   "cell_type": "markdown",
   "source": [
    "举例：调用invoke()"
   ],
   "metadata": {
    "collapsed": false
   },
   "id": "5ceb1e6936038ace"
  },
  {
   "cell_type": "code",
   "outputs": [
    {
     "name": "stdout",
     "output_type": "stream",
     "text": [
      "提示词1: text='请评价智能手机的优缺点，包括电池续航和拍照质量。'\n",
      "type(prompt_1): <class 'langchain_core.prompt_values.StringPromptValue'>\n"
     ]
    }
   ],
   "source": [
    "from langchain.prompts import PromptTemplate\n",
    "\n",
    "#定义多变量模板\n",
    "template = PromptTemplate.from_template(\n",
    "    template=\"请评价{product}的优缺点，包括{aspect1}和{aspect2}。\"\n",
    ")\n",
    "\n",
    "#使用模板生成提示词\n",
    "# prompt_1 = template.format(product=\"智能手机\", aspect1=\"电池续航\", aspect2=\"拍照质量\")\n",
    "prompt_1 = template.invoke(input={\"product\": \"智能手机\", \"aspect1\": \"电池续航\", \"aspect2\": \"拍照质量\"})\n",
    "\n",
    "print(\"提示词1:\", prompt_1)\n",
    "print(\"type(prompt_1):\", type(prompt_1))  # 返回值类型：PromptValue"
   ],
   "metadata": {
    "collapsed": false,
    "ExecuteTime": {
     "end_time": "2025-10-28T02:51:46.569908Z",
     "start_time": "2025-10-28T02:51:46.032764Z"
    }
   },
   "id": "f4f401df81aa4f11",
   "execution_count": 46
  },
  {
   "cell_type": "markdown",
   "source": [
    "## 4、结合大模型的使用"
   ],
   "metadata": {
    "collapsed": false
   },
   "id": "c694c661bd453f3d"
  },
  {
   "cell_type": "code",
   "outputs": [
    {
     "name": "stdout",
     "output_type": "stream",
     "text": [
      "智能手机的优缺点可以从多个方面进行评估，以下是关于电池续航和拍照质量等方面的详细分析：\n",
      "\n",
      "### 优点\n",
      "\n",
      "1. **便携性**：智能手机体积小，重量轻，方便携带，能够随时随地满足通讯和娱乐需求。\n",
      "\n",
      "2. **多功能性**：不仅可以打电话，还能上网、拍照、导航、收发邮件、观看视频、玩游戏等，功能极其丰富。\n",
      "\n",
      "3. **拍照质量**：许多智能手机配备高像素摄像头，支持多种拍摄模式和后期处理，能够拍摄出高质量的照片和视频。部分手机还拥有夜景、超广角、微距等多种拍摄功能，满足不同场景的需求。\n",
      "\n",
      "4. **应用生态**：智能手机拥有丰富的应用程序，可以满足用户的各种需求，从社交、购物到学习和娱乐都有相应的应用。\n",
      "\n",
      "5. **在线连接性**：可以快速连接到互联网，浏览信息、社交媒体和进行在线购物等，极大提升了信息获取的便捷性。\n",
      "\n",
      "### 缺点\n",
      "\n",
      "1. **电池续航**：尽管大部分智能手机的电池容量不断提升，但由于高分辨率屏幕、高性能处理器和频繁的联网使用，许多手机在重度使用情况下电池续航可能仍然不足。有些用户可能需要随时携带充电宝以备不时之需。\n",
      "\n",
      "2. **拍照质量的局限性**：虽然目前很多智能手机相机的质量已经非常出色，但在低光环境下，拍照效果可能不如单反或专业相机。图像处理和细节捕捉方面也可能受到限制。\n",
      "\n",
      "3. **价格**：高端智能手机的价格往往较高，可能不适合所有消费者。同时，频繁的更新换代和新款发布，容易造成消费者产生经济压力。\n",
      "\n",
      "4. **依赖性**：过度依赖智能手机可能导致人们在社交和工作中失去面对面交流的能力，甚至影响心理健康。\n",
      "\n",
      "5. **安全隐患**：智能手机容易受到病毒、恶意软件以及隐私泄露等安全问题的影响。\n",
      "\n",
      "### 总结\n",
      "\n",
      "智能\n",
      "<class 'langchain_core.messages.ai.AIMessage'>\n"
     ]
    }
   ],
   "source": [
    "import os\n",
    "import dotenv\n",
    "\n",
    "from langchain_openai import ChatOpenAI\n",
    "\n",
    "# 加载配置文件\n",
    "dotenv.load_dotenv()\n",
    "\n",
    "os.environ[\"OPENAI_API_KEY\"] = os.getenv(\"OPENAI_API_KEY\")\n",
    "os.environ[\"OPENAI_BASE_URL\"] = os.getenv(\"OPENAI_BASE_URL\")\n",
    "\n",
    "# 1、调用对话式模型\n",
    "chat_model = ChatOpenAI(\n",
    "    # 必须要设置的3个参数\n",
    "    model=\"gpt-4o-mini\",\n",
    "    # temperature=0.7,\n",
    "    max_tokens=500\n",
    ")\n",
    "\n",
    "# 2、生成提示词模板\n",
    "template = PromptTemplate.from_template(\n",
    "    template=\"请评价{product}的优缺点, 包括{aspect1}和{aspect2}.\"\n",
    ")\n",
    "\n",
    "# 3、给模板的参数赋值\n",
    "prompt = template.invoke(input={\"product\": \"智能手机\", \"aspect1\": \"电池续航\", \"aspect2\": \"拍照质量\"})\n",
    "\n",
    "# 4、调用模型, 将提示词传入\n",
    "response = chat_model.invoke(prompt)\n",
    "\n",
    "# 5、查看相应文本\n",
    "print(response.content)\n",
    "print(type(response))"
   ],
   "metadata": {
    "collapsed": false,
    "ExecuteTime": {
     "end_time": "2025-10-28T03:08:19.203678Z",
     "start_time": "2025-10-28T03:08:11.604536Z"
    }
   },
   "id": "e8804a5d001a949b",
   "execution_count": 49
  }
 ],
 "metadata": {
  "kernelspec": {
   "display_name": "Python 3",
   "language": "python",
   "name": "python3"
  },
  "language_info": {
   "codemirror_mode": {
    "name": "ipython",
    "version": 2
   },
   "file_extension": ".py",
   "mimetype": "text/x-python",
   "name": "python",
   "nbconvert_exporter": "python",
   "pygments_lexer": "ipython2",
   "version": "2.7.6"
  }
 },
 "nbformat": 4,
 "nbformat_minor": 5
}
