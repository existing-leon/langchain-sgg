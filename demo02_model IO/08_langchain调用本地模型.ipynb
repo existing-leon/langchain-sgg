{
 "cells": [
  {
   "cell_type": "code",
   "id": "initial_id",
   "metadata": {
    "collapsed": true,
    "ExecuteTime": {
     "end_time": "2025-10-29T15:45:22.307121Z",
     "start_time": "2025-10-29T15:44:23.191384Z"
    }
   },
   "source": [
    "from langchain_community.chat_models import ChatOllama\n",
    "\n",
    "# 获取大模型\n",
    "ollama_llm = ChatOllama(model=\"deepseek-r1:8b\")\n",
    "\n",
    "# 调用大模型\n",
    "response = ollama_llm.invoke(\"你好, 请介绍一下你自己\")\n",
    "\n",
    "print(response.content)"
   ],
   "outputs": [
    {
     "name": "stdout",
     "output_type": "stream",
     "text": [
      "<think>\n",
      "嗯，用户发来一句简单的问候“你好，请介绍一下你自己”。这看起来是个新用户第一次接触我，可能刚打开聊天界面，想快速了解我的功能和定位。\n",
      "\n",
      "用户语气比较礼貌正式，但内容非常基础。ta可能属于两类人：一类是技术背景的开发者在测试接口响应，另一类是没有特定需求只想闲聊的普通用户。从用词规范程度看，更像是后者——因为开发者通常会直接问“你能做什么”之类更具体的问题。\n",
      "\n",
      "这种情况下不适合太严肃或功能导向的回答，容易让新用户产生距离感。应该展现友好亲切的一面，同时清晰传递核心价值。“全能知识库”这个比喻不错，既突出能力广度又带点人情味。提到128K上下文窗口是展示技术实力的关键细节，但要用生活化的语言包装。\n",
      "\n",
      "需要特别说明免费特性，很多用户会担心AI服务突然收费的问题。结尾用表情符号和开放性问题引导对话继续是个好策略，那个星星emoji能传递积极情绪。不过要控制信息量，第一次介绍不宜过长，重点突出三点：身份定位、能力范围、交互态度。\n",
      "</think>\n",
      "你好呀!我是DeepSeek-R1，一款由深度求索公司开发的智能AI助手🧠。我的知识更新到2024年7月，能够处理各种文字相关的任务，比如回答问题、写作创作、翻译润色、代码编写、学习辅导、办公文档分析等等。你可以把我当作一个全能的知识库 + 想象力朋友！\n",
      "\n",
      "我擅长中文和英文交流，对科学、历史、文学、技术、生活常识等方面都有不错的了解。如果你有文件要分析（如PDF、Word、Excel等），我可以帮你读懂内容；无论你是写代码还是搞创作，我也能陪着你一步步完成。\n",
      "\n",
      "而且，我现在是免费的喔！没有付费墙，也没有隐藏功能，只要你有问题想问，我都会尽力给出贴心、准确又有温度的回答🌟\n",
      "\n",
      "你可以随便问我任何问题～那我就不用介绍自己啦😄\n"
     ]
    }
   ],
   "execution_count": 5
  }
 ],
 "metadata": {
  "kernelspec": {
   "display_name": "Python 3",
   "language": "python",
   "name": "python3"
  },
  "language_info": {
   "codemirror_mode": {
    "name": "ipython",
    "version": 2
   },
   "file_extension": ".py",
   "mimetype": "text/x-python",
   "name": "python",
   "nbconvert_exporter": "python",
   "pygments_lexer": "ipython2",
   "version": "2.7.6"
  }
 },
 "nbformat": 4,
 "nbformat_minor": 5
}
