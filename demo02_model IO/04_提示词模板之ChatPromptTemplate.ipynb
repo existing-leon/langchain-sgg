{
 "cells": [
  {
   "cell_type": "markdown",
   "source": [
    "# 提示词模板之ChatPromptTemplate的使用\n",
    "\n",
    "1、实例化的方式（两种方式：使用构造方法、from_message()）\n",
    "\n",
    "2、调用提示词模板的几种方法：invoke() \\ format() \\ format_messages() \\ format_prompt()\n",
    "\n",
    "3、更丰富的实例化参数类型\n",
    "\n",
    "4、结合LLM\n",
    "\n",
    "5、插入消息列表：MessagePlaceHolder\n"
   ],
   "metadata": {
    "collapsed": false
   },
   "id": "9a65c576e8607135"
  },
  {
   "cell_type": "markdown",
   "source": [
    "\n",
    "## 1、实例化的方式\n",
    "\n",
    "方式1：使用构造方法"
   ],
   "metadata": {
    "collapsed": false
   },
   "id": "5a7ce8bbe5de1c36"
  },
  {
   "cell_type": "code",
   "outputs": [
    {
     "name": "stdout",
     "output_type": "stream",
     "text": [
      "messages=[SystemMessage(content='你是一个AI助手, 你的名字叫小智', additional_kwargs={}, response_metadata={}), HumanMessage(content='我的问题是1 + 2 * 3 = ?', additional_kwargs={}, response_metadata={})]\n",
      "<class 'langchain_core.prompt_values.ChatPromptValue'>\n",
      "2\n"
     ]
    }
   ],
   "source": [
    "from langchain_core.prompts import ChatPromptTemplate\n",
    "\n",
    "# 创建实例\n",
    "chat_prompt_template = ChatPromptTemplate(\n",
    "    messages=[\n",
    "        (\"system\", \"你是一个AI助手, 你的名字叫{name}\"),\n",
    "        (\"human\", \"我的问题是{question}\")\n",
    "    ],\n",
    "    input_variables=[\"name\", \"question\"]\n",
    ")\n",
    "\n",
    "# 调用实例\n",
    "prompt = chat_prompt_template.invoke(\n",
    "    input={\"name\": \"小智\", \"question\": \"1 + 2 * 3 = ?\"}\n",
    ")\n",
    "\n",
    "print(prompt)\n",
    "print(type(prompt))\n",
    "print(len(prompt.messages))"
   ],
   "metadata": {
    "collapsed": false,
    "ExecuteTime": {
     "end_time": "2025-10-28T06:37:08.281960Z",
     "start_time": "2025-10-28T06:37:08.262979Z"
    }
   },
   "id": "98227f1630fbed3f",
   "execution_count": 4
  },
  {
   "cell_type": "markdown",
   "source": [
    "更简洁的方式："
   ],
   "metadata": {
    "collapsed": false
   },
   "id": "f0ccc8d5da41fc94"
  },
  {
   "cell_type": "code",
   "outputs": [
    {
     "name": "stdout",
     "output_type": "stream",
     "text": [
      "messages=[SystemMessage(content='你是一个AI助手, 你的名字叫小智', additional_kwargs={}, response_metadata={}), HumanMessage(content='我的问题是1 + 2 * 3 = ?', additional_kwargs={}, response_metadata={})]\n",
      "<class 'langchain_core.prompt_values.ChatPromptValue'>\n",
      "2\n"
     ]
    }
   ],
   "source": [
    "from langchain_core.prompts import ChatPromptTemplate\n",
    "\n",
    "# 创建实例\n",
    "chat_prompt_template = ChatPromptTemplate(\n",
    "    [\n",
    "        (\"system\", \"你是一个AI助手, 你的名字叫{name}\"),\n",
    "        (\"human\", \"我的问题是{question}\")\n",
    "    ]\n",
    ")\n",
    "\n",
    "# 调用实例\n",
    "prompt = chat_prompt_template.invoke(\n",
    "    {\"name\": \"小智\", \"question\": \"1 + 2 * 3 = ?\"}\n",
    ")\n",
    "\n",
    "print(prompt)\n",
    "print(type(prompt))\n",
    "print(len(prompt.messages))"
   ],
   "metadata": {
    "collapsed": false,
    "ExecuteTime": {
     "end_time": "2025-10-28T06:38:47.506018Z",
     "start_time": "2025-10-28T06:38:47.484035Z"
    }
   },
   "id": "7a53bf23d7fe99a6",
   "execution_count": 7
  },
  {
   "cell_type": "markdown",
   "source": [
    "方式2：调用from_messages()"
   ],
   "metadata": {
    "collapsed": false
   },
   "id": "dc9ea62f1fe2925d"
  },
  {
   "cell_type": "code",
   "outputs": [
    {
     "name": "stdout",
     "output_type": "stream",
     "text": [
      "messages=[SystemMessage(content='你是一个AI助手, 你的名字叫小智', additional_kwargs={}, response_metadata={}), HumanMessage(content='我的问题是1 + 2 * 3 = ?', additional_kwargs={}, response_metadata={})]\n",
      "<class 'langchain_core.prompt_values.ChatPromptValue'>\n",
      "2\n"
     ]
    }
   ],
   "source": [
    "from langchain_core.prompts import ChatPromptTemplate\n",
    "\n",
    "# # 创建实例\n",
    "# chat_prompt_template = ChatPromptTemplate(\n",
    "#     [\n",
    "#         (\"system\", \"你是一个AI助手, 你的名字叫{name}\"),\n",
    "#         (\"human\", \"我的问题是{question}\")\n",
    "#     ]\n",
    "# )\n",
    "\n",
    "chat_prompt_template = ChatPromptTemplate.from_messages(\n",
    "    [\n",
    "        (\"system\", \"你是一个AI助手, 你的名字叫{name}\"),\n",
    "        (\"human\", \"我的问题是{question}\")\n",
    "    ]\n",
    ")\n",
    "\n",
    "# 调用实例\n",
    "prompt = chat_prompt_template.invoke(\n",
    "    {\"name\": \"小智\", \"question\": \"1 + 2 * 3 = ?\"}\n",
    ")\n",
    "\n",
    "print(prompt)\n",
    "print(type(prompt))\n",
    "print(len(prompt.messages))"
   ],
   "metadata": {
    "collapsed": false,
    "ExecuteTime": {
     "end_time": "2025-10-28T06:44:27.951810Z",
     "start_time": "2025-10-28T06:44:27.927845Z"
    }
   },
   "id": "10b993664ca07454",
   "execution_count": 8
  },
  {
   "cell_type": "markdown",
   "source": [
    "## 2、调用提示词模板的几种方法：\n",
    "\n",
    "invoke() \\ format() \\ format_messages() \\ format_prompt()\n",
    "\n",
    "invoke()：传入的是字典, 返回的是 ChatPromptValue\n",
    "\n",
    "format()：传入变量的值, 返回的是 str\n",
    "\n",
    "format_messages()：传入变量的值, 返回的是消息构成的 list\n",
    "\n",
    "format_prompt()：传入变量的值, 返回的是 ChatPromptValue"
   ],
   "metadata": {
    "collapsed": false
   },
   "id": "63bee6c433fc1a4e"
  },
  {
   "cell_type": "markdown",
   "source": [
    "\n",
    "\n",
    "举例1：invoke()"
   ],
   "metadata": {
    "collapsed": false
   },
   "id": "2393b76ebd5bf05f"
  },
  {
   "cell_type": "code",
   "outputs": [
    {
     "name": "stdout",
     "output_type": "stream",
     "text": [
      "messages=[SystemMessage(content='你是一个AI助手, 你的名字叫小智', additional_kwargs={}, response_metadata={}), HumanMessage(content='我的问题是1 + 2 * 3 = ?', additional_kwargs={}, response_metadata={})]\n",
      "<class 'langchain_core.prompt_values.ChatPromptValue'>\n",
      "2\n"
     ]
    }
   ],
   "source": [
    "from langchain_core.prompts import ChatPromptTemplate\n",
    "\n",
    "chat_prompt_template = ChatPromptTemplate.from_messages(\n",
    "    [\n",
    "        (\"system\", \"你是一个AI助手, 你的名字叫{name}\"),\n",
    "        (\"human\", \"我的问题是{question}\")\n",
    "    ]\n",
    ")\n",
    "\n",
    "# 调用实例\n",
    "prompt = chat_prompt_template.invoke(\n",
    "    {\"name\": \"小智\", \"question\": \"1 + 2 * 3 = ?\"}\n",
    ")\n",
    "\n",
    "print(prompt)\n",
    "print(type(prompt))\n",
    "print(len(prompt.messages))"
   ],
   "metadata": {
    "collapsed": false,
    "ExecuteTime": {
     "end_time": "2025-10-28T06:54:37.804862Z",
     "start_time": "2025-10-28T06:54:37.785917Z"
    }
   },
   "id": "f9cbbf9b7a35d996",
   "execution_count": 9
  },
  {
   "cell_type": "markdown",
   "source": [
    "举例2：format()"
   ],
   "metadata": {
    "collapsed": false
   },
   "id": "d3bdf507764093ba"
  },
  {
   "cell_type": "code",
   "outputs": [
    {
     "name": "stdout",
     "output_type": "stream",
     "text": [
      "System: 你是一个AI助手, 你的名字叫小智\n",
      "Human: 我的问题是1 + 2 * 3 = ?\n",
      "<class 'str'>\n"
     ]
    }
   ],
   "source": [
    "from langchain_core.prompts import ChatPromptTemplate\n",
    "\n",
    "chat_prompt_template = ChatPromptTemplate.from_messages(\n",
    "    [\n",
    "        (\"system\", \"你是一个AI助手, 你的名字叫{name}\"),\n",
    "        (\"human\", \"我的问题是{question}\")\n",
    "    ]\n",
    ")\n",
    "\n",
    "# 调用实例\n",
    "prompt = chat_prompt_template.format(name=\"小智\", question=\"1 + 2 * 3 = ?\")\n",
    "\n",
    "print(prompt)\n",
    "print(type(prompt))\n",
    "# print(len(prompt.messages))"
   ],
   "metadata": {
    "collapsed": false,
    "ExecuteTime": {
     "end_time": "2025-10-28T07:27:57.235460Z",
     "start_time": "2025-10-28T07:27:57.214517Z"
    }
   },
   "id": "14fc3890079deeda",
   "execution_count": 12
  },
  {
   "cell_type": "markdown",
   "source": [
    "举例3：format_messages()"
   ],
   "metadata": {
    "collapsed": false
   },
   "id": "228c3cf43fde94c3"
  },
  {
   "cell_type": "code",
   "outputs": [
    {
     "name": "stdout",
     "output_type": "stream",
     "text": [
      "[SystemMessage(content='你是一个AI助手, 你的名字叫小智', additional_kwargs={}, response_metadata={}), HumanMessage(content='我的问题是1 + 2 * 3 = ?', additional_kwargs={}, response_metadata={})]\n",
      "<class 'list'>\n"
     ]
    }
   ],
   "source": [
    "from langchain_core.prompts import ChatPromptTemplate\n",
    "\n",
    "chat_prompt_template = ChatPromptTemplate.from_messages(\n",
    "    [\n",
    "        (\"system\", \"你是一个AI助手, 你的名字叫{name}\"),\n",
    "        (\"human\", \"我的问题是{question}\")\n",
    "    ]\n",
    ")\n",
    "\n",
    "# 调用实例\n",
    "prompt = chat_prompt_template.format_messages(name=\"小智\", question=\"1 + 2 * 3 = ?\")\n",
    "\n",
    "print(prompt)\n",
    "print(type(prompt))\n",
    "# print(len(prompt.messages))"
   ],
   "metadata": {
    "collapsed": false,
    "ExecuteTime": {
     "end_time": "2025-10-28T07:37:41.844151Z",
     "start_time": "2025-10-28T07:37:41.833180Z"
    }
   },
   "id": "12c3f5c40a354828",
   "execution_count": 16
  },
  {
   "cell_type": "markdown",
   "source": [
    "举例4：format_prompt()"
   ],
   "metadata": {
    "collapsed": false
   },
   "id": "42dced20442adc3a"
  },
  {
   "cell_type": "code",
   "outputs": [
    {
     "name": "stdout",
     "output_type": "stream",
     "text": [
      "messages=[SystemMessage(content='你是一个AI助手, 你的名字叫小智', additional_kwargs={}, response_metadata={}), HumanMessage(content='我的问题是1 + 2 * 3 = ?', additional_kwargs={}, response_metadata={})]\n",
      "<class 'langchain_core.prompt_values.ChatPromptValue'>\n"
     ]
    }
   ],
   "source": [
    "from langchain_core.prompts import ChatPromptTemplate\n",
    "\n",
    "chat_prompt_template = ChatPromptTemplate.from_messages(\n",
    "    [\n",
    "        (\"system\", \"你是一个AI助手, 你的名字叫{name}\"),\n",
    "        (\"human\", \"我的问题是{question}\")\n",
    "    ]\n",
    ")\n",
    "\n",
    "# 调用实例\n",
    "prompt = chat_prompt_template.format_prompt(name=\"小智\", question=\"1 + 2 * 3 = ?\")\n",
    "\n",
    "print(prompt)\n",
    "print(type(prompt))\n",
    "# print(len(prompt.messages))"
   ],
   "metadata": {
    "collapsed": false,
    "ExecuteTime": {
     "end_time": "2025-10-28T07:33:37.705621Z",
     "start_time": "2025-10-28T07:33:37.690663Z"
    }
   },
   "id": "ba8f751f78ac038c",
   "execution_count": 14
  },
  {
   "cell_type": "markdown",
   "source": [
    "如何实现ChatPromptValue与list[messages]、字符串之间的转换？"
   ],
   "metadata": {
    "collapsed": false
   },
   "id": "ceba2d916d8165a9"
  },
  {
   "cell_type": "code",
   "outputs": [
    {
     "name": "stdout",
     "output_type": "stream",
     "text": [
      "[SystemMessage(content='你是一个AI助手, 你的名字叫小智', additional_kwargs={}, response_metadata={}), HumanMessage(content='我的问题是1 + 2 * 3 = ?', additional_kwargs={}, response_metadata={})]\n",
      "<class 'list'>\n",
      "System: 你是一个AI助手, 你的名字叫小智\n",
      "Human: 我的问题是1 + 2 * 3 = ?\n",
      "<class 'str'>\n"
     ]
    }
   ],
   "source": [
    "from langchain_core.prompts import ChatPromptTemplate\n",
    "\n",
    "chat_prompt_template = ChatPromptTemplate.from_messages(\n",
    "    [\n",
    "        (\"system\", \"你是一个AI助手, 你的名字叫{name}\"),\n",
    "        (\"human\", \"我的问题是{question}\")\n",
    "    ]\n",
    ")\n",
    "\n",
    "# 调用实例\n",
    "# prompt = chat_prompt_template.format_prompt(name=\"小智\", question=\"1 + 2 * 3 = ?\")\n",
    "prompt = chat_prompt_template.invoke({\"name\": \"小智\", \"question\": \"1 + 2 * 3 = ?\"})\n",
    "\n",
    "# 将ChatPromptValue类型转换为消息构成的list\n",
    "prompt_msg = prompt.to_messages()\n",
    "\n",
    "print(prompt_msg)\n",
    "print(type(prompt_msg))\n",
    "\n",
    "# 将 ChatPromptValue类型转换为字符串类型\n",
    "prompt_str = prompt.to_string()\n",
    "\n",
    "print(prompt_str)\n",
    "print(type(prompt_str))"
   ],
   "metadata": {
    "collapsed": false,
    "ExecuteTime": {
     "end_time": "2025-10-28T07:41:18.776819Z",
     "start_time": "2025-10-28T07:41:18.750862Z"
    }
   },
   "id": "43ee9c55ee6220f4",
   "execution_count": 18
  }
 ],
 "metadata": {
  "kernelspec": {
   "display_name": "Python 3",
   "language": "python",
   "name": "python3"
  },
  "language_info": {
   "codemirror_mode": {
    "name": "ipython",
    "version": 2
   },
   "file_extension": ".py",
   "mimetype": "text/x-python",
   "name": "python",
   "nbconvert_exporter": "python",
   "pygments_lexer": "ipython2",
   "version": "2.7.6"
  }
 },
 "nbformat": 4,
 "nbformat_minor": 5
}
