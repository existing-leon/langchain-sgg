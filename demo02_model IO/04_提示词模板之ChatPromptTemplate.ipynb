{
 "cells": [
  {
   "cell_type": "markdown",
   "source": [
    "# 提示词模板之ChatPromptTemplate的使用\n",
    "\n",
    "1、实例化的方式（两种方式：使用构造方法、from_message()）\n",
    "\n",
    "2、调用提示词模板的几种方法：invoke() \\ format() \\ format_messages() \\ format_prompt()\n",
    "\n",
    "3、更丰富的实例化参数类型\n",
    "\n",
    "4、结合LLM\n",
    "\n",
    "5、插入消息列表：MessagePlaceHolder\n"
   ],
   "metadata": {
    "collapsed": false
   },
   "id": "9a65c576e8607135"
  },
  {
   "cell_type": "markdown",
   "source": [
    "\n",
    "## 1、实例化的方式\n",
    "\n",
    "方式1：使用构造方法"
   ],
   "metadata": {
    "collapsed": false
   },
   "id": "5a7ce8bbe5de1c36"
  },
  {
   "cell_type": "code",
   "outputs": [
    {
     "name": "stdout",
     "output_type": "stream",
     "text": [
      "messages=[SystemMessage(content='你是一个AI助手, 你的名字叫小智', additional_kwargs={}, response_metadata={}), HumanMessage(content='我的问题是1 + 2 * 3 = ?', additional_kwargs={}, response_metadata={})]\n",
      "<class 'langchain_core.prompt_values.ChatPromptValue'>\n",
      "2\n"
     ]
    }
   ],
   "source": [
    "from langchain_core.prompts import ChatPromptTemplate\n",
    "\n",
    "# 创建实例\n",
    "chat_prompt_template = ChatPromptTemplate(\n",
    "    messages=[\n",
    "        (\"system\", \"你是一个AI助手, 你的名字叫{name}\"),\n",
    "        (\"human\", \"我的问题是{question}\")\n",
    "    ],\n",
    "    input_variables=[\"name\", \"question\"]\n",
    ")\n",
    "\n",
    "# 调用实例\n",
    "prompt = chat_prompt_template.invoke(\n",
    "    input={\"name\": \"小智\", \"question\": \"1 + 2 * 3 = ?\"}\n",
    ")\n",
    "\n",
    "print(prompt)\n",
    "print(type(prompt))\n",
    "print(len(prompt.messages))"
   ],
   "metadata": {
    "collapsed": false,
    "ExecuteTime": {
     "end_time": "2025-10-28T06:37:08.281960Z",
     "start_time": "2025-10-28T06:37:08.262979Z"
    }
   },
   "id": "98227f1630fbed3f",
   "execution_count": 4
  },
  {
   "cell_type": "markdown",
   "source": [
    "更简洁的方式："
   ],
   "metadata": {
    "collapsed": false
   },
   "id": "f0ccc8d5da41fc94"
  },
  {
   "cell_type": "code",
   "outputs": [
    {
     "name": "stdout",
     "output_type": "stream",
     "text": [
      "messages=[SystemMessage(content='你是一个AI助手, 你的名字叫小智', additional_kwargs={}, response_metadata={}), HumanMessage(content='我的问题是1 + 2 * 3 = ?', additional_kwargs={}, response_metadata={})]\n",
      "<class 'langchain_core.prompt_values.ChatPromptValue'>\n",
      "2\n"
     ]
    }
   ],
   "source": [
    "from langchain_core.prompts import ChatPromptTemplate\n",
    "\n",
    "# 创建实例\n",
    "chat_prompt_template = ChatPromptTemplate(\n",
    "    [\n",
    "        (\"system\", \"你是一个AI助手, 你的名字叫{name}\"),\n",
    "        (\"human\", \"我的问题是{question}\")\n",
    "    ]\n",
    ")\n",
    "\n",
    "# 调用实例\n",
    "prompt = chat_prompt_template.invoke(\n",
    "    {\"name\": \"小智\", \"question\": \"1 + 2 * 3 = ?\"}\n",
    ")\n",
    "\n",
    "print(prompt)\n",
    "print(type(prompt))\n",
    "print(len(prompt.messages))"
   ],
   "metadata": {
    "collapsed": false,
    "ExecuteTime": {
     "end_time": "2025-10-28T06:38:47.506018Z",
     "start_time": "2025-10-28T06:38:47.484035Z"
    }
   },
   "id": "7a53bf23d7fe99a6",
   "execution_count": 7
  },
  {
   "cell_type": "markdown",
   "source": [
    "方式2：调用from_messages()"
   ],
   "metadata": {
    "collapsed": false
   },
   "id": "dc9ea62f1fe2925d"
  },
  {
   "cell_type": "code",
   "outputs": [
    {
     "name": "stdout",
     "output_type": "stream",
     "text": [
      "messages=[SystemMessage(content='你是一个AI助手, 你的名字叫小智', additional_kwargs={}, response_metadata={}), HumanMessage(content='我的问题是1 + 2 * 3 = ?', additional_kwargs={}, response_metadata={})]\n",
      "<class 'langchain_core.prompt_values.ChatPromptValue'>\n",
      "2\n"
     ]
    }
   ],
   "source": [
    "from langchain_core.prompts import ChatPromptTemplate\n",
    "\n",
    "# # 创建实例\n",
    "# chat_prompt_template = ChatPromptTemplate(\n",
    "#     [\n",
    "#         (\"system\", \"你是一个AI助手, 你的名字叫{name}\"),\n",
    "#         (\"human\", \"我的问题是{question}\")\n",
    "#     ]\n",
    "# )\n",
    "\n",
    "chat_prompt_template = ChatPromptTemplate.from_messages(\n",
    "    [\n",
    "        (\"system\", \"你是一个AI助手, 你的名字叫{name}\"),\n",
    "        (\"human\", \"我的问题是{question}\")\n",
    "    ]\n",
    ")\n",
    "\n",
    "# 调用实例\n",
    "prompt = chat_prompt_template.invoke(\n",
    "    {\"name\": \"小智\", \"question\": \"1 + 2 * 3 = ?\"}\n",
    ")\n",
    "\n",
    "print(prompt)\n",
    "print(type(prompt))\n",
    "print(len(prompt.messages))"
   ],
   "metadata": {
    "collapsed": false,
    "ExecuteTime": {
     "end_time": "2025-10-28T06:44:27.951810Z",
     "start_time": "2025-10-28T06:44:27.927845Z"
    }
   },
   "id": "10b993664ca07454",
   "execution_count": 8
  }
 ],
 "metadata": {
  "kernelspec": {
   "display_name": "Python 3",
   "language": "python",
   "name": "python3"
  },
  "language_info": {
   "codemirror_mode": {
    "name": "ipython",
    "version": 2
   },
   "file_extension": ".py",
   "mimetype": "text/x-python",
   "name": "python",
   "nbconvert_exporter": "python",
   "pygments_lexer": "ipython2",
   "version": "2.7.6"
  }
 },
 "nbformat": 4,
 "nbformat_minor": 5
}
