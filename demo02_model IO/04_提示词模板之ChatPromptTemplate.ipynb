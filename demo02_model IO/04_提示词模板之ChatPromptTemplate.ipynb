{
 "cells": [
  {
   "cell_type": "markdown",
   "source": [
    "# 提示词模板之ChatPromptTemplate的使用\n",
    "\n",
    "1、实例化的方式（两种方式：使用构造方法、from_message()）\n",
    "\n",
    "2、调用提示词模板的几种方法：invoke() \\ format() \\ format_messages() \\ format_prompt()\n",
    "\n",
    "3、更丰富的实例化参数类型\n",
    "\n",
    "4、结合LLM\n",
    "\n",
    "5、插入消息列表：MessagePlaceHolder\n"
   ],
   "metadata": {
    "collapsed": false
   },
   "id": "9a65c576e8607135"
  },
  {
   "cell_type": "markdown",
   "source": [
    "\n",
    "## 1、实例化的方式\n",
    "\n",
    "方式1：使用构造方法"
   ],
   "metadata": {
    "collapsed": false
   },
   "id": "5a7ce8bbe5de1c36"
  },
  {
   "cell_type": "code",
   "outputs": [
    {
     "name": "stdout",
     "output_type": "stream",
     "text": [
      "messages=[SystemMessage(content='你是一个AI助手, 你的名字叫小智', additional_kwargs={}, response_metadata={}), HumanMessage(content='我的问题是1 + 2 * 3 = ?', additional_kwargs={}, response_metadata={})]\n",
      "<class 'langchain_core.prompt_values.ChatPromptValue'>\n",
      "2\n"
     ]
    }
   ],
   "source": [
    "from langchain_core.prompts import ChatPromptTemplate\n",
    "\n",
    "# 创建实例\n",
    "chat_prompt_template = ChatPromptTemplate(\n",
    "    messages=[\n",
    "        (\"system\", \"你是一个AI助手, 你的名字叫{name}\"),\n",
    "        (\"human\", \"我的问题是{question}\")\n",
    "    ],\n",
    "    input_variables=[\"name\", \"question\"]\n",
    ")\n",
    "\n",
    "# 调用实例\n",
    "prompt = chat_prompt_template.invoke(\n",
    "    input={\"name\": \"小智\", \"question\": \"1 + 2 * 3 = ?\"}\n",
    ")\n",
    "\n",
    "print(prompt)\n",
    "print(type(prompt))\n",
    "print(len(prompt.messages))"
   ],
   "metadata": {
    "collapsed": false,
    "ExecuteTime": {
     "end_time": "2025-10-28T06:37:08.281960Z",
     "start_time": "2025-10-28T06:37:08.262979Z"
    }
   },
   "id": "98227f1630fbed3f",
   "execution_count": 4
  },
  {
   "cell_type": "markdown",
   "source": [
    "更简洁的方式："
   ],
   "metadata": {
    "collapsed": false
   },
   "id": "f0ccc8d5da41fc94"
  },
  {
   "cell_type": "code",
   "outputs": [
    {
     "name": "stdout",
     "output_type": "stream",
     "text": [
      "messages=[SystemMessage(content='你是一个AI助手, 你的名字叫小智', additional_kwargs={}, response_metadata={}), HumanMessage(content='我的问题是1 + 2 * 3 = ?', additional_kwargs={}, response_metadata={})]\n",
      "<class 'langchain_core.prompt_values.ChatPromptValue'>\n",
      "2\n"
     ]
    }
   ],
   "source": [
    "from langchain_core.prompts import ChatPromptTemplate\n",
    "\n",
    "# 创建实例\n",
    "chat_prompt_template = ChatPromptTemplate(\n",
    "    [\n",
    "        (\"system\", \"你是一个AI助手, 你的名字叫{name}\"),\n",
    "        (\"human\", \"我的问题是{question}\")\n",
    "    ]\n",
    ")\n",
    "\n",
    "# 调用实例\n",
    "prompt = chat_prompt_template.invoke(\n",
    "    {\"name\": \"小智\", \"question\": \"1 + 2 * 3 = ?\"}\n",
    ")\n",
    "\n",
    "print(prompt)\n",
    "print(type(prompt))\n",
    "print(len(prompt.messages))"
   ],
   "metadata": {
    "collapsed": false,
    "ExecuteTime": {
     "end_time": "2025-10-28T06:38:47.506018Z",
     "start_time": "2025-10-28T06:38:47.484035Z"
    }
   },
   "id": "7a53bf23d7fe99a6",
   "execution_count": 7
  },
  {
   "cell_type": "markdown",
   "source": [
    "方式2：调用from_messages()"
   ],
   "metadata": {
    "collapsed": false
   },
   "id": "dc9ea62f1fe2925d"
  },
  {
   "cell_type": "code",
   "outputs": [
    {
     "name": "stdout",
     "output_type": "stream",
     "text": [
      "messages=[SystemMessage(content='你是一个AI助手, 你的名字叫小智', additional_kwargs={}, response_metadata={}), HumanMessage(content='我的问题是1 + 2 * 3 = ?', additional_kwargs={}, response_metadata={})]\n",
      "<class 'langchain_core.prompt_values.ChatPromptValue'>\n",
      "2\n"
     ]
    }
   ],
   "source": [
    "from langchain_core.prompts import ChatPromptTemplate\n",
    "\n",
    "# # 创建实例\n",
    "# chat_prompt_template = ChatPromptTemplate(\n",
    "#     [\n",
    "#         (\"system\", \"你是一个AI助手, 你的名字叫{name}\"),\n",
    "#         (\"human\", \"我的问题是{question}\")\n",
    "#     ]\n",
    "# )\n",
    "\n",
    "chat_prompt_template = ChatPromptTemplate.from_messages(\n",
    "    [\n",
    "        (\"system\", \"你是一个AI助手, 你的名字叫{name}\"),\n",
    "        (\"human\", \"我的问题是{question}\")\n",
    "    ]\n",
    ")\n",
    "\n",
    "# 调用实例\n",
    "prompt = chat_prompt_template.invoke(\n",
    "    {\"name\": \"小智\", \"question\": \"1 + 2 * 3 = ?\"}\n",
    ")\n",
    "\n",
    "print(prompt)\n",
    "print(type(prompt))\n",
    "print(len(prompt.messages))"
   ],
   "metadata": {
    "collapsed": false,
    "ExecuteTime": {
     "end_time": "2025-10-28T06:44:27.951810Z",
     "start_time": "2025-10-28T06:44:27.927845Z"
    }
   },
   "id": "10b993664ca07454",
   "execution_count": 8
  },
  {
   "cell_type": "markdown",
   "source": [
    "## 2、调用提示词模板的几种方法：\n",
    "\n",
    "invoke() \\ format() \\ format_messages() \\ format_prompt()\n",
    "\n",
    "invoke()：传入的是字典, 返回的是 ChatPromptValue\n",
    "\n",
    "format()：传入变量的值, 返回的是 str\n",
    "\n",
    "format_messages()：传入变量的值, 返回的是消息构成的 list\n",
    "\n",
    "format_prompt()：传入变量的值, 返回的是 ChatPromptValue"
   ],
   "metadata": {
    "collapsed": false
   },
   "id": "63bee6c433fc1a4e"
  },
  {
   "cell_type": "markdown",
   "source": [
    "\n",
    "\n",
    "举例1：invoke()"
   ],
   "metadata": {
    "collapsed": false
   },
   "id": "2393b76ebd5bf05f"
  },
  {
   "cell_type": "code",
   "outputs": [
    {
     "name": "stdout",
     "output_type": "stream",
     "text": [
      "messages=[SystemMessage(content='你是一个AI助手, 你的名字叫小智', additional_kwargs={}, response_metadata={}), HumanMessage(content='我的问题是1 + 2 * 3 = ?', additional_kwargs={}, response_metadata={})]\n",
      "<class 'langchain_core.prompt_values.ChatPromptValue'>\n",
      "2\n"
     ]
    }
   ],
   "source": [
    "from langchain_core.prompts import ChatPromptTemplate\n",
    "\n",
    "chat_prompt_template = ChatPromptTemplate.from_messages(\n",
    "    [\n",
    "        (\"system\", \"你是一个AI助手, 你的名字叫{name}\"),\n",
    "        (\"human\", \"我的问题是{question}\")\n",
    "    ]\n",
    ")\n",
    "\n",
    "# 调用实例\n",
    "prompt = chat_prompt_template.invoke(\n",
    "    {\"name\": \"小智\", \"question\": \"1 + 2 * 3 = ?\"}\n",
    ")\n",
    "\n",
    "print(prompt)\n",
    "print(type(prompt))\n",
    "print(len(prompt.messages))"
   ],
   "metadata": {
    "collapsed": false,
    "ExecuteTime": {
     "end_time": "2025-10-28T06:54:37.804862Z",
     "start_time": "2025-10-28T06:54:37.785917Z"
    }
   },
   "id": "f9cbbf9b7a35d996",
   "execution_count": 9
  },
  {
   "cell_type": "markdown",
   "source": [
    "举例2：format()"
   ],
   "metadata": {
    "collapsed": false
   },
   "id": "d3bdf507764093ba"
  },
  {
   "cell_type": "code",
   "outputs": [
    {
     "name": "stdout",
     "output_type": "stream",
     "text": [
      "System: 你是一个AI助手, 你的名字叫小智\n",
      "Human: 我的问题是1 + 2 * 3 = ?\n",
      "<class 'str'>\n"
     ]
    }
   ],
   "source": [
    "from langchain_core.prompts import ChatPromptTemplate\n",
    "\n",
    "chat_prompt_template = ChatPromptTemplate.from_messages(\n",
    "    [\n",
    "        (\"system\", \"你是一个AI助手, 你的名字叫{name}\"),\n",
    "        (\"human\", \"我的问题是{question}\")\n",
    "    ]\n",
    ")\n",
    "\n",
    "# 调用实例\n",
    "prompt = chat_prompt_template.format(name=\"小智\", question=\"1 + 2 * 3 = ?\")\n",
    "\n",
    "print(prompt)\n",
    "print(type(prompt))\n",
    "# print(len(prompt.messages))"
   ],
   "metadata": {
    "collapsed": false,
    "ExecuteTime": {
     "end_time": "2025-10-28T07:27:57.235460Z",
     "start_time": "2025-10-28T07:27:57.214517Z"
    }
   },
   "id": "14fc3890079deeda",
   "execution_count": 12
  },
  {
   "cell_type": "markdown",
   "source": [
    "举例3：format_messages()"
   ],
   "metadata": {
    "collapsed": false
   },
   "id": "228c3cf43fde94c3"
  },
  {
   "cell_type": "code",
   "outputs": [
    {
     "name": "stdout",
     "output_type": "stream",
     "text": [
      "[SystemMessage(content='你是一个AI助手, 你的名字叫小智', additional_kwargs={}, response_metadata={}), HumanMessage(content='我的问题是1 + 2 * 3 = ?', additional_kwargs={}, response_metadata={})]\n",
      "<class 'list'>\n"
     ]
    }
   ],
   "source": [
    "from langchain_core.prompts import ChatPromptTemplate\n",
    "\n",
    "chat_prompt_template = ChatPromptTemplate.from_messages(\n",
    "    [\n",
    "        (\"system\", \"你是一个AI助手, 你的名字叫{name}\"),\n",
    "        (\"human\", \"我的问题是{question}\")\n",
    "    ]\n",
    ")\n",
    "\n",
    "# 调用实例\n",
    "prompt = chat_prompt_template.format_messages(name=\"小智\", question=\"1 + 2 * 3 = ?\")\n",
    "\n",
    "print(prompt)\n",
    "print(type(prompt))\n",
    "# print(len(prompt.messages))"
   ],
   "metadata": {
    "collapsed": false,
    "ExecuteTime": {
     "end_time": "2025-10-28T07:37:41.844151Z",
     "start_time": "2025-10-28T07:37:41.833180Z"
    }
   },
   "id": "12c3f5c40a354828",
   "execution_count": 16
  },
  {
   "cell_type": "markdown",
   "source": [
    "举例4：format_prompt()"
   ],
   "metadata": {
    "collapsed": false
   },
   "id": "42dced20442adc3a"
  },
  {
   "cell_type": "code",
   "outputs": [
    {
     "name": "stdout",
     "output_type": "stream",
     "text": [
      "messages=[SystemMessage(content='你是一个AI助手, 你的名字叫小智', additional_kwargs={}, response_metadata={}), HumanMessage(content='我的问题是1 + 2 * 3 = ?', additional_kwargs={}, response_metadata={})]\n",
      "<class 'langchain_core.prompt_values.ChatPromptValue'>\n"
     ]
    }
   ],
   "source": [
    "from langchain_core.prompts import ChatPromptTemplate\n",
    "\n",
    "chat_prompt_template = ChatPromptTemplate.from_messages(\n",
    "    [\n",
    "        (\"system\", \"你是一个AI助手, 你的名字叫{name}\"),\n",
    "        (\"human\", \"我的问题是{question}\")\n",
    "    ]\n",
    ")\n",
    "\n",
    "# 调用实例\n",
    "prompt = chat_prompt_template.format_prompt(name=\"小智\", question=\"1 + 2 * 3 = ?\")\n",
    "\n",
    "print(prompt)\n",
    "print(type(prompt))\n",
    "# print(len(prompt.messages))"
   ],
   "metadata": {
    "collapsed": false,
    "ExecuteTime": {
     "end_time": "2025-10-28T07:33:37.705621Z",
     "start_time": "2025-10-28T07:33:37.690663Z"
    }
   },
   "id": "ba8f751f78ac038c",
   "execution_count": 14
  },
  {
   "cell_type": "markdown",
   "source": [
    "如何实现ChatPromptValue与list[messages]、字符串之间的转换？"
   ],
   "metadata": {
    "collapsed": false
   },
   "id": "ceba2d916d8165a9"
  },
  {
   "cell_type": "code",
   "outputs": [
    {
     "name": "stdout",
     "output_type": "stream",
     "text": [
      "[SystemMessage(content='你是一个AI助手, 你的名字叫小智', additional_kwargs={}, response_metadata={}), HumanMessage(content='我的问题是1 + 2 * 3 = ?', additional_kwargs={}, response_metadata={})]\n",
      "<class 'list'>\n",
      "System: 你是一个AI助手, 你的名字叫小智\n",
      "Human: 我的问题是1 + 2 * 3 = ?\n",
      "<class 'str'>\n"
     ]
    }
   ],
   "source": [
    "from langchain_core.prompts import ChatPromptTemplate\n",
    "\n",
    "chat_prompt_template = ChatPromptTemplate.from_messages(\n",
    "    [\n",
    "        (\"system\", \"你是一个AI助手, 你的名字叫{name}\"),\n",
    "        (\"human\", \"我的问题是{question}\")\n",
    "    ]\n",
    ")\n",
    "\n",
    "# 调用实例\n",
    "# prompt = chat_prompt_template.format_prompt(name=\"小智\", question=\"1 + 2 * 3 = ?\")\n",
    "prompt = chat_prompt_template.invoke({\"name\": \"小智\", \"question\": \"1 + 2 * 3 = ?\"})\n",
    "\n",
    "# 将ChatPromptValue类型转换为消息构成的list\n",
    "prompt_msg = prompt.to_messages()\n",
    "\n",
    "print(prompt_msg)\n",
    "print(type(prompt_msg))\n",
    "\n",
    "# 将 ChatPromptValue类型转换为字符串类型\n",
    "prompt_str = prompt.to_string()\n",
    "\n",
    "print(prompt_str)\n",
    "print(type(prompt_str))"
   ],
   "metadata": {
    "collapsed": false,
    "ExecuteTime": {
     "end_time": "2025-10-28T07:41:18.776819Z",
     "start_time": "2025-10-28T07:41:18.750862Z"
    }
   },
   "id": "43ee9c55ee6220f4",
   "execution_count": 18
  },
  {
   "cell_type": "markdown",
   "source": [
    "## 3、更丰富的实例化参数类型\n",
    "\n",
    "本质：不管使用构造方法、还是使用from_messages()来创建ChatPromptTemplate的实例, 本质上来讲, 传入的都是消息构成的列表.\n",
    "\n",
    "从调用上来讲, 我们看到, 不管使用构造方法, 还是使用from_messages(), messages参数的类型都是列表, 但是列表的元素的类型是多样的, 元素可以是：\n",
    "\n",
    "字符串类型、字典类型、消息类型、元组构成的列表（最常用、最基础、最简单）、提示词模板类型（ChatPromptTemplate）、消息提示词模板类型"
   ],
   "metadata": {
    "collapsed": false
   },
   "id": "12a346d660294097"
  },
  {
   "cell_type": "markdown",
   "source": [
    "\n",
    "举例1：元组构成的列表"
   ],
   "metadata": {
    "collapsed": false
   },
   "id": "9699234acee972a9"
  },
  {
   "cell_type": "code",
   "outputs": [
    {
     "name": "stdout",
     "output_type": "stream",
     "text": [
      "messages=[SystemMessage(content='你是一个AI助手, 你的名字叫小智', additional_kwargs={}, response_metadata={}), HumanMessage(content='我的问题是1 + 2 * 3 = ?', additional_kwargs={}, response_metadata={})]\n"
     ]
    }
   ],
   "source": [
    "from langchain_core.prompts import ChatPromptTemplate\n",
    "\n",
    "# 创建实例：\n",
    "chat_prompt_template1 = ChatPromptTemplate(\n",
    "    [\n",
    "        (\"system\", \"你是一个AI助手, 你的名字叫{name}\"),\n",
    "        (\"human\", \"我的问题是{question}\")\n",
    "    ]\n",
    ")\n",
    "\n",
    "# 调用实例\n",
    "prompt = chat_prompt_template1.invoke({\"name\": \"小智\", \"question\": \"1 + 2 * 3 = ?\"})\n",
    "\n",
    "print(prompt)"
   ],
   "metadata": {
    "collapsed": false,
    "ExecuteTime": {
     "end_time": "2025-10-28T08:37:59.289330Z",
     "start_time": "2025-10-28T08:37:59.280346Z"
    }
   },
   "id": "e59676ae6e633cc9",
   "execution_count": 24
  },
  {
   "cell_type": "markdown",
   "source": [
    "举例2：字符串类型"
   ],
   "metadata": {
    "collapsed": false
   },
   "id": "af35440ccd862df9"
  },
  {
   "cell_type": "code",
   "outputs": [
    {
     "name": "stdout",
     "output_type": "stream",
     "text": [
      "messages=[HumanMessage(content='我的问题是1 + 2 * 3 = ?', additional_kwargs={}, response_metadata={})]\n"
     ]
    }
   ],
   "source": [
    "from langchain_core.prompts import ChatPromptTemplate\n",
    "\n",
    "# 创建实例：\n",
    "\n",
    "chat_prompt_template = ChatPromptTemplate.from_messages(\n",
    "    [\n",
    "        \"我的问题是{question}\"  # 默认的角色是 HumanMessage\n",
    "    ]\n",
    ")\n",
    "\n",
    "# 调用实例\n",
    "prompt = chat_prompt_template.invoke({\"question\": \"1 + 2 * 3 = ?\"})\n",
    "\n",
    "print(prompt)"
   ],
   "metadata": {
    "collapsed": false,
    "ExecuteTime": {
     "end_time": "2025-10-28T08:35:48.686011Z",
     "start_time": "2025-10-28T08:35:48.676040Z"
    }
   },
   "id": "7079b0e6cad2e105",
   "execution_count": 22
  },
  {
   "cell_type": "markdown",
   "source": [
    "举例3：字典类型"
   ],
   "metadata": {
    "collapsed": false
   },
   "id": "6f18d88491ac6072"
  },
  {
   "cell_type": "code",
   "outputs": [
    {
     "name": "stdout",
     "output_type": "stream",
     "text": [
      "messages=[SystemMessage(content='我是一个人工智能助手, 我的名字叫小智', additional_kwargs={}, response_metadata={}), HumanMessage(content='我的问题是1 + 2 * 3 = ?', additional_kwargs={}, response_metadata={})]\n"
     ]
    }
   ],
   "source": [
    "from langchain_core.prompts import ChatPromptTemplate\n",
    "\n",
    "# 创建实例：\n",
    "\n",
    "chat_prompt_template = ChatPromptTemplate.from_messages(\n",
    "    [\n",
    "        {\"role\": \"system\", \"content\": \"我是一个人工智能助手, 我的名字叫{name}\"},\n",
    "        {\"role\": \"human\", \"content\": \"我的问题是{question}\"}\n",
    "    ]\n",
    ")\n",
    "\n",
    "# 调用实例\n",
    "prompt = chat_prompt_template.invoke({\"name\": \"小智\", \"question\": \"1 + 2 * 3 = ?\"})\n",
    "\n",
    "print(prompt)"
   ],
   "metadata": {
    "collapsed": false,
    "ExecuteTime": {
     "end_time": "2025-10-28T08:43:15.826087Z",
     "start_time": "2025-10-28T08:43:15.815128Z"
    }
   },
   "id": "9ee768ec6f924ee7",
   "execution_count": 30
  },
  {
   "cell_type": "markdown",
   "source": [
    "举例4：消息类型"
   ],
   "metadata": {
    "collapsed": false
   },
   "id": "b1c0ca3251ad2d4d"
  },
  {
   "cell_type": "code",
   "outputs": [
    {
     "name": "stdout",
     "output_type": "stream",
     "text": [
      "messages=[SystemMessage(content='我是一个人工智能助手, 我的名字叫{name}', additional_kwargs={}, response_metadata={}), HumanMessage(content='我的问题是{question}', additional_kwargs={}, response_metadata={})]\n"
     ]
    }
   ],
   "source": [
    "from langchain_core.messages import SystemMessage, HumanMessage\n",
    "from langchain_core.prompts import ChatPromptTemplate\n",
    "\n",
    "# 创建实例：\n",
    "\n",
    "chat_prompt_template = ChatPromptTemplate.from_messages(\n",
    "    [\n",
    "        SystemMessage(content=\"我是一个人工智能助手, 我的名字叫{name}\"),\n",
    "        HumanMessage(content=\"我的问题是{question}\")\n",
    "    ]\n",
    ")\n",
    "\n",
    "# 调用实例\n",
    "prompt = chat_prompt_template.invoke({\"name\": \"小智\", \"question\": \"1 + 2 * 3 = ?\"})\n",
    "\n",
    "print(prompt)"
   ],
   "metadata": {
    "collapsed": false,
    "ExecuteTime": {
     "end_time": "2025-10-28T08:46:26.116995Z",
     "start_time": "2025-10-28T08:46:26.101036Z"
    }
   },
   "id": "5a3a0a3cc4d15af4",
   "execution_count": 31
  },
  {
   "cell_type": "markdown",
   "source": [
    "举例5：Chat提示词模板类型"
   ],
   "metadata": {
    "collapsed": false
   },
   "id": "9d2f0475f9abc104"
  },
  {
   "cell_type": "code",
   "outputs": [
    {
     "data": {
      "text/plain": "[SystemMessage(content='我是一个人工智能助手', additional_kwargs={}, response_metadata={}),\n HumanMessage(content='很高兴认识你', additional_kwargs={}, response_metadata={})]"
     },
     "execution_count": 32,
     "metadata": {},
     "output_type": "execute_result"
    }
   ],
   "source": [
    "from langchain_core.prompts import ChatPromptTemplate\n",
    "\n",
    "# 使用 BaseChatPromptTemplate（嵌套的 ChatPromptTemplate）\n",
    "nested_prompt_template1 = ChatPromptTemplate.from_messages(\n",
    "    [\n",
    "        (\"system\", \"我是一个人工智能助手\")\n",
    "    ]\n",
    ")\n",
    "\n",
    "nested_prompt_template2 = ChatPromptTemplate.from_messages(\n",
    "    [\n",
    "        (\"human\", \"很高兴认识你\")\n",
    "    ]\n",
    ")\n",
    "\n",
    "prompt_template = ChatPromptTemplate.from_messages(\n",
    "    [\n",
    "        nested_prompt_template1, nested_prompt_template2\n",
    "    ]\n",
    ")\n",
    "\n",
    "prompt_template.format_messages()"
   ],
   "metadata": {
    "collapsed": false,
    "ExecuteTime": {
     "end_time": "2025-10-28T08:50:23.006010Z",
     "start_time": "2025-10-28T08:50:22.972069Z"
    }
   },
   "id": "44b7b4ce8d7f5f54",
   "execution_count": 32
  },
  {
   "cell_type": "code",
   "outputs": [],
   "source": [
    "from langchain_core.prompts import ChatPromptTemplate\n",
    "\n",
    "# 使用 BaseChatPromptTemplate（嵌套的 ChatPromptTemplate）\n",
    "nested_prompt_template1 = ChatPromptTemplate.from_messages(\n",
    "    [\n",
    "        (\"system\", \"我是一个人工智能助手，我的名字叫{name}\")\n",
    "    ]\n",
    ")\n",
    "\n",
    "nested_prompt_template2 = ChatPromptTemplate.from_messages(\n",
    "    [\n",
    "        (\"human\", \"很高兴认识你,我的问题是{question}\")\n",
    "    ]\n",
    ")\n",
    "\n",
    "prompt_template = ChatPromptTemplate.from_messages(\n",
    "    [\n",
    "        nested_prompt_template1, nested_prompt_template2\n",
    "    ]\n",
    ")\n",
    "\n",
    "prompt_template.format_messages(name=\"小智\", question=\"你为什么这么帅？\")"
   ],
   "metadata": {
    "collapsed": false
   },
   "id": "90c96f347b986c4e"
  },
  {
   "cell_type": "markdown",
   "source": [
    "举例6：消息提示词模板类型"
   ],
   "metadata": {
    "collapsed": false
   },
   "id": "e52f7600c4051952"
  },
  {
   "cell_type": "code",
   "outputs": [
    {
     "name": "stdout",
     "output_type": "stream",
     "text": [
      "[SystemMessage(content='你是一个专家物理学家', additional_kwargs={}, response_metadata={}), HumanMessage(content='给我解释相对论，用浅显易懂的语言', additional_kwargs={}, response_metadata={})]\n"
     ]
    }
   ],
   "source": [
    "# 导入聊天消息类模板\n",
    "from langchain_core.prompts import ChatPromptTemplate, HumanMessagePromptTemplate, SystemMessagePromptTemplate\n",
    "\n",
    "# 创建消息模板\n",
    "system_template = \"你是一个专家{role}\"\n",
    "system_message_prompt = SystemMessagePromptTemplate.from_template(system_template)\n",
    "\n",
    "human_template = \"给我解释{concept}，用浅显易懂的语言\"\n",
    "human_message_prompt = HumanMessagePromptTemplate.from_template(human_template)\n",
    "\n",
    "# 组合成聊天提示模板\n",
    "chat_prompt = ChatPromptTemplate.from_messages(\n",
    "    [\n",
    "        system_message_prompt,\n",
    "        human_message_prompt\n",
    "    ]\n",
    ")\n",
    "\n",
    "# 格式化提示\n",
    "formatted_messages = chat_prompt.format_messages(\n",
    "    role=\"物理学家\",\n",
    "    concept=\"相对论\"\n",
    ")\n",
    "\n",
    "print(formatted_messages)"
   ],
   "metadata": {
    "collapsed": false,
    "ExecuteTime": {
     "end_time": "2025-10-28T08:53:56.643593Z",
     "start_time": "2025-10-28T08:53:56.629622Z"
    }
   },
   "id": "5fa06d9e7f2b5f94",
   "execution_count": 34
  },
  {
   "cell_type": "markdown",
   "source": [
    "    对比举例4与举例6：\n",
    "    \n",
    "    举例4中放的是消息, 不适合放入变量, 即使调用invoke()方法也不能将变量赋值\n",
    "    \n",
    "    举例6中放的是模板, 可以放入变量, 调用invoke()方法之后是可以对变量进行赋值的"
   ],
   "metadata": {
    "collapsed": false
   },
   "id": "9321133576822ea7"
  },
  {
   "cell_type": "markdown",
   "source": [],
   "metadata": {
    "collapsed": false
   },
   "id": "7f7570cf7793ac2b"
  }
 ],
 "metadata": {
  "kernelspec": {
   "display_name": "Python 3",
   "language": "python",
   "name": "python3"
  },
  "language_info": {
   "codemirror_mode": {
    "name": "ipython",
    "version": 2
   },
   "file_extension": ".py",
   "mimetype": "text/x-python",
   "name": "python",
   "nbconvert_exporter": "python",
   "pygments_lexer": "ipython2",
   "version": "2.7.6"
  }
 },
 "nbformat": 4,
 "nbformat_minor": 5
}
