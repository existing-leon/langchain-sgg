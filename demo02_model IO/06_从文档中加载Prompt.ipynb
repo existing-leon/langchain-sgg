{
 "cells": [
  {
   "cell_type": "markdown",
   "source": [
    "举例1：从物理磁盘的yaml文件中加载Prompt"
   ],
   "metadata": {
    "collapsed": false
   },
   "id": "fcd5d8312aa2fd0"
  },
  {
   "cell_type": "code",
   "outputs": [
    {
     "name": "stdout",
     "output_type": "stream",
     "text": [
      "input_variables=['name', 'what'] input_types={} partial_variables={} template='请给{name}讲一个关于{what}的故事'\n",
      "text='请给年轻人讲一个关于滑稽的故事'\n",
      "请给年轻人讲一个关于滑稽的故事\n"
     ]
    }
   ],
   "source": [
    "from langchain_core.prompts import load_prompt\n",
    "import dotenv\n",
    "\n",
    "# 加载配置文件\n",
    "dotenv.load_dotenv()\n",
    "\n",
    "prompt = load_prompt(\"./prompt.yaml\", encoding=\"utf-8\")\n",
    "\n",
    "print(prompt)\n",
    "print(prompt.invoke({\"name\": \"年轻人\", \"what\": \"滑稽\"}))\n",
    "print(prompt.format(name=\"年轻人\", what=\"滑稽\"))"
   ],
   "metadata": {
    "collapsed": false,
    "ExecuteTime": {
     "end_time": "2025-10-29T09:10:43.066622Z",
     "start_time": "2025-10-29T09:10:43.034826Z"
    }
   },
   "id": "c98e58a3ef7a9ab8",
   "execution_count": 3
  },
  {
   "cell_type": "markdown",
   "source": [
    "举例2：从物理磁盘的json文件中加载Prompt"
   ],
   "metadata": {
    "collapsed": false
   },
   "id": "8f14249bd1e10e58"
  },
  {
   "cell_type": "code",
   "outputs": [
    {
     "name": "stdout",
     "output_type": "stream",
     "text": [
      "input_variables=['name', 'what'] input_types={} partial_variables={} template='请{name}讲一个{what}的故事。'\n",
      "请张三讲一个搞笑的的故事。\n"
     ]
    }
   ],
   "source": [
    "from langchain_core.prompts import load_prompt\n",
    "import dotenv\n",
    "\n",
    "# 加载配置文件\n",
    "dotenv.load_dotenv()\n",
    "\n",
    "prompt = load_prompt(\"./prompt.json\", encoding=\"utf-8\")\n",
    "print(prompt)\n",
    "print(prompt.format(name=\"张三\", what=\"搞笑的\"))"
   ],
   "metadata": {
    "collapsed": false,
    "ExecuteTime": {
     "end_time": "2025-10-29T09:15:05.217570Z",
     "start_time": "2025-10-29T09:15:05.202492Z"
    }
   },
   "id": "d06ba5322c3083e",
   "execution_count": 5
  }
 ],
 "metadata": {
  "kernelspec": {
   "display_name": "Python 3",
   "language": "python",
   "name": "python3"
  },
  "language_info": {
   "codemirror_mode": {
    "name": "ipython",
    "version": 2
   },
   "file_extension": ".py",
   "mimetype": "text/x-python",
   "name": "python",
   "nbconvert_exporter": "python",
   "pygments_lexer": "ipython2",
   "version": "2.7.6"
  }
 },
 "nbformat": 4,
 "nbformat_minor": 5
}
